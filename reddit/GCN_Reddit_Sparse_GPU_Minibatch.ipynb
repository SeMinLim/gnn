{
 "cells": [
  {
   "cell_type": "code",
   "execution_count": 1,
   "id": "aeb0bc96",
   "metadata": {},
   "outputs": [
    {
     "name": "stdout",
     "output_type": "stream",
     "text": [
      "True\n",
      "1\n",
      "0\n"
     ]
    }
   ],
   "source": [
    "# Import torch & Check CUDA availability\n",
    "import torch\n",
    "\n",
    "print(torch.cuda.is_available())\n",
    "print(torch.cuda.device_count())\n",
    "print(torch.cuda.current_device())"
   ]
  },
  {
   "cell_type": "code",
   "execution_count": 2,
   "id": "c2f37cf0",
   "metadata": {},
   "outputs": [
    {
     "name": "stdout",
     "output_type": "stream",
     "text": [
      "<torch.cuda.device object at 0x7fb4c12c2950>\n",
      "NVIDIA A100-SXM4-80GB\n"
     ]
    }
   ],
   "source": [
    "# Get CUDA device name\n",
    "print(torch.cuda.device(0))\n",
    "print(torch.cuda.get_device_name(0))"
   ]
  },
  {
   "cell_type": "markdown",
   "id": "a7ca3a51-e0d9-471f-b71f-3ee2b0185293",
   "metadata": {},
   "source": [
    "#### Import Reddit"
   ]
  },
  {
   "cell_type": "code",
   "execution_count": 3,
   "id": "c2ec2887",
   "metadata": {},
   "outputs": [
    {
     "name": "stdout",
     "output_type": "stream",
     "text": [
      "Dataset: Reddit()\n",
      "-------------------\n",
      "Number of graphs: 1\n",
      "Number of nodes: 232965\n",
      "Number of features: 602\n",
      "Number of classes: 41\n",
      "\n",
      "Graph:\n",
      "------\n",
      "Edges are directed: False\n",
      "Graph has isolated nodes: False\n",
      "Graph has loops: False\n"
     ]
    }
   ],
   "source": [
    "from torch_geometric.datasets import Reddit\n",
    "import torch_geometric.transforms as T\n",
    "\n",
    "# Import dataset from PyTorch Geometric\n",
    "dataset = Reddit(root=\"/mnt/ephemeral/gnn/dataset/Reddit\", transform=T.ToSparseTensor())\n",
    "data = dataset[0]\n",
    "data = data.pin_memory()\n",
    "\n",
    "# Print information about the dataset\n",
    "print(f'Dataset: {dataset}')\n",
    "print('-------------------')\n",
    "print(f'Number of graphs: {len(dataset)}')\n",
    "print(f'Number of nodes: {data.x.shape[0]}')\n",
    "print(f'Number of features: {dataset.num_features}')\n",
    "print(f'Number of classes: {dataset.num_classes}')\n",
    "\n",
    "# Print information about the graph\n",
    "print(f'\\nGraph:')\n",
    "print('------')\n",
    "print(f'Edges are directed: {data.is_directed()}')\n",
    "print(f'Graph has isolated nodes: {data.has_isolated_nodes()}')\n",
    "print(f'Graph has loops: {data.has_self_loops()}')"
   ]
  },
  {
   "cell_type": "markdown",
   "id": "335b3fe6-ca19-435c-af8d-20a4e1f473f9",
   "metadata": {},
   "source": [
    "#### Graph Information"
   ]
  },
  {
   "cell_type": "code",
   "execution_count": 4,
   "id": "e854ac0e",
   "metadata": {},
   "outputs": [
    {
     "name": "stdout",
     "output_type": "stream",
     "text": [
      "Graph: Data(x=[232965, 602], y=[232965], train_mask=[232965], val_mask=[232965], test_mask=[232965], adj_t=[232965, 232965, nnz=114615892])\n"
     ]
    }
   ],
   "source": [
    "# Print first element\n",
    "print(f'Graph: {data}')"
   ]
  },
  {
   "cell_type": "code",
   "execution_count": 5,
   "id": "9c9ae149",
   "metadata": {},
   "outputs": [
    {
     "name": "stdout",
     "output_type": "stream",
     "text": [
      "x = torch.Size([232965, 602])\n",
      "tensor([[ 1.2334,  9.0430, -0.9233,  ..., -0.2579,  0.3112, -0.3772],\n",
      "        [-0.1386, -0.2022,  0.1277,  ...,  0.1563,  0.1048, -0.6534],\n",
      "        [-0.1330, -0.1962, -0.0296,  ...,  0.0358,  0.2864,  0.2744],\n",
      "        ...,\n",
      "        [-0.0614, -0.2022,  0.9698,  ...,  1.1064, -1.4323, -0.2398],\n",
      "        [-0.1606, -0.2022, -0.0892,  ...,  0.7440, -0.5046, -2.2288],\n",
      "        [ 0.0929,  0.2822,  0.1768,  ...,  0.2196,  0.5967,  0.5588]])\n"
     ]
    }
   ],
   "source": [
    "# Node feature matrix information\n",
    "print(f'x = {data.x.shape}')\n",
    "print(data.x)"
   ]
  },
  {
   "cell_type": "code",
   "execution_count": 6,
   "id": "aab1e5b7",
   "metadata": {},
   "outputs": [
    {
     "name": "stdout",
     "output_type": "stream",
     "text": [
      "SparseTensor(row=tensor([     0,      0,      0,  ..., 232964, 232964, 232964]),\n",
      "             col=tensor([   242,    249,    524,  ..., 231806, 232594, 232634]),\n",
      "             size=(232965, 232965), nnz=114615892, density=0.21%)\n"
     ]
    }
   ],
   "source": [
    "# Adjacency matrix for the edges\n",
    "print(data.adj_t)"
   ]
  },
  {
   "cell_type": "code",
   "execution_count": 7,
   "id": "d8d8150c-c19d-48fb-8eaf-3bfd1b28f5ec",
   "metadata": {},
   "outputs": [
    {
     "name": "stdout",
     "output_type": "stream",
     "text": [
      "0.21118520090487738\n"
     ]
    }
   ],
   "source": [
    "# Density of adjacency matrix\n",
    "print(data.adj_t.density()*100)"
   ]
  },
  {
   "cell_type": "code",
   "execution_count": 8,
   "id": "068cb60a",
   "metadata": {},
   "outputs": [
    {
     "name": "stdout",
     "output_type": "stream",
     "text": [
      "y = torch.Size([232965])\n",
      "tensor([30, 17, 18,  ...,  3, 13, 13])\n"
     ]
    }
   ],
   "source": [
    "# Ground-truth labels\n",
    "print(f'y = {data.y.shape}')\n",
    "print(data.y)"
   ]
  },
  {
   "cell_type": "markdown",
   "id": "91984e67-57c3-48ee-a71f-67256f82f35d",
   "metadata": {},
   "source": [
    "#### Single-layer GCN"
   ]
  },
  {
   "cell_type": "code",
   "execution_count": 9,
   "id": "f2d02e6c",
   "metadata": {},
   "outputs": [],
   "source": [
    "# Create a simple GCN with only one GCN layer\n",
    "import torch.nn.functional as F\n",
    "\n",
    "from torch.nn import Linear\n",
    "from torch_geometric.nn import GCNConv\n",
    "\n",
    "class GCN(torch.nn.Module):\n",
    "    def __init__(self):\n",
    "        super().__init__()\n",
    "        self.gcn1 = GCNConv(dataset.num_features, dataset.num_classes)\n",
    "        self.optimizer = torch.optim.Adam(self.parameters(), lr=0.02)\n",
    "\n",
    "    def forward(self, x, adj_t):\n",
    "        x = self.gcn1(x, adj_t)\n",
    "        z = F.log_softmax(x, dim=1)\n",
    "        return x, z"
   ]
  },
  {
   "cell_type": "markdown",
   "id": "702383cf-c7d7-41d1-b8b2-3f6ee50e4ba8",
   "metadata": {},
   "source": [
    "#### Use mini-batch"
   ]
  },
  {
   "cell_type": "code",
   "execution_count": 18,
   "id": "65743bd4-6c7c-431a-8420-0c1f2557a7ef",
   "metadata": {},
   "outputs": [],
   "source": [
    "def accuracy(pred_y, y):\n",
    "    \"\"\"Calculate accuracy.\"\"\"\n",
    "    return ((pred_y == y).sum() / len(y)).item()\n",
    "\n",
    "def train(model, train_loader):\n",
    "    \"\"\"Train a GNN model and return the trained model.\"\"\"\n",
    "    criterion = torch.nn.CrossEntropyLoss()\n",
    "    optimizer = model.optimizer\n",
    "    epochs = 100\n",
    "\n",
    "    model.train()\n",
    "    for epoch in range(epochs):\n",
    "        # Training on batches\n",
    "        #total_loss = 0\n",
    "        #acc = 0\n",
    "        for batch in train_loader:\n",
    "            batch = batch.to('cuda:0', non_blocking=True)\n",
    "            optimizer.zero_grad()\n",
    "            h, out = model(batch.x, batch.adj_t)\n",
    "            loss = criterion(out, batch.y)\n",
    "            #total_loss += loss\n",
    "            #acc += accuracy(out.argmax(dim=1), batch.y)\n",
    "            loss.backward()\n",
    "            optimizer.step()\n",
    "\n",
    "        # Print metrics every 10 epochs\n",
    "        if(epoch % 10 == 0):\n",
    "            print(f'Epoch {epoch:>3}')\n",
    "            #print(f'Epoch {epoch:>3} | Train Loss: {total_loss/len(train_loader):.3f} | Train Acc: {acc/len(train_loader)*100:>6.2f}%')\n",
    "          \n",
    "    return model, h, out"
   ]
  },
  {
   "cell_type": "code",
   "execution_count": 19,
   "id": "31769223-7a0e-4248-b128-55c7d3cfb83a",
   "metadata": {},
   "outputs": [],
   "source": [
    "from torch_geometric.loader import NeighborLoader\n",
    "\n",
    "# NeighborLoader\n",
    "train_loader = NeighborLoader(\n",
    "    data,\n",
    "    num_neighbors=[-1],\n",
    "    batch_size=8192,\n",
    "    pin_memory=True,\n",
    "    num_workers=16,\n",
    ")"
   ]
  },
  {
   "cell_type": "code",
   "execution_count": 14,
   "id": "46200bbd-8aa3-4663-a5f5-8cdff0a06c36",
   "metadata": {},
   "outputs": [
    {
     "name": "stdout",
     "output_type": "stream",
     "text": [
      "Subgraph 0: Data(x=[207846, 602], y=[207846], train_mask=[207846], val_mask=[207846], test_mask=[207846], adj_t=[207846, 207846, nnz=4247593], n_id=[207846], e_id=[4247593], num_sampled_nodes=[2], num_sampled_edges=[1], input_id=[8192], batch_size=8192)\n",
      "Subgraph 1: Data(x=[208537, 602], y=[208537], train_mask=[208537], val_mask=[208537], test_mask=[208537], adj_t=[208537, 208537, nnz=4273074], n_id=[208537], e_id=[4273074], num_sampled_nodes=[2], num_sampled_edges=[1], input_id=[8192], batch_size=8192)\n",
      "Subgraph 2: Data(x=[207289, 602], y=[207289], train_mask=[207289], val_mask=[207289], test_mask=[207289], adj_t=[207289, 207289, nnz=4043145], n_id=[207289], e_id=[4043145], num_sampled_nodes=[2], num_sampled_edges=[1], input_id=[8192], batch_size=8192)\n",
      "Subgraph 3: Data(x=[207979, 602], y=[207979], train_mask=[207979], val_mask=[207979], test_mask=[207979], adj_t=[207979, 207979, nnz=4253757], n_id=[207979], e_id=[4253757], num_sampled_nodes=[2], num_sampled_edges=[1], input_id=[8192], batch_size=8192)\n",
      "Subgraph 4: Data(x=[207319, 602], y=[207319], train_mask=[207319], val_mask=[207319], test_mask=[207319], adj_t=[207319, 207319, nnz=4061758], n_id=[207319], e_id=[4061758], num_sampled_nodes=[2], num_sampled_edges=[1], input_id=[8192], batch_size=8192)\n",
      "Subgraph 5: Data(x=[207594, 602], y=[207594], train_mask=[207594], val_mask=[207594], test_mask=[207594], adj_t=[207594, 207594, nnz=3969684], n_id=[207594], e_id=[3969684], num_sampled_nodes=[2], num_sampled_edges=[1], input_id=[8192], batch_size=8192)\n",
      "Subgraph 6: Data(x=[207502, 602], y=[207502], train_mask=[207502], val_mask=[207502], test_mask=[207502], adj_t=[207502, 207502, nnz=4096813], n_id=[207502], e_id=[4096813], num_sampled_nodes=[2], num_sampled_edges=[1], input_id=[8192], batch_size=8192)\n",
      "Subgraph 7: Data(x=[207298, 602], y=[207298], train_mask=[207298], val_mask=[207298], test_mask=[207298], adj_t=[207298, 207298, nnz=4131624], n_id=[207298], e_id=[4131624], num_sampled_nodes=[2], num_sampled_edges=[1], input_id=[8192], batch_size=8192)\n",
      "Subgraph 8: Data(x=[207664, 602], y=[207664], train_mask=[207664], val_mask=[207664], test_mask=[207664], adj_t=[207664, 207664, nnz=4124577], n_id=[207664], e_id=[4124577], num_sampled_nodes=[2], num_sampled_edges=[1], input_id=[8192], batch_size=8192)\n",
      "Subgraph 9: Data(x=[207717, 602], y=[207717], train_mask=[207717], val_mask=[207717], test_mask=[207717], adj_t=[207717, 207717, nnz=4116563], n_id=[207717], e_id=[4116563], num_sampled_nodes=[2], num_sampled_edges=[1], input_id=[8192], batch_size=8192)\n",
      "Subgraph 10: Data(x=[207132, 602], y=[207132], train_mask=[207132], val_mask=[207132], test_mask=[207132], adj_t=[207132, 207132, nnz=4053331], n_id=[207132], e_id=[4053331], num_sampled_nodes=[2], num_sampled_edges=[1], input_id=[8192], batch_size=8192)\n",
      "Subgraph 11: Data(x=[206726, 602], y=[206726], train_mask=[206726], val_mask=[206726], test_mask=[206726], adj_t=[206726, 206726, nnz=3889831], n_id=[206726], e_id=[3889831], num_sampled_nodes=[2], num_sampled_edges=[1], input_id=[8192], batch_size=8192)\n",
      "Subgraph 12: Data(x=[206627, 602], y=[206627], train_mask=[206627], val_mask=[206627], test_mask=[206627], adj_t=[206627, 206627, nnz=3929942], n_id=[206627], e_id=[3929942], num_sampled_nodes=[2], num_sampled_edges=[1], input_id=[8192], batch_size=8192)\n",
      "Subgraph 13: Data(x=[207146, 602], y=[207146], train_mask=[207146], val_mask=[207146], test_mask=[207146], adj_t=[207146, 207146, nnz=4145614], n_id=[207146], e_id=[4145614], num_sampled_nodes=[2], num_sampled_edges=[1], input_id=[8192], batch_size=8192)\n",
      "Subgraph 14: Data(x=[208208, 602], y=[208208], train_mask=[208208], val_mask=[208208], test_mask=[208208], adj_t=[208208, 208208, nnz=4136239], n_id=[208208], e_id=[4136239], num_sampled_nodes=[2], num_sampled_edges=[1], input_id=[8192], batch_size=8192)\n",
      "Subgraph 15: Data(x=[207448, 602], y=[207448], train_mask=[207448], val_mask=[207448], test_mask=[207448], adj_t=[207448, 207448, nnz=3957743], n_id=[207448], e_id=[3957743], num_sampled_nodes=[2], num_sampled_edges=[1], input_id=[8192], batch_size=8192)\n",
      "Subgraph 16: Data(x=[207502, 602], y=[207502], train_mask=[207502], val_mask=[207502], test_mask=[207502], adj_t=[207502, 207502, nnz=4148608], n_id=[207502], e_id=[4148608], num_sampled_nodes=[2], num_sampled_edges=[1], input_id=[8192], batch_size=8192)\n",
      "Subgraph 17: Data(x=[207188, 602], y=[207188], train_mask=[207188], val_mask=[207188], test_mask=[207188], adj_t=[207188, 207188, nnz=4109240], n_id=[207188], e_id=[4109240], num_sampled_nodes=[2], num_sampled_edges=[1], input_id=[8192], batch_size=8192)\n",
      "Subgraph 18: Data(x=[207303, 602], y=[207303], train_mask=[207303], val_mask=[207303], test_mask=[207303], adj_t=[207303, 207303, nnz=4062687], n_id=[207303], e_id=[4062687], num_sampled_nodes=[2], num_sampled_edges=[1], input_id=[8192], batch_size=8192)\n",
      "Subgraph 19: Data(x=[207355, 602], y=[207355], train_mask=[207355], val_mask=[207355], test_mask=[207355], adj_t=[207355, 207355, nnz=4002658], n_id=[207355], e_id=[4002658], num_sampled_nodes=[2], num_sampled_edges=[1], input_id=[8192], batch_size=8192)\n",
      "Subgraph 20: Data(x=[207314, 602], y=[207314], train_mask=[207314], val_mask=[207314], test_mask=[207314], adj_t=[207314, 207314, nnz=3944751], n_id=[207314], e_id=[3944751], num_sampled_nodes=[2], num_sampled_edges=[1], input_id=[8192], batch_size=8192)\n",
      "Subgraph 21: Data(x=[207978, 602], y=[207978], train_mask=[207978], val_mask=[207978], test_mask=[207978], adj_t=[207978, 207978, nnz=4009148], n_id=[207978], e_id=[4009148], num_sampled_nodes=[2], num_sampled_edges=[1], input_id=[8192], batch_size=8192)\n",
      "Subgraph 22: Data(x=[207182, 602], y=[207182], train_mask=[207182], val_mask=[207182], test_mask=[207182], adj_t=[207182, 207182, nnz=3899270], n_id=[207182], e_id=[3899270], num_sampled_nodes=[2], num_sampled_edges=[1], input_id=[8192], batch_size=8192)\n",
      "Subgraph 23: Data(x=[207699, 602], y=[207699], train_mask=[207699], val_mask=[207699], test_mask=[207699], adj_t=[207699, 207699, nnz=3974133], n_id=[207699], e_id=[3974133], num_sampled_nodes=[2], num_sampled_edges=[1], input_id=[8192], batch_size=8192)\n",
      "Subgraph 24: Data(x=[206778, 602], y=[206778], train_mask=[206778], val_mask=[206778], test_mask=[206778], adj_t=[206778, 206778, nnz=3828953], n_id=[206778], e_id=[3828953], num_sampled_nodes=[2], num_sampled_edges=[1], input_id=[8192], batch_size=8192)\n",
      "Subgraph 25: Data(x=[207848, 602], y=[207848], train_mask=[207848], val_mask=[207848], test_mask=[207848], adj_t=[207848, 207848, nnz=3915721], n_id=[207848], e_id=[3915721], num_sampled_nodes=[2], num_sampled_edges=[1], input_id=[8192], batch_size=8192)\n",
      "Subgraph 26: Data(x=[207351, 602], y=[207351], train_mask=[207351], val_mask=[207351], test_mask=[207351], adj_t=[207351, 207351, nnz=3899996], n_id=[207351], e_id=[3899996], num_sampled_nodes=[2], num_sampled_edges=[1], input_id=[8192], batch_size=8192)\n",
      "Subgraph 27: Data(x=[206953, 602], y=[206953], train_mask=[206953], val_mask=[206953], test_mask=[206953], adj_t=[206953, 206953, nnz=3715991], n_id=[206953], e_id=[3715991], num_sampled_nodes=[2], num_sampled_edges=[1], input_id=[8192], batch_size=8192)\n",
      "Subgraph 28: Data(x=[187374, 602], y=[187374], train_mask=[187374], val_mask=[187374], test_mask=[187374], adj_t=[187374, 187374, nnz=1673448], n_id=[187374], e_id=[1673448], num_sampled_nodes=[2], num_sampled_edges=[1], input_id=[3589], batch_size=3589)\n"
     ]
    }
   ],
   "source": [
    "# Print each subgraph\n",
    "for i, subgraph in enumerate(train_loader):\n",
    "    print(f'Subgraph {i}: {subgraph}')"
   ]
  },
  {
   "cell_type": "code",
   "execution_count": 12,
   "id": "3bb5c12a-9bac-4bf0-8dfd-ef484c53d2fa",
   "metadata": {},
   "outputs": [
    {
     "name": "stdout",
     "output_type": "stream",
     "text": [
      "29\n"
     ]
    }
   ],
   "source": [
    "print(len(train_loader))"
   ]
  },
  {
   "cell_type": "code",
   "execution_count": 20,
   "id": "ce411dc8-dfd9-4e4b-a7a2-d56a0dd04c71",
   "metadata": {},
   "outputs": [
    {
     "name": "stdout",
     "output_type": "stream",
     "text": [
      "GCN(\n",
      "  (gcn1): GCNConv(602, 41)\n",
      ")\n",
      "\n",
      "Epoch   0\n",
      "Epoch  10\n",
      "Epoch  20\n",
      "Epoch  30\n",
      "Epoch  40\n",
      "Epoch  50\n",
      "Epoch  60\n",
      "Epoch  70\n",
      "Epoch  80\n",
      "Epoch  90\n",
      "Elapsed Time (100 Epochs): 731.8593125 seconds\n"
     ]
    }
   ],
   "source": [
    "start = torch.cuda.Event(enable_timing=True)\n",
    "end = torch.cuda.Event(enable_timing=True)\n",
    "\n",
    "# Create GCN model\n",
    "gcn = GCN()\n",
    "print(gcn)\n",
    "print()\n",
    "\n",
    "# Train\n",
    "start.record()\n",
    "gcn_model, gcn_output, final_output = train(gcn.to('cuda:0', non_blocking=True), train_loader)\n",
    "end.record()\n",
    "torch.cuda.synchronize()\n",
    "elapsed_time = start.elapsed_time(end)\n",
    "print('Elapsed Time (100 Epochs):', elapsed_time*0.001, 'seconds')"
   ]
  },
  {
   "cell_type": "code",
   "execution_count": null,
   "id": "ef67a397-1013-4296-9e5e-e44f77366af8",
   "metadata": {},
   "outputs": [],
   "source": []
  }
 ],
 "metadata": {
  "kernelspec": {
   "display_name": "Python 3 (ipykernel)",
   "language": "python",
   "name": "python3"
  },
  "language_info": {
   "codemirror_mode": {
    "name": "ipython",
    "version": 3
   },
   "file_extension": ".py",
   "mimetype": "text/x-python",
   "name": "python",
   "nbconvert_exporter": "python",
   "pygments_lexer": "ipython3",
   "version": "3.11.7"
  }
 },
 "nbformat": 4,
 "nbformat_minor": 5
}
