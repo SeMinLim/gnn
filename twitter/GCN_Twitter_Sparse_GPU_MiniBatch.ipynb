{
 "cells": [
  {
   "cell_type": "code",
   "execution_count": 1,
   "id": "7dd1d746",
   "metadata": {},
   "outputs": [
    {
     "name": "stdout",
     "output_type": "stream",
     "text": [
      "True\n",
      "1\n",
      "0\n"
     ]
    }
   ],
   "source": [
    "# Import torch & Check CUDA availability\n",
    "import torch\n",
    "\n",
    "print(torch.cuda.is_available())\n",
    "print(torch.cuda.device_count())\n",
    "print(torch.cuda.current_device())"
   ]
  },
  {
   "cell_type": "code",
   "execution_count": 2,
   "id": "33358ec9",
   "metadata": {},
   "outputs": [
    {
     "name": "stdout",
     "output_type": "stream",
     "text": [
      "<torch.cuda.device object at 0x7fbc8ed2af10>\n",
      "NVIDIA A100-SXM4-80GB\n"
     ]
    }
   ],
   "source": [
    "# Get CUDA device name\n",
    "print(torch.cuda.device(0))\n",
    "print(torch.cuda.get_device_name(0))"
   ]
  },
  {
   "cell_type": "markdown",
   "id": "809d6f0d-9652-4d02-be7f-7cf580ffa4b7",
   "metadata": {},
   "source": [
    "#### Import Twitter Dataset"
   ]
  },
  {
   "cell_type": "code",
   "execution_count": 3,
   "id": "f96e45bc",
   "metadata": {},
   "outputs": [],
   "source": [
    "# Import dataset from saved PyTorch dataset\n",
    "data = torch.load(\"/mnt/ephemeral/gnn/dataset/Twitter/twitter_sparse.pt\")"
   ]
  },
  {
   "cell_type": "markdown",
   "id": "fb06f906-c6bf-4eb3-9685-798357ed70cb",
   "metadata": {},
   "source": [
    "#### Graph Information"
   ]
  },
  {
   "cell_type": "code",
   "execution_count": 4,
   "id": "2655afe9",
   "metadata": {},
   "outputs": [
    {
     "name": "stdout",
     "output_type": "stream",
     "text": [
      "Graph: Data(x=[41652230, 16], y=[41652230], adj_t=[41652230, 41652230, nnz=2405026390])\n"
     ]
    }
   ],
   "source": [
    "# Print first element\n",
    "print(f'Graph: {data}')"
   ]
  },
  {
   "cell_type": "code",
   "execution_count": 5,
   "id": "ef5a30a8",
   "metadata": {},
   "outputs": [
    {
     "name": "stdout",
     "output_type": "stream",
     "text": [
      "x = torch.Size([41652230, 16])\n",
      "tensor([[-0.2245,  1.3572, -0.0271,  ...,  2.3032, -1.8811, -2.3928],\n",
      "        [-0.3052,  0.9633,  2.2129,  ...,  0.6190, -1.5212, -0.6997],\n",
      "        [-2.2178, -1.8188,  1.8149,  ..., -1.1661,  2.0380,  2.2890],\n",
      "        ...,\n",
      "        [-0.2966, -0.4907, -1.2873,  ...,  0.6229,  1.6473, -0.0802],\n",
      "        [ 2.0246, -1.1070, -2.4220,  ...,  0.2497,  1.7722, -0.9513],\n",
      "        [ 0.9942, -1.6089,  0.6479,  ..., -0.5970,  1.7722, -0.1598]])\n"
     ]
    }
   ],
   "source": [
    "# Node feature matrix information\n",
    "print(f'x = {data.x.shape}')\n",
    "print(data.x)"
   ]
  },
  {
   "cell_type": "code",
   "execution_count": 6,
   "id": "cf2a5409",
   "metadata": {},
   "outputs": [
    {
     "name": "stdout",
     "output_type": "stream",
     "text": [
      "SparseTensor(row=tensor([       0,        0,        0,  ..., 41652228, 41652228, 41652229]),\n",
      "             col=tensor([       1,        2,        3,  ..., 22209873, 41478284, 41650839]),\n",
      "             size=(41652230, 41652230), nnz=2405026390, density=0.00%)\n"
     ]
    }
   ],
   "source": [
    "# Adjacency matrix for the edges\n",
    "print(data.adj_t)"
   ]
  },
  {
   "cell_type": "code",
   "execution_count": 7,
   "id": "d6635d68",
   "metadata": {},
   "outputs": [
    {
     "name": "stdout",
     "output_type": "stream",
     "text": [
      "y = torch.Size([41652230])\n",
      "tensor([ 4, 10,  8,  ..., 14, 11,  2])\n"
     ]
    }
   ],
   "source": [
    "# Ground-truth labels\n",
    "print(f'y = {data.y.shape}')\n",
    "print(data.y)"
   ]
  },
  {
   "cell_type": "markdown",
   "id": "c4656ae1-3cba-472a-a079-cc6e9274f46c",
   "metadata": {},
   "source": [
    "#### Sigle-layer GCN"
   ]
  },
  {
   "cell_type": "code",
   "execution_count": 8,
   "id": "b9bfe7e9",
   "metadata": {},
   "outputs": [],
   "source": [
    "# Create a simple GCN with only one GCN layer\n",
    "import torch.nn.functional as F\n",
    "\n",
    "from torch.nn import Linear\n",
    "from torch_geometric.nn import GCNConv\n",
    "\n",
    "class GCN(torch.nn.Module):\n",
    "    def __init__(self):\n",
    "        super().__init__()\n",
    "        self.gcn1 = GCNConv(16, 16)\n",
    "        self.optimizer = torch.optim.Adam(self.parameters(), lr=0.02)\n",
    "\n",
    "    def forward(self, x, adj_t):\n",
    "        x = self.gcn1(x, adj_t)\n",
    "        z = F.log_softmax(x, dim=1)\n",
    "        return x, z"
   ]
  },
  {
   "cell_type": "markdown",
   "id": "5858df9f-30b1-4ec4-a4ed-0c45b826081f",
   "metadata": {},
   "source": [
    "#### Do use mini-batch"
   ]
  },
  {
   "cell_type": "code",
   "execution_count": 9,
   "id": "7907c483",
   "metadata": {},
   "outputs": [],
   "source": [
    "def accuracy(pred_y, y):\n",
    "    \"\"\"Calculate accuracy.\"\"\"\n",
    "    return ((pred_y == y).sum() / len(y)).item()\n",
    "\n",
    "def train(model, train_loader):\n",
    "    \"\"\"Train a GNN model and return the trained model.\"\"\"\n",
    "    criterion = torch.nn.CrossEntropyLoss()\n",
    "    optimizer = model.optimizer\n",
    "    epochs = 5\n",
    "\n",
    "    model.train()\n",
    "    for epoch in range(epochs):\n",
    "        # Training on batches\n",
    "        for batch in train_loader:\n",
    "            batch = batch.to('cuda:0', non_blocking=True)\n",
    "            optimizer.zero_grad()\n",
    "            h, out = model(batch.x, batch.adj_t)\n",
    "            loss = criterion(out, batch.y)\n",
    "            loss.backward()\n",
    "            optimizer.step()\n",
    "\n",
    "    return model, h, out"
   ]
  },
  {
   "cell_type": "markdown",
   "id": "4224ef7d-e9ca-494a-b832-bbd3915a6b5e",
   "metadata": {},
   "source": [
    "#### batch_size = 131072"
   ]
  },
  {
   "cell_type": "markdown",
   "id": "201fb36d-04e7-4aad-8edb-036dd32270c1",
   "metadata": {},
   "source": [
    "##### num_workers = 32"
   ]
  },
  {
   "cell_type": "code",
   "execution_count": 10,
   "id": "aa2c9f1b-377e-4427-8ea5-894f9a403532",
   "metadata": {},
   "outputs": [],
   "source": [
    "from torch_geometric.loader import NeighborLoader\n",
    "\n",
    "# NeighborLoader\n",
    "train_loader = NeighborLoader(\n",
    "    data,\n",
    "    num_neighbors=[-1],\n",
    "    batch_size=131072,\n",
    "    pin_memory=True,\n",
    "    num_workers=32,\n",
    ")"
   ]
  },
  {
   "cell_type": "code",
   "execution_count": 11,
   "id": "ec3f7184-f67f-43b2-9e10-52f124d23ecc",
   "metadata": {},
   "outputs": [
    {
     "name": "stdout",
     "output_type": "stream",
     "text": [
      "318\n"
     ]
    }
   ],
   "source": [
    "print(len(train_loader))"
   ]
  },
  {
   "cell_type": "code",
   "execution_count": 12,
   "id": "b02601e8",
   "metadata": {},
   "outputs": [
    {
     "name": "stdout",
     "output_type": "stream",
     "text": [
      "GCN(\n",
      "  (gcn1): GCNConv(16, 16)\n",
      ")\n",
      "\n",
      "Elapsed Time (5 Epochs): 554.0041875000001 seconds\n"
     ]
    }
   ],
   "source": [
    "start = torch.cuda.Event(enable_timing=True)\n",
    "end = torch.cuda.Event(enable_timing=True)\n",
    "\n",
    "# Create GCN model\n",
    "gcn = GCN()\n",
    "print(gcn)\n",
    "print()\n",
    "\n",
    "# Train\n",
    "start.record()\n",
    "gcn_model, gcn_output, final_output = train(gcn.to('cuda:0'), train_loader)\n",
    "end.record()\n",
    "torch.cuda.synchronize()\n",
    "elapsed_time = start.elapsed_time(end)\n",
    "print('Elapsed Time (5 Epochs):', elapsed_time*0.001, 'seconds')"
   ]
  },
  {
   "cell_type": "markdown",
   "id": "4dec3fb4-598f-430e-a297-8ad6959d7216",
   "metadata": {},
   "source": [
    "##### num_workers = 16"
   ]
  },
  {
   "cell_type": "code",
   "execution_count": 13,
   "id": "20a8c905-8ab8-47f1-a661-13de574e005a",
   "metadata": {},
   "outputs": [],
   "source": [
    "from torch_geometric.loader import NeighborLoader\n",
    "\n",
    "# NeighborLoader\n",
    "train_loader = NeighborLoader(\n",
    "    data,\n",
    "    num_neighbors=[-1],\n",
    "    batch_size=131072,\n",
    "    pin_memory=True,\n",
    "    num_workers=16,\n",
    ")"
   ]
  },
  {
   "cell_type": "code",
   "execution_count": 14,
   "id": "c37ad6e6-42ce-42b8-b87d-2b22e93014d1",
   "metadata": {},
   "outputs": [
    {
     "name": "stdout",
     "output_type": "stream",
     "text": [
      "318\n"
     ]
    }
   ],
   "source": [
    "print(len(train_loader))"
   ]
  },
  {
   "cell_type": "code",
   "execution_count": 15,
   "id": "05fe5c32-428e-40ac-845e-96cd89c767a1",
   "metadata": {},
   "outputs": [
    {
     "name": "stdout",
     "output_type": "stream",
     "text": [
      "GCN(\n",
      "  (gcn1): GCNConv(16, 16)\n",
      ")\n",
      "\n",
      "Elapsed Time (5 Epochs): 515.42 seconds\n"
     ]
    }
   ],
   "source": [
    "start = torch.cuda.Event(enable_timing=True)\n",
    "end = torch.cuda.Event(enable_timing=True)\n",
    "\n",
    "# Create GCN model\n",
    "gcn = GCN()\n",
    "print(gcn)\n",
    "print()\n",
    "\n",
    "# Train\n",
    "start.record()\n",
    "gcn_model, gcn_output, final_output = train(gcn.to('cuda:0'), train_loader)\n",
    "end.record()\n",
    "torch.cuda.synchronize()\n",
    "elapsed_time = start.elapsed_time(end)\n",
    "print('Elapsed Time (5 Epochs):', elapsed_time*0.001, 'seconds')"
   ]
  },
  {
   "cell_type": "markdown",
   "id": "70ebbc37-0f47-4b18-9913-987d25f423f4",
   "metadata": {},
   "source": [
    "##### num_workers = 8"
   ]
  },
  {
   "cell_type": "code",
   "execution_count": 16,
   "id": "00f2f640-67be-4165-8dd6-269fca532fca",
   "metadata": {},
   "outputs": [],
   "source": [
    "from torch_geometric.loader import NeighborLoader\n",
    "\n",
    "# NeighborLoader\n",
    "train_loader = NeighborLoader(\n",
    "    data,\n",
    "    num_neighbors=[-1],\n",
    "    batch_size=131072,\n",
    "    pin_memory=True,\n",
    "    num_workers=8,\n",
    ")"
   ]
  },
  {
   "cell_type": "code",
   "execution_count": 17,
   "id": "4e3825a8-8c01-48c2-9691-5a8de6bd9a28",
   "metadata": {},
   "outputs": [
    {
     "name": "stdout",
     "output_type": "stream",
     "text": [
      "318\n"
     ]
    }
   ],
   "source": [
    "print(len(train_loader))"
   ]
  },
  {
   "cell_type": "code",
   "execution_count": 18,
   "id": "ba0318c6-8641-480e-8fb9-37978a173c26",
   "metadata": {},
   "outputs": [
    {
     "name": "stdout",
     "output_type": "stream",
     "text": [
      "GCN(\n",
      "  (gcn1): GCNConv(16, 16)\n",
      ")\n",
      "\n",
      "Elapsed Time (100 Epochs): 510.18850000000003 seconds\n"
     ]
    }
   ],
   "source": [
    "start = torch.cuda.Event(enable_timing=True)\n",
    "end = torch.cuda.Event(enable_timing=True)\n",
    "\n",
    "# Create GCN model\n",
    "gcn = GCN()\n",
    "print(gcn)\n",
    "print()\n",
    "\n",
    "# Train\n",
    "start.record()\n",
    "gcn_model, gcn_output, final_output = train(gcn.to('cuda:0'), train_loader)\n",
    "end.record()\n",
    "torch.cuda.synchronize()\n",
    "elapsed_time = start.elapsed_time(end)\n",
    "print('Elapsed Time (100 Epochs):', elapsed_time*0.001, 'seconds')"
   ]
  },
  {
   "cell_type": "markdown",
   "id": "26d48115-d35d-4945-9b0a-7f523b30f08b",
   "metadata": {},
   "source": [
    "##### num_workers = 4"
   ]
  },
  {
   "cell_type": "code",
   "execution_count": 19,
   "id": "ec8794a8-e1ee-447b-8099-a65c27e5090c",
   "metadata": {},
   "outputs": [],
   "source": [
    "from torch_geometric.loader import NeighborLoader\n",
    "\n",
    "# NeighborLoader\n",
    "train_loader = NeighborLoader(\n",
    "    data,\n",
    "    num_neighbors=[-1],\n",
    "    batch_size=131072,\n",
    "    pin_memory=True,\n",
    "    num_workers=4,\n",
    ")"
   ]
  },
  {
   "cell_type": "code",
   "execution_count": 20,
   "id": "eda997b6-8279-4b10-a55c-dd88c1263c7c",
   "metadata": {},
   "outputs": [
    {
     "name": "stdout",
     "output_type": "stream",
     "text": [
      "318\n"
     ]
    }
   ],
   "source": [
    "print(len(train_loader))"
   ]
  },
  {
   "cell_type": "code",
   "execution_count": 21,
   "id": "ea9beaab-7e6d-4e20-bfbd-90b71c55748e",
   "metadata": {},
   "outputs": [
    {
     "name": "stdout",
     "output_type": "stream",
     "text": [
      "GCN(\n",
      "  (gcn1): GCNConv(16, 16)\n",
      ")\n",
      "\n",
      "Elapsed Time (100 Epochs): 644.4569375 seconds\n"
     ]
    }
   ],
   "source": [
    "start = torch.cuda.Event(enable_timing=True)\n",
    "end = torch.cuda.Event(enable_timing=True)\n",
    "\n",
    "# Create GCN model\n",
    "gcn = GCN()\n",
    "print(gcn)\n",
    "print()\n",
    "\n",
    "# Train\n",
    "start.record()\n",
    "gcn_model, gcn_output, final_output = train(gcn.to('cuda:0'), train_loader)\n",
    "end.record()\n",
    "torch.cuda.synchronize()\n",
    "elapsed_time = start.elapsed_time(end)\n",
    "print('Elapsed Time (100 Epochs):', elapsed_time*0.001, 'seconds')"
   ]
  },
  {
   "cell_type": "markdown",
   "id": "c4b8a090-a3c1-40f8-9b8f-15e35c61b798",
   "metadata": {},
   "source": [
    "##### num_workers = 2"
   ]
  },
  {
   "cell_type": "code",
   "execution_count": 22,
   "id": "ca9fd462-88d5-4ca7-9658-825df028aec2",
   "metadata": {},
   "outputs": [],
   "source": [
    "from torch_geometric.loader import NeighborLoader\n",
    "\n",
    "# NeighborLoader\n",
    "train_loader = NeighborLoader(\n",
    "    data,\n",
    "    num_neighbors=[-1],\n",
    "    batch_size=131072,\n",
    "    pin_memory=True,\n",
    "    num_workers=2,\n",
    ")"
   ]
  },
  {
   "cell_type": "code",
   "execution_count": 23,
   "id": "a633d529-33e8-43ac-8836-d3aaed492702",
   "metadata": {},
   "outputs": [
    {
     "name": "stdout",
     "output_type": "stream",
     "text": [
      "318\n"
     ]
    }
   ],
   "source": [
    "print(len(train_loader))"
   ]
  },
  {
   "cell_type": "code",
   "execution_count": 24,
   "id": "7c86e1a4-5f91-42d2-9b8c-4e5c43db2991",
   "metadata": {},
   "outputs": [
    {
     "name": "stdout",
     "output_type": "stream",
     "text": [
      "GCN(\n",
      "  (gcn1): GCNConv(16, 16)\n",
      ")\n",
      "\n",
      "Elapsed Time (100 Epochs): 1164.026 seconds\n"
     ]
    }
   ],
   "source": [
    "start = torch.cuda.Event(enable_timing=True)\n",
    "end = torch.cuda.Event(enable_timing=True)\n",
    "\n",
    "# Create GCN model\n",
    "gcn = GCN()\n",
    "print(gcn)\n",
    "print()\n",
    "\n",
    "# Train\n",
    "start.record()\n",
    "gcn_model, gcn_output, final_output = train(gcn.to('cuda:0'), train_loader)\n",
    "end.record()\n",
    "torch.cuda.synchronize()\n",
    "elapsed_time = start.elapsed_time(end)\n",
    "print('Elapsed Time (100 Epochs):', elapsed_time*0.001, 'seconds')"
   ]
  },
  {
   "cell_type": "markdown",
   "id": "4eb1f5a0-e810-46e5-91f8-8ce53b70f27b",
   "metadata": {},
   "source": [
    "##### num_workers = 0"
   ]
  },
  {
   "cell_type": "code",
   "execution_count": 25,
   "id": "2291d816-0acd-47db-8633-c4d1f572b376",
   "metadata": {},
   "outputs": [],
   "source": [
    "from torch_geometric.loader import NeighborLoader\n",
    "\n",
    "# NeighborLoader\n",
    "train_loader = NeighborLoader(\n",
    "    data,\n",
    "    num_neighbors=[-1],\n",
    "    batch_size=131072,\n",
    "    pin_memory=True,\n",
    ")"
   ]
  },
  {
   "cell_type": "code",
   "execution_count": 26,
   "id": "7a4e135a-f26f-4cfe-a160-8699b595b8fe",
   "metadata": {},
   "outputs": [
    {
     "name": "stdout",
     "output_type": "stream",
     "text": [
      "318\n"
     ]
    }
   ],
   "source": [
    "print(len(train_loader))"
   ]
  },
  {
   "cell_type": "code",
   "execution_count": 27,
   "id": "944c62f1-03f5-4041-9929-a0bb8b101253",
   "metadata": {},
   "outputs": [
    {
     "name": "stdout",
     "output_type": "stream",
     "text": [
      "GCN(\n",
      "  (gcn1): GCNConv(16, 16)\n",
      ")\n",
      "\n",
      "Elapsed Time (100 Epochs): 1747.88375 seconds\n"
     ]
    }
   ],
   "source": [
    "start = torch.cuda.Event(enable_timing=True)\n",
    "end = torch.cuda.Event(enable_timing=True)\n",
    "\n",
    "# Create GCN model\n",
    "gcn = GCN()\n",
    "print(gcn)\n",
    "print()\n",
    "\n",
    "# Train\n",
    "start.record()\n",
    "gcn_model, gcn_output, final_output = train(gcn.to('cuda:0'), train_loader)\n",
    "end.record()\n",
    "torch.cuda.synchronize()\n",
    "elapsed_time = start.elapsed_time(end)\n",
    "print('Elapsed Time (100 Epochs):', elapsed_time*0.001, 'seconds')"
   ]
  },
  {
   "cell_type": "markdown",
   "id": "ab65f686-a327-4803-8df5-058ed0af6b3c",
   "metadata": {},
   "source": [
    "#### batch_size = 262144"
   ]
  },
  {
   "cell_type": "markdown",
   "id": "ed53ad7f-f12c-4e34-8306-4def997fa09e",
   "metadata": {},
   "source": [
    "##### num_workers = 32"
   ]
  },
  {
   "cell_type": "code",
   "execution_count": 28,
   "id": "6dd61052-f94d-4b3e-a254-1ba6814dc30f",
   "metadata": {},
   "outputs": [],
   "source": [
    "from torch_geometric.loader import NeighborLoader\n",
    "\n",
    "# NeighborLoader\n",
    "train_loader = NeighborLoader(\n",
    "    data,\n",
    "    num_neighbors=[-1],\n",
    "    batch_size=262144,\n",
    "    pin_memory=True,\n",
    "    num_workers=32,\n",
    ")"
   ]
  },
  {
   "cell_type": "code",
   "execution_count": 29,
   "id": "4911c728-fe78-4a6c-94c4-b83fff30b841",
   "metadata": {},
   "outputs": [
    {
     "name": "stdout",
     "output_type": "stream",
     "text": [
      "159\n"
     ]
    }
   ],
   "source": [
    "print(len(train_loader))"
   ]
  },
  {
   "cell_type": "code",
   "execution_count": 30,
   "id": "5104f340-44b2-4409-9799-5a3fc4551528",
   "metadata": {},
   "outputs": [
    {
     "name": "stdout",
     "output_type": "stream",
     "text": [
      "GCN(\n",
      "  (gcn1): GCNConv(16, 16)\n",
      ")\n",
      "\n",
      "Elapsed Time (5 Epochs): 504.7018125 seconds\n"
     ]
    }
   ],
   "source": [
    "start = torch.cuda.Event(enable_timing=True)\n",
    "end = torch.cuda.Event(enable_timing=True)\n",
    "\n",
    "# Create GCN model\n",
    "gcn = GCN()\n",
    "print(gcn)\n",
    "print()\n",
    "\n",
    "# Train\n",
    "start.record()\n",
    "gcn_model, gcn_output, final_output = train(gcn.to('cuda:0'), train_loader)\n",
    "end.record()\n",
    "torch.cuda.synchronize()\n",
    "elapsed_time = start.elapsed_time(end)\n",
    "print('Elapsed Time (5 Epochs):', elapsed_time*0.001, 'seconds')"
   ]
  },
  {
   "cell_type": "markdown",
   "id": "e981220b-e2c2-4020-8ccd-3cbb4287796b",
   "metadata": {},
   "source": [
    "##### num_workers = 16"
   ]
  },
  {
   "cell_type": "code",
   "execution_count": 37,
   "id": "087063d5-55e5-4069-be19-9e8cfeafc92d",
   "metadata": {},
   "outputs": [],
   "source": [
    "from torch_geometric.loader import NeighborLoader\n",
    "\n",
    "# NeighborLoader\n",
    "train_loader = NeighborLoader(\n",
    "    data,\n",
    "    num_neighbors=[-1],\n",
    "    batch_size=262144,\n",
    "    pin_memory=True,\n",
    "    num_workers=16,\n",
    ")"
   ]
  },
  {
   "cell_type": "code",
   "execution_count": 38,
   "id": "493aa02d-cc7e-4bd4-a9d2-e5fb6324fcbf",
   "metadata": {},
   "outputs": [
    {
     "name": "stdout",
     "output_type": "stream",
     "text": [
      "159\n"
     ]
    }
   ],
   "source": [
    "print(len(train_loader))"
   ]
  },
  {
   "cell_type": "code",
   "execution_count": 39,
   "id": "77cc81cb-3248-4370-9a34-d2e20c0da69f",
   "metadata": {},
   "outputs": [
    {
     "name": "stdout",
     "output_type": "stream",
     "text": [
      "GCN(\n",
      "  (gcn1): GCNConv(16, 16)\n",
      ")\n",
      "\n",
      "Elapsed Time (5 Epochs): 487.49878125000004 seconds\n"
     ]
    }
   ],
   "source": [
    "start = torch.cuda.Event(enable_timing=True)\n",
    "end = torch.cuda.Event(enable_timing=True)\n",
    "\n",
    "# Create GCN model\n",
    "gcn = GCN()\n",
    "print(gcn)\n",
    "print()\n",
    "\n",
    "# Train\n",
    "start.record()\n",
    "gcn_model, gcn_output, final_output = train(gcn.to('cuda:0'), train_loader)\n",
    "end.record()\n",
    "torch.cuda.synchronize()\n",
    "elapsed_time = start.elapsed_time(end)\n",
    "print('Elapsed Time (5 Epochs):', elapsed_time*0.001, 'seconds')"
   ]
  },
  {
   "cell_type": "markdown",
   "id": "c8615cc5-916a-4334-8fff-20f1854ecfd1",
   "metadata": {},
   "source": [
    "#### batch_size = 524288"
   ]
  },
  {
   "cell_type": "markdown",
   "id": "c286243c-1c55-476e-87c5-dce06324f859",
   "metadata": {},
   "source": [
    "##### num_workers = 32"
   ]
  },
  {
   "cell_type": "code",
   "execution_count": 31,
   "id": "f85672fd-5b54-4d57-9beb-3e1a2d533266",
   "metadata": {},
   "outputs": [],
   "source": [
    "from torch_geometric.loader import NeighborLoader\n",
    "\n",
    "# NeighborLoader\n",
    "train_loader = NeighborLoader(\n",
    "    data,\n",
    "    num_neighbors=[-1],\n",
    "    batch_size=524288,\n",
    "    pin_memory=True,\n",
    "    num_workers=32,\n",
    ")"
   ]
  },
  {
   "cell_type": "code",
   "execution_count": 32,
   "id": "d57396ef-e01f-478c-b718-1b969ed1c558",
   "metadata": {},
   "outputs": [
    {
     "name": "stdout",
     "output_type": "stream",
     "text": [
      "80\n"
     ]
    }
   ],
   "source": [
    "print(len(train_loader))"
   ]
  },
  {
   "cell_type": "code",
   "execution_count": 33,
   "id": "b696f609-1f14-427b-a54a-4a40e575debf",
   "metadata": {},
   "outputs": [
    {
     "name": "stdout",
     "output_type": "stream",
     "text": [
      "GCN(\n",
      "  (gcn1): GCNConv(16, 16)\n",
      ")\n",
      "\n",
      "Elapsed Time (5 Epochs): 502.61262500000004 seconds\n"
     ]
    }
   ],
   "source": [
    "start = torch.cuda.Event(enable_timing=True)\n",
    "end = torch.cuda.Event(enable_timing=True)\n",
    "\n",
    "# Create GCN model\n",
    "gcn = GCN()\n",
    "print(gcn)\n",
    "print()\n",
    "\n",
    "# Train\n",
    "start.record()\n",
    "gcn_model, gcn_output, final_output = train(gcn.to('cuda:0'), train_loader)\n",
    "end.record()\n",
    "torch.cuda.synchronize()\n",
    "elapsed_time = start.elapsed_time(end)\n",
    "print('Elapsed Time (5 Epochs):', elapsed_time*0.001, 'seconds')"
   ]
  },
  {
   "cell_type": "markdown",
   "id": "fa7deb5e-b63d-4822-a973-ea1c27c9fa3b",
   "metadata": {},
   "source": [
    "##### num_workers = 16"
   ]
  },
  {
   "cell_type": "code",
   "execution_count": 40,
   "id": "7e465998-f22b-434f-8e4b-2c0cf1b58934",
   "metadata": {},
   "outputs": [],
   "source": [
    "from torch_geometric.loader import NeighborLoader\n",
    "\n",
    "# NeighborLoader\n",
    "train_loader = NeighborLoader(\n",
    "    data,\n",
    "    num_neighbors=[-1],\n",
    "    batch_size=524288,\n",
    "    pin_memory=True,\n",
    "    num_workers=16,\n",
    ")"
   ]
  },
  {
   "cell_type": "code",
   "execution_count": 41,
   "id": "61a204ee-1b60-44ef-a0ad-5d1358590dd4",
   "metadata": {},
   "outputs": [
    {
     "name": "stdout",
     "output_type": "stream",
     "text": [
      "80\n"
     ]
    }
   ],
   "source": [
    "print(len(train_loader))"
   ]
  },
  {
   "cell_type": "code",
   "execution_count": 42,
   "id": "aa76fd80-971f-426e-93ca-adb1029625ae",
   "metadata": {},
   "outputs": [
    {
     "name": "stdout",
     "output_type": "stream",
     "text": [
      "GCN(\n",
      "  (gcn1): GCNConv(16, 16)\n",
      ")\n",
      "\n",
      "Elapsed Time (5 Epochs): 476.39862500000004 seconds\n"
     ]
    }
   ],
   "source": [
    "start = torch.cuda.Event(enable_timing=True)\n",
    "end = torch.cuda.Event(enable_timing=True)\n",
    "\n",
    "# Create GCN model\n",
    "gcn = GCN()\n",
    "print(gcn)\n",
    "print()\n",
    "\n",
    "# Train\n",
    "start.record()\n",
    "gcn_model, gcn_output, final_output = train(gcn.to('cuda:0'), train_loader)\n",
    "end.record()\n",
    "torch.cuda.synchronize()\n",
    "elapsed_time = start.elapsed_time(end)\n",
    "print('Elapsed Time (5 Epochs):', elapsed_time*0.001, 'seconds')"
   ]
  },
  {
   "cell_type": "markdown",
   "id": "d144e35d-4400-4aaa-81b9-c0de91c9e9f5",
   "metadata": {},
   "source": [
    "#### batch_size = 1048576"
   ]
  },
  {
   "cell_type": "markdown",
   "id": "cd88181c-af31-4db8-8916-82cd967bb00b",
   "metadata": {},
   "source": [
    "##### num_workers = 32"
   ]
  },
  {
   "cell_type": "code",
   "execution_count": 34,
   "id": "9101488c-2a48-4e63-93b7-c42da128e444",
   "metadata": {},
   "outputs": [],
   "source": [
    "from torch_geometric.loader import NeighborLoader\n",
    "\n",
    "# NeighborLoader\n",
    "train_loader = NeighborLoader(\n",
    "    data,\n",
    "    num_neighbors=[-1],\n",
    "    batch_size=1048576,\n",
    "    pin_memory=True,\n",
    "    num_workers=32,\n",
    ")"
   ]
  },
  {
   "cell_type": "code",
   "execution_count": 35,
   "id": "365774e1-a1a3-4699-bf99-ca7170e2f813",
   "metadata": {},
   "outputs": [
    {
     "name": "stdout",
     "output_type": "stream",
     "text": [
      "40\n"
     ]
    }
   ],
   "source": [
    "print(len(train_loader))"
   ]
  },
  {
   "cell_type": "code",
   "execution_count": 36,
   "id": "e8ab86eb-6ebc-4066-b6d8-6ecc74ff17b5",
   "metadata": {},
   "outputs": [
    {
     "name": "stdout",
     "output_type": "stream",
     "text": [
      "GCN(\n",
      "  (gcn1): GCNConv(16, 16)\n",
      ")\n",
      "\n",
      "Elapsed Time (5 Epochs): 541.912 seconds\n"
     ]
    }
   ],
   "source": [
    "start = torch.cuda.Event(enable_timing=True)\n",
    "end = torch.cuda.Event(enable_timing=True)\n",
    "\n",
    "# Create GCN model\n",
    "gcn = GCN()\n",
    "print(gcn)\n",
    "print()\n",
    "\n",
    "# Train\n",
    "start.record()\n",
    "gcn_model, gcn_output, final_output = train(gcn.to('cuda:0'), train_loader)\n",
    "end.record()\n",
    "torch.cuda.synchronize()\n",
    "elapsed_time = start.elapsed_time(end)\n",
    "print('Elapsed Time (5 Epochs):', elapsed_time*0.001, 'seconds')"
   ]
  },
  {
   "cell_type": "markdown",
   "id": "db27f97d-7d69-406c-bef3-a681f835250f",
   "metadata": {},
   "source": [
    "##### num_workers = 16"
   ]
  },
  {
   "cell_type": "code",
   "execution_count": 43,
   "id": "17af513c-acb7-4dae-bbf5-049120398b8d",
   "metadata": {},
   "outputs": [],
   "source": [
    "from torch_geometric.loader import NeighborLoader\n",
    "\n",
    "# NeighborLoader\n",
    "train_loader = NeighborLoader(\n",
    "    data,\n",
    "    num_neighbors=[-1],\n",
    "    batch_size=1048576,\n",
    "    pin_memory=True,\n",
    "    num_workers=16,\n",
    ")"
   ]
  },
  {
   "cell_type": "code",
   "execution_count": 44,
   "id": "8e7a369f-03a6-4ce7-bc14-3df55d1b8c73",
   "metadata": {},
   "outputs": [
    {
     "name": "stdout",
     "output_type": "stream",
     "text": [
      "40\n"
     ]
    }
   ],
   "source": [
    "print(len(train_loader))"
   ]
  },
  {
   "cell_type": "code",
   "execution_count": 45,
   "id": "303b62e3-d56d-4220-9462-90b5f05c5df9",
   "metadata": {},
   "outputs": [
    {
     "name": "stdout",
     "output_type": "stream",
     "text": [
      "GCN(\n",
      "  (gcn1): GCNConv(16, 16)\n",
      ")\n",
      "\n",
      "Elapsed Time (5 Epochs): 487.27059375 seconds\n"
     ]
    }
   ],
   "source": [
    "start = torch.cuda.Event(enable_timing=True)\n",
    "end = torch.cuda.Event(enable_timing=True)\n",
    "\n",
    "# Create GCN model\n",
    "gcn = GCN()\n",
    "print(gcn)\n",
    "print()\n",
    "\n",
    "# Train\n",
    "start.record()\n",
    "gcn_model, gcn_output, final_output = train(gcn.to('cuda:0'), train_loader)\n",
    "end.record()\n",
    "torch.cuda.synchronize()\n",
    "elapsed_time = start.elapsed_time(end)\n",
    "print('Elapsed Time (5 Epochs):', elapsed_time*0.001, 'seconds')"
   ]
  },
  {
   "cell_type": "code",
   "execution_count": null,
   "id": "fa88e0af-07cd-4cfe-82e4-4c01f2dd4869",
   "metadata": {},
   "outputs": [],
   "source": []
  }
 ],
 "metadata": {
  "kernelspec": {
   "display_name": "Python 3 (ipykernel)",
   "language": "python",
   "name": "python3"
  },
  "language_info": {
   "codemirror_mode": {
    "name": "ipython",
    "version": 3
   },
   "file_extension": ".py",
   "mimetype": "text/x-python",
   "name": "python",
   "nbconvert_exporter": "python",
   "pygments_lexer": "ipython3",
   "version": "3.11.7"
  }
 },
 "nbformat": 4,
 "nbformat_minor": 5
}
