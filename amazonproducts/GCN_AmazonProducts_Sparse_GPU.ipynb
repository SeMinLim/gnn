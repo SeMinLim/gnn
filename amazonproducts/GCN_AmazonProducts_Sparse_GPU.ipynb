{
 "cells": [
  {
   "cell_type": "code",
   "execution_count": 1,
   "id": "4373025b",
   "metadata": {},
   "outputs": [
    {
     "name": "stdout",
     "output_type": "stream",
     "text": [
      "True\n",
      "1\n",
      "0\n"
     ]
    }
   ],
   "source": [
    "# Import torch & Check CUDA availability\n",
    "import torch\n",
    "\n",
    "print(torch.cuda.is_available())\n",
    "print(torch.cuda.device_count())\n",
    "print(torch.cuda.current_device())"
   ]
  },
  {
   "cell_type": "code",
   "execution_count": 2,
   "id": "ec2020bf",
   "metadata": {},
   "outputs": [
    {
     "name": "stdout",
     "output_type": "stream",
     "text": [
      "<torch.cuda.device object at 0x7fb07990bc10>\n",
      "NVIDIA A100-SXM4-80GB\n"
     ]
    }
   ],
   "source": [
    "# Get CUDA device name\n",
    "print(torch.cuda.device(0))\n",
    "print(torch.cuda.get_device_name(0))"
   ]
  },
  {
   "cell_type": "markdown",
   "id": "91fe19d4-a2f7-4f18-98ba-299dbd4d7478",
   "metadata": {},
   "source": [
    "#### Import AmazonProducts"
   ]
  },
  {
   "cell_type": "code",
   "execution_count": 3,
   "id": "33b7c753",
   "metadata": {},
   "outputs": [
    {
     "name": "stdout",
     "output_type": "stream",
     "text": [
      "Dataset: AmazonProducts()\n",
      "-------------------\n",
      "Number of graphs: 1\n",
      "Number of nodes: 1569960\n",
      "Number of features: 200\n",
      "Number of classes: 107\n",
      "\n",
      "Graph:\n",
      "------\n",
      "Edges are directed: False\n",
      "Graph has isolated nodes: True\n",
      "Graph has loops: True\n"
     ]
    }
   ],
   "source": [
    "from torch_geometric.datasets import AmazonProducts\n",
    "import torch_geometric.transforms as T\n",
    "\n",
    "# Import dataset from PyTorch Geometric\n",
    "dataset = AmazonProducts(root=\"/mnt/ephemeral/gnn/dataset/AmazonProducts\", transform=T.ToSparseTensor())\n",
    "data = dataset[0]\n",
    "data = data.pin_memory()\n",
    "\n",
    "# Print information about the dataset\n",
    "print(f'Dataset: {dataset}')\n",
    "print('-------------------')\n",
    "print(f'Number of graphs: {len(dataset)}')\n",
    "print(f'Number of nodes: {data.x.shape[0]}')\n",
    "print(f'Number of features: {dataset.num_features}')\n",
    "print(f'Number of classes: {dataset.num_classes}')\n",
    "\n",
    "# Print information about the graph\n",
    "print(f'\\nGraph:')\n",
    "print('------')\n",
    "print(f'Edges are directed: {data.is_directed()}')\n",
    "print(f'Graph has isolated nodes: {data.has_isolated_nodes()}')\n",
    "print(f'Graph has loops: {data.has_self_loops()}')"
   ]
  },
  {
   "cell_type": "markdown",
   "id": "00a25856-5433-48c7-8b64-28abe5f0c2d6",
   "metadata": {},
   "source": [
    "#### Graph Information"
   ]
  },
  {
   "cell_type": "code",
   "execution_count": 4,
   "id": "7b3cb5d0",
   "metadata": {},
   "outputs": [
    {
     "name": "stdout",
     "output_type": "stream",
     "text": [
      "Graph: Data(x=[1569960, 200], y=[1569960, 107], train_mask=[1569960], val_mask=[1569960], test_mask=[1569960], adj_t=[1569960, 1569960, nnz=264339468])\n"
     ]
    }
   ],
   "source": [
    "# Print first element\n",
    "print(f'Graph: {data}')"
   ]
  },
  {
   "cell_type": "code",
   "execution_count": 5,
   "id": "ed788b54",
   "metadata": {},
   "outputs": [
    {
     "name": "stdout",
     "output_type": "stream",
     "text": [
      "x = torch.Size([1569960, 200])\n",
      "tensor([[-0.1466,  0.2226, -0.3597,  ...,  0.1699,  0.8974,  1.6527],\n",
      "        [-0.2805,  0.0190,  0.4301,  ..., -1.1758, -1.8365, -1.1693],\n",
      "        [ 0.2554,  0.2519, -0.0291,  ...,  1.3751, -0.0735,  0.6262],\n",
      "        ...,\n",
      "        [-0.8121,  0.3626, -0.7781,  ...,  0.0639,  0.8645,  0.0389],\n",
      "        [ 1.5977, -2.3989, -0.0569,  ..., -1.4413,  0.2966,  0.0985],\n",
      "        [-0.1663,  0.0629, -0.0474,  ...,  0.1853, -0.1216, -0.9181]])\n"
     ]
    }
   ],
   "source": [
    "# Node feature matrix information\n",
    "print(f'x = {data.x.shape}')\n",
    "print(data.x)"
   ]
  },
  {
   "cell_type": "code",
   "execution_count": 6,
   "id": "52a22706",
   "metadata": {},
   "outputs": [
    {
     "name": "stdout",
     "output_type": "stream",
     "text": [
      "SparseTensor(row=tensor([      0,       0,       0,  ..., 1569958, 1569959, 1569959]),\n",
      "             col=tensor([      0,   83053,  210735,  ..., 1569958, 1178338, 1569959]),\n",
      "             size=(1569960, 1569960), nnz=264339468, density=0.01%)\n"
     ]
    }
   ],
   "source": [
    "# Adjacency matrix for the edges\n",
    "print(data.adj_t)"
   ]
  },
  {
   "cell_type": "code",
   "execution_count": 7,
   "id": "361d2342-2a53-4bd7-bef5-0bbf425c6703",
   "metadata": {},
   "outputs": [
    {
     "name": "stdout",
     "output_type": "stream",
     "text": [
      "0.010724692200162617\n"
     ]
    }
   ],
   "source": [
    "# Density of adjacency matrix\n",
    "print(data.adj_t.density()*100)"
   ]
  },
  {
   "cell_type": "code",
   "execution_count": 8,
   "id": "8dd7b5e9",
   "metadata": {},
   "outputs": [
    {
     "name": "stdout",
     "output_type": "stream",
     "text": [
      "y(one-hot) = torch.Size([1569960, 107])\n",
      "tensor([[0, 0, 0,  ..., 0, 0, 0],\n",
      "        [0, 0, 0,  ..., 0, 0, 0],\n",
      "        [0, 0, 0,  ..., 0, 0, 0],\n",
      "        ...,\n",
      "        [0, 0, 0,  ..., 0, 0, 0],\n",
      "        [0, 0, 0,  ..., 0, 0, 0],\n",
      "        [0, 0, 0,  ..., 0, 0, 0]])\n",
      "y(label) = torch.Size([1569960])\n",
      "tensor([43, 37, 76,  ..., 99, 14, 80])\n"
     ]
    }
   ],
   "source": [
    "# Ground-truth labels\n",
    "print(f'y(one-hot) = {data.y.shape}')\n",
    "print(data.y)\n",
    "data.y = torch.argmax(data.y, dim=1)\n",
    "print(f'y(label) = {data.y.shape}')\n",
    "print(data.y)"
   ]
  },
  {
   "cell_type": "code",
   "execution_count": 9,
   "id": "c0bedb3d",
   "metadata": {},
   "outputs": [
    {
     "name": "stdout",
     "output_type": "stream",
     "text": [
      "train_mask = torch.Size([1569960])\n",
      "tensor([ True,  True, False,  ..., False,  True,  True])\n"
     ]
    }
   ],
   "source": [
    "# Train mask\n",
    "print(f'train_mask = {data.train_mask.shape}')\n",
    "print(data.train_mask)"
   ]
  },
  {
   "cell_type": "markdown",
   "id": "1fbf30c1-12d5-48e1-b24d-fde6aa7dd2db",
   "metadata": {},
   "source": [
    "#### Single-layer GCN"
   ]
  },
  {
   "cell_type": "code",
   "execution_count": 10,
   "id": "4b1a6764",
   "metadata": {},
   "outputs": [],
   "source": [
    "# Create a simple GCN with only one GCN layer\n",
    "import torch.nn.functional as F\n",
    "\n",
    "from torch.nn import Linear\n",
    "from torch_geometric.nn import GCNConv\n",
    "\n",
    "class GCN(torch.nn.Module):\n",
    "    def __init__(self):\n",
    "        super().__init__()\n",
    "        self.gcn1 = GCNConv(dataset.num_features, dataset.num_classes)\n",
    "        self.optimizer = torch.optim.Adam(self.parameters(), lr=0.02)\n",
    "\n",
    "    def forward(self, x, adj_t):\n",
    "        x = self.gcn1(x, adj_t)\n",
    "        z = F.log_softmax(x, dim=1)\n",
    "        return x, z"
   ]
  },
  {
   "cell_type": "markdown",
   "id": "7c10a6ba-8f5e-4a73-b6b1-63f15330e8e1",
   "metadata": {},
   "source": [
    "#### To get GFLOPS result"
   ]
  },
  {
   "cell_type": "code",
   "execution_count": 11,
   "id": "44a3bed6-d4d1-4a07-8a7b-103bbd657f7f",
   "metadata": {},
   "outputs": [],
   "source": [
    "def accuracy(pred_y, y):\n",
    "    \"\"\"Calculate accuracy.\"\"\"\n",
    "    return ((pred_y == y).sum() / len(y)).item()\n",
    "\n",
    "def train(model, data):\n",
    "    \"\"\"Train a GNN model and return the trained model.\"\"\"\n",
    "    criterion = torch.nn.CrossEntropyLoss().cuda()\n",
    "    optimizer = model.optimizer\n",
    "    epochs = 100\n",
    "\n",
    "    model.train()\n",
    "    for epoch in range(epochs):\n",
    "        # Training\n",
    "        optimizer.zero_grad()\n",
    "        h, out = model(data.x, data.adj_t)\n",
    "        loss = criterion(out, data.y)\n",
    "        #acc = accuracy(out[data.train_mask].argmax(dim=1), data.y[data.train_mask])\n",
    "        loss.backward()\n",
    "        optimizer.step()\n",
    "\n",
    "        # Print metrics every 10 epochs\n",
    "        #if(epoch % 10 == 0):\n",
    "            #print('Epoch:', epoch)\n",
    "            #print(f'Epoch {epoch:>3} | Train Loss: {loss:.3f} | Train Acc: {acc*100:>6.2f}%')\n",
    "          \n",
    "    return model, h, out"
   ]
  },
  {
   "cell_type": "code",
   "execution_count": 12,
   "id": "327e6dba-643d-46dc-98ed-8829885f69e3",
   "metadata": {},
   "outputs": [
    {
     "name": "stdout",
     "output_type": "stream",
     "text": [
      "GCN(\n",
      "  (gcn1): GCNConv(200, 107)\n",
      ")\n",
      "\n",
      "Elapsed Time (100 Epochs): 104.8043203125 seconds\n"
     ]
    }
   ],
   "source": [
    "start = torch.cuda.Event(enable_timing=True)\n",
    "end = torch.cuda.Event(enable_timing=True)\n",
    "\n",
    "# Create GCN model\n",
    "gcn = GCN()\n",
    "print(gcn)\n",
    "print()\n",
    "\n",
    "# Train\n",
    "start.record()\n",
    "gcn_model, gcn_output, final_output = train(gcn.to('cuda:0'), data.to('cuda:0', non_blocking=True))\n",
    "end.record()\n",
    "torch.cuda.synchronize()\n",
    "elapsed_time = start.elapsed_time(end)\n",
    "print('Elapsed Time (100 Epochs):', elapsed_time*0.001, 'seconds')"
   ]
  },
  {
   "cell_type": "markdown",
   "id": "fea41551-c7f8-48fd-99ef-3f46acd1560e",
   "metadata": {},
   "source": [
    "#### To get accuracy result"
   ]
  },
  {
   "cell_type": "code",
   "execution_count": 11,
   "id": "374eb3b7-da16-4f2c-ac2c-807f46bcf5b5",
   "metadata": {},
   "outputs": [],
   "source": [
    "def accuracy(pred_y, y):\n",
    "    \"\"\"Calculate accuracy.\"\"\"\n",
    "    return ((pred_y == y).sum() / len(y)).item()\n",
    "\n",
    "def train(model, data):\n",
    "    \"\"\"Train a GNN model and return the trained model.\"\"\"\n",
    "    criterion = torch.nn.CrossEntropyLoss().cuda()\n",
    "    optimizer = model.optimizer\n",
    "    epochs = 100\n",
    "\n",
    "    model.train()\n",
    "    for epoch in range(epochs+1):\n",
    "        # Training\n",
    "        optimizer.zero_grad()\n",
    "        h, out = model(data.x, data.adj_t)\n",
    "        loss = criterion(out, data.y)\n",
    "        acc = accuracy(out.argmax(dim=1), data.y)\n",
    "        loss.backward()\n",
    "        optimizer.step()\n",
    "\n",
    "        # Print metrics every 10 epochs\n",
    "        if(epoch % 10 == 0):\n",
    "            #print('Epoch:', epoch)\n",
    "            print(f'Epoch {epoch:>3} | Train Loss: {loss:.3f} | Train Acc: {acc*100:>6.2f}%')\n",
    "          \n",
    "    return model, h, out"
   ]
  },
  {
   "cell_type": "code",
   "execution_count": 12,
   "id": "fd8431c9-fee3-4834-b51a-6c73c4a3efdb",
   "metadata": {},
   "outputs": [
    {
     "name": "stdout",
     "output_type": "stream",
     "text": [
      "GCN(\n",
      "  (gcn1): GCNConv(200, 107)\n",
      ")\n",
      "\n",
      "Epoch   0 | Train Loss: 4.812 | Train Acc:   0.79%\n",
      "Epoch  10 | Train Loss: 4.010 | Train Acc:  28.20%\n",
      "Epoch  20 | Train Loss: 3.643 | Train Acc:  31.68%\n",
      "Epoch  30 | Train Loss: 3.410 | Train Acc:  33.38%\n",
      "Epoch  40 | Train Loss: 3.253 | Train Acc:  35.03%\n",
      "Epoch  50 | Train Loss: 3.140 | Train Acc:  36.34%\n",
      "Epoch  60 | Train Loss: 3.054 | Train Acc:  37.16%\n",
      "Epoch  70 | Train Loss: 2.986 | Train Acc:  37.65%\n",
      "Epoch  80 | Train Loss: 2.932 | Train Acc:  37.94%\n",
      "Epoch  90 | Train Loss: 2.889 | Train Acc:  38.13%\n",
      "Epoch 100 | Train Loss: 2.853 | Train Acc:  38.26%\n"
     ]
    }
   ],
   "source": [
    "# Create GCN model\n",
    "gcn = GCN()\n",
    "print(gcn)\n",
    "print()\n",
    "\n",
    "# Train\n",
    "gcn_model, gcn_output, final_output = train(gcn.to('cuda:0'), data.to('cuda:0', non_blocking=True))"
   ]
  },
  {
   "cell_type": "code",
   "execution_count": null,
   "id": "1e341561-ddb5-4328-969f-03029ae4c267",
   "metadata": {},
   "outputs": [],
   "source": []
  }
 ],
 "metadata": {
  "kernelspec": {
   "display_name": "Python 3 (ipykernel)",
   "language": "python",
   "name": "python3"
  },
  "language_info": {
   "codemirror_mode": {
    "name": "ipython",
    "version": 3
   },
   "file_extension": ".py",
   "mimetype": "text/x-python",
   "name": "python",
   "nbconvert_exporter": "python",
   "pygments_lexer": "ipython3",
   "version": "3.11.5"
  }
 },
 "nbformat": 4,
 "nbformat_minor": 5
}
