{
 "cells": [
  {
   "cell_type": "code",
   "execution_count": 1,
   "id": "aeb0bc96",
   "metadata": {},
   "outputs": [
    {
     "name": "stdout",
     "output_type": "stream",
     "text": [
      "True\n",
      "1\n",
      "0\n"
     ]
    }
   ],
   "source": [
    "# Import torch & Check CUDA availability\n",
    "import torch\n",
    "\n",
    "print(torch.cuda.is_available())\n",
    "print(torch.cuda.device_count())\n",
    "print(torch.cuda.current_device())"
   ]
  },
  {
   "cell_type": "code",
   "execution_count": 2,
   "id": "c2f37cf0",
   "metadata": {},
   "outputs": [
    {
     "name": "stdout",
     "output_type": "stream",
     "text": [
      "<torch.cuda.device object at 0x7fd3ba3eedd0>\n",
      "NVIDIA A30\n"
     ]
    }
   ],
   "source": [
    "# Get CUDA device name\n",
    "print(torch.cuda.device(0))\n",
    "print(torch.cuda.get_device_name(0))"
   ]
  },
  {
   "cell_type": "markdown",
   "id": "a7ca3a51-e0d9-471f-b71f-3ee2b0185293",
   "metadata": {},
   "source": [
    "#### Import Reddit"
   ]
  },
  {
   "cell_type": "code",
   "execution_count": 3,
   "id": "c2ec2887",
   "metadata": {},
   "outputs": [
    {
     "name": "stdout",
     "output_type": "stream",
     "text": [
      "Dataset: Reddit()\n",
      "-------------------\n",
      "Number of graphs: 1\n",
      "Number of nodes: 232965\n",
      "Number of features: 602\n",
      "Number of classes: 41\n",
      "\n",
      "Graph:\n",
      "------\n",
      "Edges are directed: False\n",
      "Graph has isolated nodes: False\n",
      "Graph has loops: False\n"
     ]
    }
   ],
   "source": [
    "from torch_geometric.datasets import Reddit\n",
    "import torch_geometric.transforms as T\n",
    "\n",
    "# Import dataset from PyTorch Geometric\n",
    "dataset = Reddit(root=\"/dfs6/pub/seminl1/Reddit\", transform=T.ToSparseTensor())\n",
    "data = dataset[0]\n",
    "data = data.pin_memory()\n",
    "\n",
    "# Print information about the dataset\n",
    "print(f'Dataset: {dataset}')\n",
    "print('-------------------')\n",
    "print(f'Number of graphs: {len(dataset)}')\n",
    "print(f'Number of nodes: {data.x.shape[0]}')\n",
    "print(f'Number of features: {dataset.num_features}')\n",
    "print(f'Number of classes: {dataset.num_classes}')\n",
    "\n",
    "# Print information about the graph\n",
    "print(f'\\nGraph:')\n",
    "print('------')\n",
    "print(f'Edges are directed: {data.is_directed()}')\n",
    "print(f'Graph has isolated nodes: {data.has_isolated_nodes()}')\n",
    "print(f'Graph has loops: {data.has_self_loops()}')"
   ]
  },
  {
   "cell_type": "markdown",
   "id": "335b3fe6-ca19-435c-af8d-20a4e1f473f9",
   "metadata": {},
   "source": [
    "#### Graph Information"
   ]
  },
  {
   "cell_type": "code",
   "execution_count": 4,
   "id": "e854ac0e",
   "metadata": {},
   "outputs": [
    {
     "name": "stdout",
     "output_type": "stream",
     "text": [
      "Graph: Data(x=[232965, 602], y=[232965], train_mask=[232965], val_mask=[232965], test_mask=[232965], adj_t=[232965, 232965, nnz=114615892])\n"
     ]
    }
   ],
   "source": [
    "# Print first element\n",
    "print(f'Graph: {data}')"
   ]
  },
  {
   "cell_type": "code",
   "execution_count": 5,
   "id": "9c9ae149",
   "metadata": {},
   "outputs": [
    {
     "name": "stdout",
     "output_type": "stream",
     "text": [
      "x = torch.Size([232965, 602])\n",
      "tensor([[ 1.2334,  9.0430, -0.9233,  ..., -0.2579,  0.3112, -0.3772],\n",
      "        [-0.1386, -0.2022,  0.1277,  ...,  0.1563,  0.1048, -0.6534],\n",
      "        [-0.1330, -0.1962, -0.0296,  ...,  0.0358,  0.2864,  0.2744],\n",
      "        ...,\n",
      "        [-0.0614, -0.2022,  0.9698,  ...,  1.1064, -1.4323, -0.2398],\n",
      "        [-0.1606, -0.2022, -0.0892,  ...,  0.7440, -0.5046, -2.2288],\n",
      "        [ 0.0929,  0.2822,  0.1768,  ...,  0.2196,  0.5967,  0.5588]])\n"
     ]
    }
   ],
   "source": [
    "# Node feature matrix information\n",
    "print(f'x = {data.x.shape}')\n",
    "print(data.x)"
   ]
  },
  {
   "cell_type": "code",
   "execution_count": 6,
   "id": "aab1e5b7",
   "metadata": {},
   "outputs": [
    {
     "name": "stdout",
     "output_type": "stream",
     "text": [
      "SparseTensor(row=tensor([     0,      0,      0,  ..., 232964, 232964, 232964]),\n",
      "             col=tensor([   242,    249,    524,  ..., 231806, 232594, 232634]),\n",
      "             size=(232965, 232965), nnz=114615892, density=0.21%)\n"
     ]
    }
   ],
   "source": [
    "# Adjacency matrix for the edges\n",
    "print(data.adj_t)"
   ]
  },
  {
   "cell_type": "code",
   "execution_count": 7,
   "id": "d8d8150c-c19d-48fb-8eaf-3bfd1b28f5ec",
   "metadata": {},
   "outputs": [
    {
     "name": "stdout",
     "output_type": "stream",
     "text": [
      "0.21118520090487738\n"
     ]
    }
   ],
   "source": [
    "# Density of adjacency matrix\n",
    "print(data.adj_t.density()*100)"
   ]
  },
  {
   "cell_type": "code",
   "execution_count": 8,
   "id": "068cb60a",
   "metadata": {},
   "outputs": [
    {
     "name": "stdout",
     "output_type": "stream",
     "text": [
      "y = torch.Size([232965])\n",
      "tensor([30, 17, 18,  ...,  3, 13, 13])\n"
     ]
    }
   ],
   "source": [
    "# Ground-truth labels\n",
    "print(f'y = {data.y.shape}')\n",
    "print(data.y)"
   ]
  },
  {
   "cell_type": "markdown",
   "id": "91984e67-57c3-48ee-a71f-67256f82f35d",
   "metadata": {},
   "source": [
    "#### Single-layer GCN"
   ]
  },
  {
   "cell_type": "code",
   "execution_count": 3,
   "id": "f2d02e6c",
   "metadata": {},
   "outputs": [],
   "source": [
    "# Create a simple GCN with only one GCN layer\n",
    "import torch.nn.functional as F\n",
    "\n",
    "from torch.nn import Linear\n",
    "from torch_geometric.nn import GCNConv\n",
    "\n",
    "class GCN(torch.nn.Module):\n",
    "    def __init__(self):\n",
    "        super().__init__()\n",
    "        self.gcn1 = GCNConv(dataset.num_features, dataset.num_classes)\n",
    "        self.optimizer = torch.optim.Adam(self.parameters(), lr=0.02)\n",
    "\n",
    "    def forward(self, x, adj_t):\n",
    "        x = self.gcn1(x, adj_t)\n",
    "        z = F.log_softmax(x, dim=1)\n",
    "        return x, z"
   ]
  },
  {
   "cell_type": "markdown",
   "id": "702383cf-c7d7-41d1-b8b2-3f6ee50e4ba8",
   "metadata": {},
   "source": [
    "#### Use mini-batch"
   ]
  },
  {
   "cell_type": "code",
   "execution_count": 4,
   "id": "65743bd4-6c7c-431a-8420-0c1f2557a7ef",
   "metadata": {},
   "outputs": [],
   "source": [
    "def accuracy(pred_y, y):\n",
    "    \"\"\"Calculate accuracy.\"\"\"\n",
    "    return ((pred_y == y).sum() / len(y)).item()\n",
    "\n",
    "def train(model, train_loader):\n",
    "    \"\"\"Train a GNN model and return the trained model.\"\"\"\n",
    "    criterion = torch.nn.CrossEntropyLoss()\n",
    "    optimizer = model.optimizer\n",
    "    epochs = 10\n",
    "\n",
    "    model.train()\n",
    "    for epoch in range(epochs):\n",
    "        # Training on batches\n",
    "        #total_loss = 0\n",
    "        #acc = 0\n",
    "        for batch in train_loader:\n",
    "            batch = batch.to('cuda:0', non_blocking=True)\n",
    "            optimizer.zero_grad()\n",
    "            h, out = model(batch.x, batch.adj_t)\n",
    "            loss = criterion(out, batch.y)\n",
    "            #total_loss += loss\n",
    "            #acc += accuracy(out.argmax(dim=1), batch.y)\n",
    "            loss.backward()\n",
    "            optimizer.step()\n",
    "\n",
    "        # Print metrics every 10 epochs\n",
    "        if(epoch % 10 == 0):\n",
    "            print(f'Epoch {epoch:>3}')\n",
    "            #print(f'Epoch {epoch:>3} | Train Loss: {total_loss/len(train_loader):.3f} | Train Acc: {acc/len(train_loader)*100:>6.2f}%')\n",
    "          \n",
    "    return model, h, out"
   ]
  },
  {
   "cell_type": "markdown",
   "id": "99465551-f85f-44ac-86e0-0bed9647cd6a",
   "metadata": {},
   "source": [
    "##### #CPU = 32"
   ]
  },
  {
   "cell_type": "code",
   "execution_count": 11,
   "id": "e065cff8-c198-45bd-b648-857eea1abe75",
   "metadata": {},
   "outputs": [],
   "source": [
    "from torch_geometric.loader import NeighborLoader\n",
    "\n",
    "# NeighborLoader\n",
    "train_loader = NeighborLoader(\n",
    "    data,\n",
    "    num_neighbors=[-1],\n",
    "    batch_size=8192,\n",
    "    pin_memory=True,\n",
    ")"
   ]
  },
  {
   "cell_type": "code",
   "execution_count": 12,
   "id": "af83981c-a740-4877-9ff3-8af5a6c65d55",
   "metadata": {},
   "outputs": [
    {
     "name": "stdout",
     "output_type": "stream",
     "text": [
      "GCN(\n",
      "  (gcn1): GCNConv(602, 41)\n",
      ")\n",
      "\n",
      "Epoch   0\n",
      "Elapsed Time (10 Epochs): 42.44359375 seconds\n"
     ]
    }
   ],
   "source": [
    "start = torch.cuda.Event(enable_timing=True)\n",
    "end = torch.cuda.Event(enable_timing=True)\n",
    "\n",
    "# Create GCN model\n",
    "gcn = GCN()\n",
    "print(gcn)\n",
    "print()\n",
    "\n",
    "# Train\n",
    "start.record()\n",
    "gcn_model, gcn_output, final_output = train(gcn.to('cuda:0', non_blocking=True), train_loader)\n",
    "end.record()\n",
    "torch.cuda.synchronize()\n",
    "elapsed_time = start.elapsed_time(end)\n",
    "print('Elapsed Time (10 Epochs):', elapsed_time*0.001, 'seconds')"
   ]
  },
  {
   "cell_type": "markdown",
   "id": "8a8f6bce-9f33-40bc-a8d7-3cacce16110b",
   "metadata": {},
   "source": [
    "##### #CPU = 16"
   ]
  },
  {
   "cell_type": "code",
   "execution_count": 11,
   "id": "31769223-7a0e-4248-b128-55c7d3cfb83a",
   "metadata": {},
   "outputs": [],
   "source": [
    "from torch_geometric.loader import NeighborLoader\n",
    "\n",
    "# NeighborLoader\n",
    "train_loader = NeighborLoader(\n",
    "    data,\n",
    "    num_neighbors=[-1],\n",
    "    batch_size=8192,\n",
    "    pin_memory=True,\n",
    ")"
   ]
  },
  {
   "cell_type": "code",
   "execution_count": 12,
   "id": "ce411dc8-dfd9-4e4b-a7a2-d56a0dd04c71",
   "metadata": {},
   "outputs": [
    {
     "name": "stdout",
     "output_type": "stream",
     "text": [
      "GCN(\n",
      "  (gcn1): GCNConv(602, 41)\n",
      ")\n",
      "\n",
      "Epoch   0\n",
      "Elapsed Time (10 Epochs): 49.091734375 seconds\n"
     ]
    }
   ],
   "source": [
    "start = torch.cuda.Event(enable_timing=True)\n",
    "end = torch.cuda.Event(enable_timing=True)\n",
    "\n",
    "# Create GCN model\n",
    "gcn = GCN()\n",
    "print(gcn)\n",
    "print()\n",
    "\n",
    "# Train\n",
    "start.record()\n",
    "gcn_model, gcn_output, final_output = train(gcn.to('cuda:0', non_blocking=True), train_loader)\n",
    "end.record()\n",
    "torch.cuda.synchronize()\n",
    "elapsed_time = start.elapsed_time(end)\n",
    "print('Elapsed Time (10 Epochs):', elapsed_time*0.001, 'seconds')"
   ]
  },
  {
   "cell_type": "markdown",
   "id": "42df4215-f7c4-4af5-80df-72369295bec6",
   "metadata": {},
   "source": [
    "##### #CPU = 8"
   ]
  },
  {
   "cell_type": "code",
   "execution_count": 11,
   "id": "302fc0b0-409d-459c-ac68-3afd923c33b6",
   "metadata": {},
   "outputs": [],
   "source": [
    "from torch_geometric.loader import NeighborLoader\n",
    "\n",
    "# NeighborLoader\n",
    "train_loader = NeighborLoader(\n",
    "    data,\n",
    "    num_neighbors=[-1],\n",
    "    batch_size=8192,\n",
    "    pin_memory=True,\n",
    ")"
   ]
  },
  {
   "cell_type": "code",
   "execution_count": 12,
   "id": "246ded7b-d89c-48be-9bf3-423f199b885c",
   "metadata": {},
   "outputs": [
    {
     "name": "stdout",
     "output_type": "stream",
     "text": [
      "GCN(\n",
      "  (gcn1): GCNConv(602, 41)\n",
      ")\n",
      "\n",
      "Epoch   0\n",
      "Elapsed Time (10 Epochs): 59.25895703125 seconds\n"
     ]
    }
   ],
   "source": [
    "start = torch.cuda.Event(enable_timing=True)\n",
    "end = torch.cuda.Event(enable_timing=True)\n",
    "\n",
    "# Create GCN model\n",
    "gcn = GCN()\n",
    "print(gcn)\n",
    "print()\n",
    "\n",
    "# Train\n",
    "start.record()\n",
    "gcn_model, gcn_output, final_output = train(gcn.to('cuda:0', non_blocking=True), train_loader)\n",
    "end.record()\n",
    "torch.cuda.synchronize()\n",
    "elapsed_time = start.elapsed_time(end)\n",
    "print('Elapsed Time (10 Epochs):', elapsed_time*0.001, 'seconds')"
   ]
  },
  {
   "cell_type": "code",
   "execution_count": null,
   "id": "3705619c-8a2c-454b-a154-176ff6560f53",
   "metadata": {},
   "outputs": [],
   "source": []
  }
 ],
 "metadata": {
  "kernelspec": {
   "display_name": "Python 3 (ipykernel)",
   "language": "python",
   "name": "python3"
  },
  "language_info": {
   "codemirror_mode": {
    "name": "ipython",
    "version": 3
   },
   "file_extension": ".py",
   "mimetype": "text/x-python",
   "name": "python",
   "nbconvert_exporter": "python",
   "pygments_lexer": "ipython3",
   "version": "3.11.5"
  }
 },
 "nbformat": 4,
 "nbformat_minor": 5
}
