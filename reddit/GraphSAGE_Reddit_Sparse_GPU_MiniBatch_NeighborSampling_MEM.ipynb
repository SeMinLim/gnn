{
 "cells": [
  {
   "cell_type": "code",
   "execution_count": 1,
   "id": "7dd1d746",
   "metadata": {},
   "outputs": [
    {
     "name": "stdout",
     "output_type": "stream",
     "text": [
      "True\n",
      "1\n",
      "0\n"
     ]
    }
   ],
   "source": [
    "# Import torch & Check CUDA availability\n",
    "import torch\n",
    "\n",
    "print(torch.cuda.is_available())\n",
    "print(torch.cuda.device_count())\n",
    "print(torch.cuda.current_device())"
   ]
  },
  {
   "cell_type": "code",
   "execution_count": 2,
   "id": "33358ec9",
   "metadata": {},
   "outputs": [
    {
     "name": "stdout",
     "output_type": "stream",
     "text": [
      "<torch.cuda.device object at 0x7f564d95df10>\n",
      "NVIDIA A30\n"
     ]
    }
   ],
   "source": [
    "# Get CUDA device name\n",
    "print(torch.cuda.device(0))\n",
    "print(torch.cuda.get_device_name(0))"
   ]
  },
  {
   "cell_type": "markdown",
   "id": "809d6f0d-9652-4d02-be7f-7cf580ffa4b7",
   "metadata": {},
   "source": [
    "#### Import Reddit"
   ]
  },
  {
   "cell_type": "code",
   "execution_count": 3,
   "id": "f96e45bc",
   "metadata": {},
   "outputs": [
    {
     "name": "stdout",
     "output_type": "stream",
     "text": [
      "Dataset: Reddit()\n",
      "-------------------\n",
      "Number of graphs: 1\n",
      "Number of nodes: 232965\n",
      "Number of features: 602\n",
      "Number of classes: 41\n",
      "\n",
      "Graph:\n",
      "------\n",
      "Edges are directed: False\n",
      "Graph has isolated nodes: False\n",
      "Graph has loops: False\n"
     ]
    }
   ],
   "source": [
    "from torch_geometric.datasets import Reddit\n",
    "import torch_geometric.transforms as T\n",
    "\n",
    "# Import dataset from PyTorch Geometric\n",
    "dataset = Reddit(root=\"/dfs6/pub/seminl1/Reddit\", transform=T.ToSparseTensor())\n",
    "data = dataset[0]\n",
    "data = data.pin_memory()\n",
    "\n",
    "# Print information about the dataset\n",
    "print(f'Dataset: {dataset}')\n",
    "print('-------------------')\n",
    "print(f'Number of graphs: {len(dataset)}')\n",
    "print(f'Number of nodes: {data.x.shape[0]}')\n",
    "print(f'Number of features: {dataset.num_features}')\n",
    "print(f'Number of classes: {dataset.num_classes}')\n",
    "\n",
    "# Print information about the graph\n",
    "print(f'\\nGraph:')\n",
    "print('------')\n",
    "print(f'Edges are directed: {data.is_directed()}')\n",
    "print(f'Graph has isolated nodes: {data.has_isolated_nodes()}')\n",
    "print(f'Graph has loops: {data.has_self_loops()}')"
   ]
  },
  {
   "cell_type": "markdown",
   "id": "fb06f906-c6bf-4eb3-9685-798357ed70cb",
   "metadata": {},
   "source": [
    "#### Graph Information"
   ]
  },
  {
   "cell_type": "code",
   "execution_count": 4,
   "id": "2655afe9",
   "metadata": {},
   "outputs": [
    {
     "name": "stdout",
     "output_type": "stream",
     "text": [
      "Graph: Data(x=[232965, 602], y=[232965], train_mask=[232965], val_mask=[232965], test_mask=[232965], adj_t=[232965, 232965, nnz=114615892])\n"
     ]
    }
   ],
   "source": [
    "# Print first element\n",
    "print(f'Graph: {data}')"
   ]
  },
  {
   "cell_type": "code",
   "execution_count": 5,
   "id": "ef5a30a8",
   "metadata": {},
   "outputs": [
    {
     "name": "stdout",
     "output_type": "stream",
     "text": [
      "x = torch.Size([232965, 602])\n",
      "tensor([[ 1.2334,  9.0430, -0.9233,  ..., -0.2579,  0.3112, -0.3772],\n",
      "        [-0.1386, -0.2022,  0.1277,  ...,  0.1563,  0.1048, -0.6534],\n",
      "        [-0.1330, -0.1962, -0.0296,  ...,  0.0358,  0.2864,  0.2744],\n",
      "        ...,\n",
      "        [-0.0614, -0.2022,  0.9698,  ...,  1.1064, -1.4323, -0.2398],\n",
      "        [-0.1606, -0.2022, -0.0892,  ...,  0.7440, -0.5046, -2.2288],\n",
      "        [ 0.0929,  0.2822,  0.1768,  ...,  0.2196,  0.5967,  0.5588]])\n"
     ]
    }
   ],
   "source": [
    "# Node feature matrix information\n",
    "print(f'x = {data.x.shape}')\n",
    "print(data.x)"
   ]
  },
  {
   "cell_type": "code",
   "execution_count": 6,
   "id": "cf2a5409",
   "metadata": {},
   "outputs": [
    {
     "name": "stdout",
     "output_type": "stream",
     "text": [
      "SparseTensor(row=tensor([     0,      0,      0,  ..., 232964, 232964, 232964]),\n",
      "             col=tensor([   242,    249,    524,  ..., 231806, 232594, 232634]),\n",
      "             size=(232965, 232965), nnz=114615892, density=0.21%)\n"
     ]
    }
   ],
   "source": [
    "# Adjacency matrix for the edges\n",
    "print(data.adj_t)"
   ]
  },
  {
   "cell_type": "code",
   "execution_count": 7,
   "id": "d6635d68",
   "metadata": {},
   "outputs": [
    {
     "name": "stdout",
     "output_type": "stream",
     "text": [
      "y = torch.Size([232965])\n",
      "tensor([30, 17, 18,  ...,  3, 13, 13])\n"
     ]
    }
   ],
   "source": [
    "# Ground-truth labels\n",
    "print(f'y = {data.y.shape}')\n",
    "print(data.y)"
   ]
  },
  {
   "cell_type": "markdown",
   "id": "c4656ae1-3cba-472a-a079-cc6e9274f46c",
   "metadata": {},
   "source": [
    "#### Sigle-layer GraphSAGE"
   ]
  },
  {
   "cell_type": "code",
   "execution_count": 8,
   "id": "b9bfe7e9",
   "metadata": {},
   "outputs": [],
   "source": [
    "# Create a simple GraphSAGE with only one GraphSAGE layer\n",
    "import torch.nn.functional as F\n",
    "\n",
    "from torch.nn import Linear\n",
    "from torch_geometric.nn import SAGEConv\n",
    "\n",
    "class GraphSAGE(torch.nn.Module):\n",
    "    def __init__(self):\n",
    "        super().__init__()\n",
    "        self.sage1 = SAGEConv(dataset.num_features, dataset.num_classes)\n",
    "        self.optimizer = torch.optim.Adam(self.parameters(), lr=0.02)\n",
    "\n",
    "    def forward(self, x, adj_t):\n",
    "        x = self.sage1(x, adj_t)\n",
    "        z = F.log_softmax(x, dim=1)\n",
    "        return x, z"
   ]
  },
  {
   "cell_type": "markdown",
   "id": "5858df9f-30b1-4ec4-a4ed-0c45b826081f",
   "metadata": {},
   "source": [
    "#### Use mini-batch"
   ]
  },
  {
   "cell_type": "code",
   "execution_count": 9,
   "id": "7907c483",
   "metadata": {},
   "outputs": [],
   "source": [
    "def accuracy(pred_y, y):\n",
    "    \"\"\"Calculate accuracy.\"\"\"\n",
    "    return ((pred_y == y).sum() / len(y)).item()\n",
    "\n",
    "def train(model, train_loader):\n",
    "    \"\"\"Train a GNN model and return the trained model.\"\"\"\n",
    "    criterion = torch.nn.CrossEntropyLoss()\n",
    "    optimizer = model.optimizer\n",
    "    epochs = 10\n",
    "\n",
    "    model.train()\n",
    "    for epoch in range(epochs):\n",
    "        # Training on batches\n",
    "        for batch in train_loader:\n",
    "            batch = batch.to('cuda:0', non_blocking=True)\n",
    "            optimizer.zero_grad()\n",
    "            h, out = model(batch.x, batch.adj_t)\n",
    "            loss = criterion(out, batch.y)\n",
    "            loss.backward()\n",
    "            optimizer.step()\n",
    "\n",
    "    return model, h, out"
   ]
  },
  {
   "cell_type": "markdown",
   "id": "4224ef7d-e9ca-494a-b832-bbd3915a6b5e",
   "metadata": {},
   "source": [
    "#### #CPU = 32"
   ]
  },
  {
   "cell_type": "code",
   "execution_count": 10,
   "id": "aa2c9f1b-377e-4427-8ea5-894f9a403532",
   "metadata": {},
   "outputs": [],
   "source": [
    "from torch_geometric.loader import NeighborLoader\n",
    "\n",
    "# NeighborLoader\n",
    "train_loader = NeighborLoader(\n",
    "    data,\n",
    "    num_neighbors=[5],\n",
    "    batch_size=8192,\n",
    "    pin_memory=True,\n",
    ")"
   ]
  },
  {
   "cell_type": "code",
   "execution_count": 11,
   "id": "ec3f7184-f67f-43b2-9e10-52f124d23ecc",
   "metadata": {},
   "outputs": [
    {
     "name": "stdout",
     "output_type": "stream",
     "text": [
      "Subgraph 0: Data(x=[40173, 602], y=[40173], train_mask=[40173], val_mask=[40173], test_mask=[40173], adj_t=[40173, 40173, nnz=40440], n_id=[40173], e_id=[40440], num_sampled_nodes=[2], num_sampled_edges=[1], input_id=[8192], batch_size=8192)\n",
      "Subgraph 1: Data(x=[40012, 602], y=[40012], train_mask=[40012], val_mask=[40012], test_mask=[40012], adj_t=[40012, 40012, nnz=40348], n_id=[40012], e_id=[40348], num_sampled_nodes=[2], num_sampled_edges=[1], input_id=[8192], batch_size=8192)\n",
      "Subgraph 2: Data(x=[40151, 602], y=[40151], train_mask=[40151], val_mask=[40151], test_mask=[40151], adj_t=[40151, 40151, nnz=40332], n_id=[40151], e_id=[40332], num_sampled_nodes=[2], num_sampled_edges=[1], input_id=[8192], batch_size=8192)\n",
      "Subgraph 3: Data(x=[40125, 602], y=[40125], train_mask=[40125], val_mask=[40125], test_mask=[40125], adj_t=[40125, 40125, nnz=40372], n_id=[40125], e_id=[40372], num_sampled_nodes=[2], num_sampled_edges=[1], input_id=[8192], batch_size=8192)\n",
      "Subgraph 4: Data(x=[40053, 602], y=[40053], train_mask=[40053], val_mask=[40053], test_mask=[40053], adj_t=[40053, 40053, nnz=40393], n_id=[40053], e_id=[40393], num_sampled_nodes=[2], num_sampled_edges=[1], input_id=[8192], batch_size=8192)\n",
      "Subgraph 5: Data(x=[40201, 602], y=[40201], train_mask=[40201], val_mask=[40201], test_mask=[40201], adj_t=[40201, 40201, nnz=40317], n_id=[40201], e_id=[40317], num_sampled_nodes=[2], num_sampled_edges=[1], input_id=[8192], batch_size=8192)\n",
      "Subgraph 6: Data(x=[40078, 602], y=[40078], train_mask=[40078], val_mask=[40078], test_mask=[40078], adj_t=[40078, 40078, nnz=40347], n_id=[40078], e_id=[40347], num_sampled_nodes=[2], num_sampled_edges=[1], input_id=[8192], batch_size=8192)\n",
      "Subgraph 7: Data(x=[40167, 602], y=[40167], train_mask=[40167], val_mask=[40167], test_mask=[40167], adj_t=[40167, 40167, nnz=40297], n_id=[40167], e_id=[40297], num_sampled_nodes=[2], num_sampled_edges=[1], input_id=[8192], batch_size=8192)\n",
      "Subgraph 8: Data(x=[40123, 602], y=[40123], train_mask=[40123], val_mask=[40123], test_mask=[40123], adj_t=[40123, 40123, nnz=40371], n_id=[40123], e_id=[40371], num_sampled_nodes=[2], num_sampled_edges=[1], input_id=[8192], batch_size=8192)\n",
      "Subgraph 9: Data(x=[40262, 602], y=[40262], train_mask=[40262], val_mask=[40262], test_mask=[40262], adj_t=[40262, 40262, nnz=40323], n_id=[40262], e_id=[40323], num_sampled_nodes=[2], num_sampled_edges=[1], input_id=[8192], batch_size=8192)\n",
      "Subgraph 10: Data(x=[40259, 602], y=[40259], train_mask=[40259], val_mask=[40259], test_mask=[40259], adj_t=[40259, 40259, nnz=40307], n_id=[40259], e_id=[40307], num_sampled_nodes=[2], num_sampled_edges=[1], input_id=[8192], batch_size=8192)\n",
      "Subgraph 11: Data(x=[40184, 602], y=[40184], train_mask=[40184], val_mask=[40184], test_mask=[40184], adj_t=[40184, 40184, nnz=40302], n_id=[40184], e_id=[40302], num_sampled_nodes=[2], num_sampled_edges=[1], input_id=[8192], batch_size=8192)\n",
      "Subgraph 12: Data(x=[40130, 602], y=[40130], train_mask=[40130], val_mask=[40130], test_mask=[40130], adj_t=[40130, 40130, nnz=40281], n_id=[40130], e_id=[40281], num_sampled_nodes=[2], num_sampled_edges=[1], input_id=[8192], batch_size=8192)\n",
      "Subgraph 13: Data(x=[40133, 602], y=[40133], train_mask=[40133], val_mask=[40133], test_mask=[40133], adj_t=[40133, 40133, nnz=40371], n_id=[40133], e_id=[40371], num_sampled_nodes=[2], num_sampled_edges=[1], input_id=[8192], batch_size=8192)\n",
      "Subgraph 14: Data(x=[40114, 602], y=[40114], train_mask=[40114], val_mask=[40114], test_mask=[40114], adj_t=[40114, 40114, nnz=40377], n_id=[40114], e_id=[40377], num_sampled_nodes=[2], num_sampled_edges=[1], input_id=[8192], batch_size=8192)\n",
      "Subgraph 15: Data(x=[40158, 602], y=[40158], train_mask=[40158], val_mask=[40158], test_mask=[40158], adj_t=[40158, 40158, nnz=40314], n_id=[40158], e_id=[40314], num_sampled_nodes=[2], num_sampled_edges=[1], input_id=[8192], batch_size=8192)\n",
      "Subgraph 16: Data(x=[40138, 602], y=[40138], train_mask=[40138], val_mask=[40138], test_mask=[40138], adj_t=[40138, 40138, nnz=40370], n_id=[40138], e_id=[40370], num_sampled_nodes=[2], num_sampled_edges=[1], input_id=[8192], batch_size=8192)\n",
      "Subgraph 17: Data(x=[40090, 602], y=[40090], train_mask=[40090], val_mask=[40090], test_mask=[40090], adj_t=[40090, 40090, nnz=40382], n_id=[40090], e_id=[40382], num_sampled_nodes=[2], num_sampled_edges=[1], input_id=[8192], batch_size=8192)\n",
      "Subgraph 18: Data(x=[40151, 602], y=[40151], train_mask=[40151], val_mask=[40151], test_mask=[40151], adj_t=[40151, 40151, nnz=40338], n_id=[40151], e_id=[40338], num_sampled_nodes=[2], num_sampled_edges=[1], input_id=[8192], batch_size=8192)\n",
      "Subgraph 19: Data(x=[40158, 602], y=[40158], train_mask=[40158], val_mask=[40158], test_mask=[40158], adj_t=[40158, 40158, nnz=40343], n_id=[40158], e_id=[40343], num_sampled_nodes=[2], num_sampled_edges=[1], input_id=[8192], batch_size=8192)\n",
      "Subgraph 20: Data(x=[40077, 602], y=[40077], train_mask=[40077], val_mask=[40077], test_mask=[40077], adj_t=[40077, 40077, nnz=40317], n_id=[40077], e_id=[40317], num_sampled_nodes=[2], num_sampled_edges=[1], input_id=[8192], batch_size=8192)\n",
      "Subgraph 21: Data(x=[40359, 602], y=[40359], train_mask=[40359], val_mask=[40359], test_mask=[40359], adj_t=[40359, 40359, nnz=40345], n_id=[40359], e_id=[40345], num_sampled_nodes=[2], num_sampled_edges=[1], input_id=[8192], batch_size=8192)\n",
      "Subgraph 22: Data(x=[40312, 602], y=[40312], train_mask=[40312], val_mask=[40312], test_mask=[40312], adj_t=[40312, 40312, nnz=40235], n_id=[40312], e_id=[40235], num_sampled_nodes=[2], num_sampled_edges=[1], input_id=[8192], batch_size=8192)\n",
      "Subgraph 23: Data(x=[40243, 602], y=[40243], train_mask=[40243], val_mask=[40243], test_mask=[40243], adj_t=[40243, 40243, nnz=40240], n_id=[40243], e_id=[40240], num_sampled_nodes=[2], num_sampled_edges=[1], input_id=[8192], batch_size=8192)\n",
      "Subgraph 24: Data(x=[40192, 602], y=[40192], train_mask=[40192], val_mask=[40192], test_mask=[40192], adj_t=[40192, 40192, nnz=40150], n_id=[40192], e_id=[40150], num_sampled_nodes=[2], num_sampled_edges=[1], input_id=[8192], batch_size=8192)\n",
      "Subgraph 25: Data(x=[40301, 602], y=[40301], train_mask=[40301], val_mask=[40301], test_mask=[40301], adj_t=[40301, 40301, nnz=40153], n_id=[40301], e_id=[40153], num_sampled_nodes=[2], num_sampled_edges=[1], input_id=[8192], batch_size=8192)\n",
      "Subgraph 26: Data(x=[40222, 602], y=[40222], train_mask=[40222], val_mask=[40222], test_mask=[40222], adj_t=[40222, 40222, nnz=40216], n_id=[40222], e_id=[40216], num_sampled_nodes=[2], num_sampled_edges=[1], input_id=[8192], batch_size=8192)\n",
      "Subgraph 27: Data(x=[40372, 602], y=[40372], train_mask=[40372], val_mask=[40372], test_mask=[40372], adj_t=[40372, 40372, nnz=40181], n_id=[40372], e_id=[40181], num_sampled_nodes=[2], num_sampled_edges=[1], input_id=[8192], batch_size=8192)\n",
      "Subgraph 28: Data(x=[19348, 602], y=[19348], train_mask=[19348], val_mask=[19348], test_mask=[19348], adj_t=[19348, 19348, nnz=17579], n_id=[19348], e_id=[17579], num_sampled_nodes=[2], num_sampled_edges=[1], input_id=[3589], batch_size=3589)\n"
     ]
    }
   ],
   "source": [
    "# Print and save each subgraph to mem\n",
    "batches = []\n",
    "for i, subgraph in enumerate(train_loader):\n",
    "    print(f'Subgraph {i}: {subgraph}')\n",
    "    batches.append(subgraph)"
   ]
  },
  {
   "cell_type": "code",
   "execution_count": 12,
   "id": "3825f20a-f058-432d-99ec-79cd358ee223",
   "metadata": {},
   "outputs": [
    {
     "name": "stdout",
     "output_type": "stream",
     "text": [
      "Data(x=[40173, 602], y=[40173], train_mask=[40173], val_mask=[40173], test_mask=[40173], adj_t=[40173, 40173, nnz=40440], n_id=[40173], e_id=[40440], num_sampled_nodes=[2], num_sampled_edges=[1], input_id=[8192], batch_size=8192)\n"
     ]
    }
   ],
   "source": [
    "print(batches[0])"
   ]
  },
  {
   "cell_type": "code",
   "execution_count": 13,
   "id": "b02601e8",
   "metadata": {},
   "outputs": [
    {
     "name": "stdout",
     "output_type": "stream",
     "text": [
      "GraphSAGE(\n",
      "  (sage1): SAGEConv(602, 41, aggr=mean)\n",
      ")\n",
      "\n",
      "Elapsed Time (10 Epochs): 1.4956236572265624 seconds\n"
     ]
    }
   ],
   "source": [
    "start = torch.cuda.Event(enable_timing=True)\n",
    "end = torch.cuda.Event(enable_timing=True)\n",
    "\n",
    "# Create GraphSAGE model\n",
    "graphsage = GraphSAGE()\n",
    "print(graphsage)\n",
    "print()\n",
    "\n",
    "# Train\n",
    "start.record()\n",
    "graphsage_model, graphsage_output, final_output = train(graphsage.to('cuda:0', non_blocking=True), batches)\n",
    "end.record()\n",
    "torch.cuda.synchronize()\n",
    "elapsed_time = start.elapsed_time(end)\n",
    "print('Elapsed Time (10 Epochs):', elapsed_time*0.001, 'seconds')"
   ]
  },
  {
   "cell_type": "code",
   "execution_count": null,
   "id": "8644db04-0586-4469-995f-b17118e82a19",
   "metadata": {},
   "outputs": [],
   "source": []
  }
 ],
 "metadata": {
  "kernelspec": {
   "display_name": "Python 3 (ipykernel)",
   "language": "python",
   "name": "python3"
  },
  "language_info": {
   "codemirror_mode": {
    "name": "ipython",
    "version": 3
   },
   "file_extension": ".py",
   "mimetype": "text/x-python",
   "name": "python",
   "nbconvert_exporter": "python",
   "pygments_lexer": "ipython3",
   "version": "3.11.5"
  }
 },
 "nbformat": 4,
 "nbformat_minor": 5
}
