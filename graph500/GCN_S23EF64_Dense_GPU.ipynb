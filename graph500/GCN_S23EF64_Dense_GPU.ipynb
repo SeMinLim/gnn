{
 "cells": [
  {
   "cell_type": "code",
   "execution_count": 1,
   "id": "1110dd60",
   "metadata": {},
   "outputs": [
    {
     "name": "stdout",
     "output_type": "stream",
     "text": [
      "True\n",
      "1\n",
      "0\n"
     ]
    }
   ],
   "source": [
    "# Import torch & Check CUDA availability\n",
    "import torch\n",
    "\n",
    "print(torch.cuda.is_available())\n",
    "print(torch.cuda.device_count())\n",
    "print(torch.cuda.current_device())"
   ]
  },
  {
   "cell_type": "code",
   "execution_count": 2,
   "id": "457e03ef",
   "metadata": {},
   "outputs": [
    {
     "name": "stdout",
     "output_type": "stream",
     "text": [
      "<torch.cuda.device object at 0x7fa9e1b79f90>\n",
      "NVIDIA A30\n"
     ]
    }
   ],
   "source": [
    "# Get CUDA device name\n",
    "print(torch.cuda.device(0))\n",
    "print(torch.cuda.get_device_name(0))"
   ]
  },
  {
   "cell_type": "code",
   "execution_count": 4,
   "id": "c72b763c",
   "metadata": {},
   "outputs": [],
   "source": [
    "# Import dataset from saved PyTorch dataset\n",
    "data = torch.load(\"/dfs6/pub/seminl1/graph500/graph500_scale23_ef64.pt\")\n",
    "\n",
    "# Store the dataset to GPU\n",
    "#data = data.pin_memory()\n",
    "#data = data.to('cuda:0', non_blocking=True)"
   ]
  },
  {
   "cell_type": "code",
   "execution_count": 5,
   "id": "6ac299af",
   "metadata": {},
   "outputs": [
    {
     "name": "stdout",
     "output_type": "stream",
     "text": [
      "Graph is stored on the GPU: False\n"
     ]
    }
   ],
   "source": [
    "# Check whether the dataset is stored on the GPU or not\n",
    "print(f'Graph is stored on the GPU: {data.is_cuda}')"
   ]
  },
  {
   "cell_type": "code",
   "execution_count": 6,
   "id": "14301fcf",
   "metadata": {},
   "outputs": [
    {
     "name": "stdout",
     "output_type": "stream",
     "text": [
      "Graph: Data(x=[8388608, 64], edge_index=[2, 517557419], y=[8388608])\n"
     ]
    }
   ],
   "source": [
    "# Print first element\n",
    "print(f'Graph: {data}')"
   ]
  },
  {
   "cell_type": "code",
   "execution_count": 7,
   "id": "a64adc77",
   "metadata": {},
   "outputs": [
    {
     "name": "stdout",
     "output_type": "stream",
     "text": [
      "x = torch.Size([8388608, 64])\n",
      "tensor([[-1.6241, -1.1809,  1.4980,  ...,  1.0852, -1.1694,  0.5091],\n",
      "        [-1.3206, -1.1632, -2.0369,  ..., -2.1283, -1.8054, -1.2949],\n",
      "        [-1.2896,  1.1596,  1.6661,  ..., -0.4917,  1.7394,  2.0564],\n",
      "        ...,\n",
      "        [ 1.0796,  1.1860, -0.0762,  ..., -1.8736,  1.2661,  0.6824],\n",
      "        [-1.4856,  2.1285, -1.8341,  ..., -1.8353,  0.8483, -0.7442],\n",
      "        [-1.1195, -0.3819, -0.7515,  ..., -0.5175, -1.4563, -2.4408]])\n"
     ]
    }
   ],
   "source": [
    "# Node feature matrix information\n",
    "print(f'x = {data.x.shape}')\n",
    "print(data.x)"
   ]
  },
  {
   "cell_type": "code",
   "execution_count": 8,
   "id": "d7a664aa",
   "metadata": {},
   "outputs": [
    {
     "name": "stdout",
     "output_type": "stream",
     "text": [
      "edge_index = torch.Size([2, 517557419])\n",
      "tensor([[      0,       0,       0,  ..., 8388607, 8388607, 8388607],\n",
      "        [      0,       1,       2,  ..., 1320822, 6800756, 8065975]])\n"
     ]
    }
   ],
   "source": [
    "# Edge index information\n",
    "print(f'edge_index = {data.edge_index.shape}')\n",
    "print(data.edge_index)"
   ]
  },
  {
   "cell_type": "code",
   "execution_count": 10,
   "id": "deaf842e",
   "metadata": {},
   "outputs": [
    {
     "name": "stdout",
     "output_type": "stream",
     "text": [
      "tensor(0)\n",
      "tensor(200000)\n",
      "tensor(400000)\n",
      "tensor(600000)\n",
      "tensor(700000)\n",
      "tensor(800000)\n",
      "tensor(900000)\n",
      "tensor(1000000)\n",
      "tensor(1100000)\n",
      "tensor(1200000)\n",
      "tensor(1300000)\n",
      "tensor(1400000)\n",
      "tensor(1600000)\n",
      "tensor(1700000)\n",
      "tensor(1800000)\n",
      "tensor(1900000)\n",
      "tensor(2000000)\n",
      "tensor(2100000)\n",
      "tensor(2200000)\n",
      "tensor(2300000)\n",
      "tensor(2400000)\n",
      "tensor(2500000)\n",
      "tensor(2600000)\n",
      "tensor(2700000)\n",
      "tensor(2800000)\n",
      "tensor(3000000)\n",
      "tensor(3100000)\n",
      "tensor(3200000)\n",
      "tensor(3400000)\n",
      "tensor(3500000)\n",
      "tensor(3600000)\n",
      "tensor(3700000)\n",
      "tensor(3800000)\n",
      "tensor(3900000)\n",
      "tensor(4000000)\n",
      "tensor(4100000)\n",
      "tensor(4200000)\n",
      "tensor(4300000)\n",
      "tensor(4500000)\n",
      "tensor(4600000)\n",
      "tensor(4800000)\n",
      "tensor(4900000)\n",
      "tensor(5000000)\n",
      "tensor(5300000)\n",
      "tensor(5400000)\n",
      "tensor(5500000)\n",
      "tensor(5600000)\n",
      "tensor(5700000)\n",
      "tensor(5900000)\n",
      "tensor(6100000)\n",
      "tensor(6200000)\n",
      "tensor(6300000)\n",
      "tensor(6400000)\n",
      "tensor(6500000)\n",
      "tensor(6700000)\n",
      "tensor(6800000)\n",
      "tensor(6900000)\n",
      "tensor(7000000)\n",
      "tensor(7200000)\n",
      "tensor(7300000)\n",
      "tensor(7500000)\n",
      "tensor(7700000)\n",
      "tensor(7800000)\n",
      "tensor(7900000)\n",
      "tensor(8000000)\n",
      "tensor(8100000)\n",
      "tensor(8200000)\n",
      "511517495\n"
     ]
    }
   ],
   "source": [
    "# Try to get the number of addition operation\n",
    "start_point = 0\n",
    "numAddition = 0\n",
    "numEdges = 517557419\n",
    "for i in range(numEdges-1):\n",
    "    if data.edge_index[0][i+1] == start_point:\n",
    "        numAddition += 1\n",
    "    else:\n",
    "        start_point = data.edge_index[0][i+1]\n",
    "        if data.edge_index[0][i] % 100000 == 0:\n",
    "            print(data.edge_index[0][i])\n",
    "print(numAddition)"
   ]
  },
  {
   "cell_type": "code",
   "execution_count": 11,
   "id": "b8f598b0",
   "metadata": {},
   "outputs": [
    {
     "name": "stdout",
     "output_type": "stream",
     "text": [
      "y = torch.Size([8388608])\n",
      "torch.int64\n",
      "tensor([36, 21, 11,  ...,  6, 46, 53])\n"
     ]
    }
   ],
   "source": [
    "# Ground-truth labels\n",
    "print(f'y = {data.y.shape}')\n",
    "print(data.y.dtype)\n",
    "print(data.y)"
   ]
  },
  {
   "cell_type": "code",
   "execution_count": 12,
   "id": "d028c9e1",
   "metadata": {},
   "outputs": [],
   "source": [
    "from torch_geometric.loader import NeighborLoader\n",
    "\n",
    "# Create batches with neighbor sampling\n",
    "train_loader = NeighborLoader(\n",
    "    data,\n",
    "    num_neighbors=[30],\n",
    "    batch_size=2048,\n",
    ")"
   ]
  },
  {
   "cell_type": "code",
   "execution_count": 13,
   "id": "9cb311a5",
   "metadata": {},
   "outputs": [],
   "source": [
    "# Create a simple GCN with only one GCN layer\n",
    "import torch.nn.functional as F\n",
    "\n",
    "from torch.nn import Linear\n",
    "from torch_geometric.nn import GCNConv\n",
    "\n",
    "class GCN(torch.nn.Module):\n",
    "    def __init__(self):\n",
    "        super().__init__()\n",
    "        self.gcn1 = GCNConv(64, 64)\n",
    "        self.optimizer = torch.optim.Adam(self.parameters(),\n",
    "                                          lr=0.01,\n",
    "                                          weight_decay=5e-4)\n",
    "\n",
    "    def forward(self, x, edge_index):\n",
    "        x = self.gcn1(x, edge_index)\n",
    "        z = F.log_softmax(x, dim=1)\n",
    "        return x, z"
   ]
  },
  {
   "cell_type": "code",
   "execution_count": 14,
   "id": "50a04286",
   "metadata": {},
   "outputs": [],
   "source": [
    "def accuracy(pred_y, y):\n",
    "    \"\"\"Calculate accuracy.\"\"\"\n",
    "    return ((pred_y == y).sum() / len(y)).item()\n",
    "\n",
    "def train(model, data, train_loader, device):\n",
    "    \"\"\"Train a GNN model and return the trained model.\"\"\"\n",
    "    criterion = torch.nn.CrossEntropyLoss()\n",
    "    optimizer = model.optimizer\n",
    "    epochs = 200\n",
    "\n",
    "    model.train()\n",
    "    for epoch in range(epochs+1):\n",
    "        # Training\n",
    "        total_loss = 0\n",
    "        acc = 0\n",
    "        val_loss = 0\n",
    "        val_acc = 0\n",
    "        \n",
    "        # Train on batches\n",
    "        for batch in train_loader:\n",
    "            batch = batch.to(device)\n",
    "            optimizer.zero_grad()\n",
    "            h, out = model(batch.x, batch.edge_index)\n",
    "            loss = criterion(out, batch.y)\n",
    "            total_loss += loss\n",
    "            acc += accuracy(out.argmax(dim=1), batch.y)\n",
    "            loss.backward()\n",
    "            optimizer.step()\n",
    "\n",
    "        # Print metrics every 10 epochs\n",
    "        if(epoch % 10 == 0):\n",
    "            print(f'Epoch {epoch:>3} | Train Loss: {total_loss/len(train_loader):.3f} | Train Acc: '\n",
    "                  f'{acc/len(train_loader)*100:>6.2f}%')\n",
    "          \n",
    "    return model, h, out"
   ]
  },
  {
   "cell_type": "code",
   "execution_count": null,
   "id": "a7f0367d",
   "metadata": {},
   "outputs": [
    {
     "name": "stdout",
     "output_type": "stream",
     "text": [
      "GCN(\n",
      "  (gcn1): GCNConv(64, 64)\n",
      ")\n",
      "\n",
      "Epoch   0 | Train Loss: 4.158 | Train Acc:   2.38%\n",
      "Epoch  10 | Train Loss: 4.156 | Train Acc:   2.38%\n",
      "Epoch  20 | Train Loss: 4.157 | Train Acc:   2.38%\n",
      "Epoch  30 | Train Loss: 4.157 | Train Acc:   2.38%\n",
      "Epoch  40 | Train Loss: 4.157 | Train Acc:   2.39%\n",
      "Epoch  50 | Train Loss: 4.157 | Train Acc:   2.39%\n",
      "Epoch  60 | Train Loss: 4.157 | Train Acc:   2.38%\n",
      "Epoch  70 | Train Loss: 4.157 | Train Acc:   2.39%\n",
      "Epoch  80 | Train Loss: 4.157 | Train Acc:   2.39%\n",
      "Epoch  90 | Train Loss: 4.157 | Train Acc:   2.38%\n",
      "Epoch 100 | Train Loss: 4.157 | Train Acc:   2.38%\n",
      "Epoch 110 | Train Loss: 4.157 | Train Acc:   2.39%\n",
      "Epoch 120 | Train Loss: 4.157 | Train Acc:   2.38%\n"
     ]
    }
   ],
   "source": [
    "import time\n",
    "\n",
    "# Create GCN model\n",
    "gcn = GCN()\n",
    "print(gcn)\n",
    "print()\n",
    "\n",
    "# Train and test\n",
    "# Train\n",
    "device = torch.device('cuda' if torch.cuda.is_available() else 'cpu')\n",
    "\n",
    "start_time = time.process_time()\n",
    "gcn_model, gcn_output, final_output = train(gcn.to(device), data.to(device), train_loader, device)\n",
    "end_time = time.process_time()\n",
    "elapsed_time = end_time - start_time\n",
    "print()\n",
    "print('Elapsed Time(CPU): ', elapsed_time, 'seconds')"
   ]
  },
  {
   "cell_type": "code",
   "execution_count": null,
   "id": "10248643",
   "metadata": {},
   "outputs": [],
   "source": []
  }
 ],
 "metadata": {
  "kernelspec": {
   "display_name": "Python 3 (ipykernel)",
   "language": "python",
   "name": "python3"
  },
  "language_info": {
   "codemirror_mode": {
    "name": "ipython",
    "version": 3
   },
   "file_extension": ".py",
   "mimetype": "text/x-python",
   "name": "python",
   "nbconvert_exporter": "python",
   "pygments_lexer": "ipython3",
   "version": "3.11.5"
  }
 },
 "nbformat": 4,
 "nbformat_minor": 5
}
