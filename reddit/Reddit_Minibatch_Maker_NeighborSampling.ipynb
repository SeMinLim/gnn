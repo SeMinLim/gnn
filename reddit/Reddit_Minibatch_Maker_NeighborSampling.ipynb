{
 "cells": [
  {
   "cell_type": "code",
   "execution_count": 1,
   "id": "aeb0bc96",
   "metadata": {},
   "outputs": [
    {
     "name": "stdout",
     "output_type": "stream",
     "text": [
      "True\n",
      "1\n",
      "0\n"
     ]
    }
   ],
   "source": [
    "# Import torch & Check CUDA availability\n",
    "import torch\n",
    "\n",
    "print(torch.cuda.is_available())\n",
    "print(torch.cuda.device_count())\n",
    "print(torch.cuda.current_device())"
   ]
  },
  {
   "cell_type": "code",
   "execution_count": 2,
   "id": "c2f37cf0",
   "metadata": {},
   "outputs": [
    {
     "name": "stdout",
     "output_type": "stream",
     "text": [
      "<torch.cuda.device object at 0x7f9a9a7e0150>\n",
      "NVIDIA A30\n"
     ]
    }
   ],
   "source": [
    "# Get CUDA device name\n",
    "print(torch.cuda.device(0))\n",
    "print(torch.cuda.get_device_name(0))"
   ]
  },
  {
   "cell_type": "markdown",
   "id": "a7ca3a51-e0d9-471f-b71f-3ee2b0185293",
   "metadata": {},
   "source": [
    "#### Import Reddit"
   ]
  },
  {
   "cell_type": "code",
   "execution_count": 3,
   "id": "c2ec2887",
   "metadata": {},
   "outputs": [
    {
     "name": "stdout",
     "output_type": "stream",
     "text": [
      "Dataset: Reddit()\n",
      "-------------------\n",
      "Number of graphs: 1\n",
      "Number of nodes: 232965\n",
      "Number of features: 602\n",
      "Number of classes: 41\n",
      "\n",
      "Graph:\n",
      "------\n",
      "Edges are directed: False\n",
      "Graph has isolated nodes: False\n",
      "Graph has loops: False\n"
     ]
    }
   ],
   "source": [
    "from torch_geometric.datasets import Reddit\n",
    "import torch_geometric.transforms as T\n",
    "\n",
    "# Import dataset from PyTorch Geometric\n",
    "dataset = Reddit(root=\"/dfs6/pub/seminl1/Reddit\", transform=T.ToSparseTensor())\n",
    "data = dataset[0]\n",
    "data = data.pin_memory()\n",
    "\n",
    "# Print information about the dataset\n",
    "print(f'Dataset: {dataset}')\n",
    "print('-------------------')\n",
    "print(f'Number of graphs: {len(dataset)}')\n",
    "print(f'Number of nodes: {data.x.shape[0]}')\n",
    "print(f'Number of features: {dataset.num_features}')\n",
    "print(f'Number of classes: {dataset.num_classes}')\n",
    "\n",
    "# Print information about the graph\n",
    "print(f'\\nGraph:')\n",
    "print('------')\n",
    "print(f'Edges are directed: {data.is_directed()}')\n",
    "print(f'Graph has isolated nodes: {data.has_isolated_nodes()}')\n",
    "print(f'Graph has loops: {data.has_self_loops()}')"
   ]
  },
  {
   "cell_type": "markdown",
   "id": "702383cf-c7d7-41d1-b8b2-3f6ee50e4ba8",
   "metadata": {},
   "source": [
    "#### NeighborLoader"
   ]
  },
  {
   "cell_type": "code",
   "execution_count": 4,
   "id": "e065cff8-c198-45bd-b648-857eea1abe75",
   "metadata": {},
   "outputs": [],
   "source": [
    "from torch_geometric.loader import NeighborLoader\n",
    "\n",
    "# NeighborLoader\n",
    "train_loader = NeighborLoader(\n",
    "    data,\n",
    "    num_neighbors=[5],\n",
    "    batch_size=8192,\n",
    "    pin_memory=True,\n",
    ")"
   ]
  },
  {
   "cell_type": "code",
   "execution_count": 5,
   "id": "5846269d-7636-4451-b8b6-e23ef739fd17",
   "metadata": {},
   "outputs": [
    {
     "name": "stdout",
     "output_type": "stream",
     "text": [
      "Subgraph 0: Data(x=[40024, 602], y=[40024], train_mask=[40024], val_mask=[40024], test_mask=[40024], adj_t=[40024, 40024, nnz=40440], n_id=[40024], e_id=[40440], num_sampled_nodes=[2], num_sampled_edges=[1], input_id=[8192], batch_size=8192)\n",
      "Subgraph 1: Data(x=[40034, 602], y=[40034], train_mask=[40034], val_mask=[40034], test_mask=[40034], adj_t=[40034, 40034, nnz=40348], n_id=[40034], e_id=[40348], num_sampled_nodes=[2], num_sampled_edges=[1], input_id=[8192], batch_size=8192)\n",
      "Subgraph 2: Data(x=[40031, 602], y=[40031], train_mask=[40031], val_mask=[40031], test_mask=[40031], adj_t=[40031, 40031, nnz=40332], n_id=[40031], e_id=[40332], num_sampled_nodes=[2], num_sampled_edges=[1], input_id=[8192], batch_size=8192)\n",
      "Subgraph 3: Data(x=[40033, 602], y=[40033], train_mask=[40033], val_mask=[40033], test_mask=[40033], adj_t=[40033, 40033, nnz=40372], n_id=[40033], e_id=[40372], num_sampled_nodes=[2], num_sampled_edges=[1], input_id=[8192], batch_size=8192)\n",
      "Subgraph 4: Data(x=[40103, 602], y=[40103], train_mask=[40103], val_mask=[40103], test_mask=[40103], adj_t=[40103, 40103, nnz=40393], n_id=[40103], e_id=[40393], num_sampled_nodes=[2], num_sampled_edges=[1], input_id=[8192], batch_size=8192)\n",
      "Subgraph 5: Data(x=[40169, 602], y=[40169], train_mask=[40169], val_mask=[40169], test_mask=[40169], adj_t=[40169, 40169, nnz=40317], n_id=[40169], e_id=[40317], num_sampled_nodes=[2], num_sampled_edges=[1], input_id=[8192], batch_size=8192)\n",
      "Subgraph 6: Data(x=[40095, 602], y=[40095], train_mask=[40095], val_mask=[40095], test_mask=[40095], adj_t=[40095, 40095, nnz=40347], n_id=[40095], e_id=[40347], num_sampled_nodes=[2], num_sampled_edges=[1], input_id=[8192], batch_size=8192)\n",
      "Subgraph 7: Data(x=[40119, 602], y=[40119], train_mask=[40119], val_mask=[40119], test_mask=[40119], adj_t=[40119, 40119, nnz=40297], n_id=[40119], e_id=[40297], num_sampled_nodes=[2], num_sampled_edges=[1], input_id=[8192], batch_size=8192)\n",
      "Subgraph 8: Data(x=[40161, 602], y=[40161], train_mask=[40161], val_mask=[40161], test_mask=[40161], adj_t=[40161, 40161, nnz=40371], n_id=[40161], e_id=[40371], num_sampled_nodes=[2], num_sampled_edges=[1], input_id=[8192], batch_size=8192)\n",
      "Subgraph 9: Data(x=[40304, 602], y=[40304], train_mask=[40304], val_mask=[40304], test_mask=[40304], adj_t=[40304, 40304, nnz=40323], n_id=[40304], e_id=[40323], num_sampled_nodes=[2], num_sampled_edges=[1], input_id=[8192], batch_size=8192)\n",
      "Subgraph 10: Data(x=[40169, 602], y=[40169], train_mask=[40169], val_mask=[40169], test_mask=[40169], adj_t=[40169, 40169, nnz=40307], n_id=[40169], e_id=[40307], num_sampled_nodes=[2], num_sampled_edges=[1], input_id=[8192], batch_size=8192)\n",
      "Subgraph 11: Data(x=[40061, 602], y=[40061], train_mask=[40061], val_mask=[40061], test_mask=[40061], adj_t=[40061, 40061, nnz=40302], n_id=[40061], e_id=[40302], num_sampled_nodes=[2], num_sampled_edges=[1], input_id=[8192], batch_size=8192)\n",
      "Subgraph 12: Data(x=[40294, 602], y=[40294], train_mask=[40294], val_mask=[40294], test_mask=[40294], adj_t=[40294, 40294, nnz=40281], n_id=[40294], e_id=[40281], num_sampled_nodes=[2], num_sampled_edges=[1], input_id=[8192], batch_size=8192)\n",
      "Subgraph 13: Data(x=[40195, 602], y=[40195], train_mask=[40195], val_mask=[40195], test_mask=[40195], adj_t=[40195, 40195, nnz=40371], n_id=[40195], e_id=[40371], num_sampled_nodes=[2], num_sampled_edges=[1], input_id=[8192], batch_size=8192)\n",
      "Subgraph 14: Data(x=[40148, 602], y=[40148], train_mask=[40148], val_mask=[40148], test_mask=[40148], adj_t=[40148, 40148, nnz=40377], n_id=[40148], e_id=[40377], num_sampled_nodes=[2], num_sampled_edges=[1], input_id=[8192], batch_size=8192)\n",
      "Subgraph 15: Data(x=[40109, 602], y=[40109], train_mask=[40109], val_mask=[40109], test_mask=[40109], adj_t=[40109, 40109, nnz=40314], n_id=[40109], e_id=[40314], num_sampled_nodes=[2], num_sampled_edges=[1], input_id=[8192], batch_size=8192)\n",
      "Subgraph 16: Data(x=[40205, 602], y=[40205], train_mask=[40205], val_mask=[40205], test_mask=[40205], adj_t=[40205, 40205, nnz=40370], n_id=[40205], e_id=[40370], num_sampled_nodes=[2], num_sampled_edges=[1], input_id=[8192], batch_size=8192)\n",
      "Subgraph 17: Data(x=[39991, 602], y=[39991], train_mask=[39991], val_mask=[39991], test_mask=[39991], adj_t=[39991, 39991, nnz=40382], n_id=[39991], e_id=[40382], num_sampled_nodes=[2], num_sampled_edges=[1], input_id=[8192], batch_size=8192)\n",
      "Subgraph 18: Data(x=[40152, 602], y=[40152], train_mask=[40152], val_mask=[40152], test_mask=[40152], adj_t=[40152, 40152, nnz=40338], n_id=[40152], e_id=[40338], num_sampled_nodes=[2], num_sampled_edges=[1], input_id=[8192], batch_size=8192)\n",
      "Subgraph 19: Data(x=[40121, 602], y=[40121], train_mask=[40121], val_mask=[40121], test_mask=[40121], adj_t=[40121, 40121, nnz=40343], n_id=[40121], e_id=[40343], num_sampled_nodes=[2], num_sampled_edges=[1], input_id=[8192], batch_size=8192)\n",
      "Subgraph 20: Data(x=[40135, 602], y=[40135], train_mask=[40135], val_mask=[40135], test_mask=[40135], adj_t=[40135, 40135, nnz=40317], n_id=[40135], e_id=[40317], num_sampled_nodes=[2], num_sampled_edges=[1], input_id=[8192], batch_size=8192)\n",
      "Subgraph 21: Data(x=[40203, 602], y=[40203], train_mask=[40203], val_mask=[40203], test_mask=[40203], adj_t=[40203, 40203, nnz=40345], n_id=[40203], e_id=[40345], num_sampled_nodes=[2], num_sampled_edges=[1], input_id=[8192], batch_size=8192)\n",
      "Subgraph 22: Data(x=[40141, 602], y=[40141], train_mask=[40141], val_mask=[40141], test_mask=[40141], adj_t=[40141, 40141, nnz=40235], n_id=[40141], e_id=[40235], num_sampled_nodes=[2], num_sampled_edges=[1], input_id=[8192], batch_size=8192)\n",
      "Subgraph 23: Data(x=[40197, 602], y=[40197], train_mask=[40197], val_mask=[40197], test_mask=[40197], adj_t=[40197, 40197, nnz=40240], n_id=[40197], e_id=[40240], num_sampled_nodes=[2], num_sampled_edges=[1], input_id=[8192], batch_size=8192)\n",
      "Subgraph 24: Data(x=[40130, 602], y=[40130], train_mask=[40130], val_mask=[40130], test_mask=[40130], adj_t=[40130, 40130, nnz=40150], n_id=[40130], e_id=[40150], num_sampled_nodes=[2], num_sampled_edges=[1], input_id=[8192], batch_size=8192)\n",
      "Subgraph 25: Data(x=[40395, 602], y=[40395], train_mask=[40395], val_mask=[40395], test_mask=[40395], adj_t=[40395, 40395, nnz=40153], n_id=[40395], e_id=[40153], num_sampled_nodes=[2], num_sampled_edges=[1], input_id=[8192], batch_size=8192)\n",
      "Subgraph 26: Data(x=[40371, 602], y=[40371], train_mask=[40371], val_mask=[40371], test_mask=[40371], adj_t=[40371, 40371, nnz=40216], n_id=[40371], e_id=[40216], num_sampled_nodes=[2], num_sampled_edges=[1], input_id=[8192], batch_size=8192)\n",
      "Subgraph 27: Data(x=[40296, 602], y=[40296], train_mask=[40296], val_mask=[40296], test_mask=[40296], adj_t=[40296, 40296, nnz=40181], n_id=[40296], e_id=[40181], num_sampled_nodes=[2], num_sampled_edges=[1], input_id=[8192], batch_size=8192)\n",
      "Subgraph 28: Data(x=[19332, 602], y=[19332], train_mask=[19332], val_mask=[19332], test_mask=[19332], adj_t=[19332, 19332, nnz=17579], n_id=[19332], e_id=[17579], num_sampled_nodes=[2], num_sampled_edges=[1], input_id=[3589], batch_size=3589)\n"
     ]
    }
   ],
   "source": [
    "# Print and save each subgraph\n",
    "for i, subgraph in enumerate(train_loader):\n",
    "    print(f'Subgraph {i}: {subgraph}')\n",
    "    torch.save(subgraph, \"/dfs6/pub/seminl1/Reddit/train_loader_neighbor_sampling_{0}.pt\".format(i))"
   ]
  },
  {
   "cell_type": "code",
   "execution_count": 6,
   "id": "844eb364-4bf8-45a7-a528-8f464d038b3d",
   "metadata": {},
   "outputs": [],
   "source": [
    "train_loader = torch.load(\"/dfs6/pub/seminl1/Reddit/train_loader_neighbor_sampling_0.pt\")"
   ]
  },
  {
   "cell_type": "code",
   "execution_count": 7,
   "id": "babaf51b-2ef8-499b-bddd-e9c2ac634851",
   "metadata": {},
   "outputs": [
    {
     "name": "stdout",
     "output_type": "stream",
     "text": [
      "Data(x=[40024, 602], y=[40024], train_mask=[40024], val_mask=[40024], test_mask=[40024], adj_t=[40024, 40024, nnz=40440], n_id=[40024], e_id=[40440], num_sampled_nodes=[2], num_sampled_edges=[1], input_id=[8192], batch_size=8192)\n"
     ]
    }
   ],
   "source": [
    "print(train_loader)"
   ]
  },
  {
   "cell_type": "code",
   "execution_count": null,
   "id": "abdd926e-871b-4612-be35-db83d1bdc28e",
   "metadata": {},
   "outputs": [],
   "source": []
  }
 ],
 "metadata": {
  "kernelspec": {
   "display_name": "Python 3 (ipykernel)",
   "language": "python",
   "name": "python3"
  },
  "language_info": {
   "codemirror_mode": {
    "name": "ipython",
    "version": 3
   },
   "file_extension": ".py",
   "mimetype": "text/x-python",
   "name": "python",
   "nbconvert_exporter": "python",
   "pygments_lexer": "ipython3",
   "version": "3.11.5"
  }
 },
 "nbformat": 4,
 "nbformat_minor": 5
}
