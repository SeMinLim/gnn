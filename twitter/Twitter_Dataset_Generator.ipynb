{
 "cells": [
  {
   "cell_type": "code",
   "execution_count": 1,
   "id": "ff6cb2b4-6100-478d-8c82-d59ae9cf14cd",
   "metadata": {},
   "outputs": [
    {
     "name": "stdout",
     "output_type": "stream",
     "text": [
      "True\n",
      "1\n",
      "0\n"
     ]
    }
   ],
   "source": [
    "# Import torch & Check CUDA availability\n",
    "import torch\n",
    "\n",
    "print(torch.cuda.is_available())\n",
    "print(torch.cuda.device_count())\n",
    "print(torch.cuda.current_device())"
   ]
  },
  {
   "cell_type": "code",
   "execution_count": 2,
   "id": "5e1540f4-5c4e-4b71-97b3-b4d65fd1cfc0",
   "metadata": {},
   "outputs": [
    {
     "name": "stdout",
     "output_type": "stream",
     "text": [
      "<torch.cuda.device object at 0x7f4c84230610>\n",
      "NVIDIA A100-SXM4-80GB\n"
     ]
    }
   ],
   "source": [
    "# Get CUDA device name\n",
    "print(torch.cuda.device(0))\n",
    "print(torch.cuda.get_device_name(0))"
   ]
  },
  {
   "cell_type": "markdown",
   "id": "d49a9a8f-01f8-4979-ac54-7d298e109848",
   "metadata": {},
   "source": [
    "## Twitter Dataset"
   ]
  },
  {
   "cell_type": "markdown",
   "id": "8fe7ab72-4f1b-4ac5-9598-5bbb2c760740",
   "metadata": {},
   "source": [
    "### Read text file first"
   ]
  },
  {
   "cell_type": "code",
   "execution_count": 3,
   "id": "81dfd4e8",
   "metadata": {},
   "outputs": [],
   "source": [
    "# Function for reading dataset file\n",
    "def read_file_until_tab_newline(file):\n",
    "    buffer = ''\n",
    "    \n",
    "    returnMode = 0\n",
    "    while True:\n",
    "        byte = file.read(1)\n",
    "        if not byte:\n",
    "            returnMode = 0\n",
    "            break\n",
    "        else:\n",
    "            if byte == \"\\t\" or byte == \"\\n\":\n",
    "                returnMode = 1\n",
    "                break\n",
    "            buffer += byte\n",
    "    \n",
    "    if (returnMode == 0):\n",
    "        return False\n",
    "    else:\n",
    "        return buffer"
   ]
  },
  {
   "cell_type": "code",
   "execution_count": 5,
   "id": "edb7e4b7",
   "metadata": {},
   "outputs": [
    {
     "name": "stdout",
     "output_type": "stream",
     "text": [
      "Storing edge_index finished!\n"
     ]
    }
   ],
   "source": [
    "# Read the file and store the dataset\n",
    "file = open(\"/mnt/ephemeral/gnn/dataset/Twitter/twitter_rv.net\", \"r\")\n",
    "\n",
    "edges = []\n",
    "while True:\n",
    "    value = read_file_until_tab_newline(file)\n",
    "    if not value:\n",
    "        print(f'Storing edge_index finished!')\n",
    "        break\n",
    "    else:\n",
    "        value = int(value)\n",
    "        edges.append(value)\n",
    "        \n",
    "file.close()"
   ]
  },
  {
   "cell_type": "code",
   "execution_count": 6,
   "id": "09b0faca-e69d-4deb-8215-a79e4766ad49",
   "metadata": {},
   "outputs": [
    {
     "name": "stdout",
     "output_type": "stream",
     "text": [
      "2936730364\n",
      "61578414\n",
      "12\n"
     ]
    }
   ],
   "source": [
    "print(len(edges))\n",
    "print(max(edges))\n",
    "print(min(edges))"
   ]
  },
  {
   "cell_type": "markdown",
   "id": "48c2e77e-8e8b-4a41-9390-13aadd59b5b0",
   "metadata": {},
   "source": [
    "### Edge index"
   ]
  },
  {
   "cell_type": "code",
   "execution_count": 9,
   "id": "4dc2a086",
   "metadata": {},
   "outputs": [
    {
     "name": "stdout",
     "output_type": "stream",
     "text": [
      "(2936730364,)\n",
      "(1468365182, 2)\n"
     ]
    }
   ],
   "source": [
    "import numpy as np\n",
    "\n",
    "# Change edge_index list to numpy array first\n",
    "edges = np.array(edges)\n",
    "print(edges.shape)\n",
    "# Reshape edge_index numpy array to 2-dimensional\n",
    "edges = edges.reshape(-1, 2)\n",
    "print(edges.shape)"
   ]
  },
  {
   "cell_type": "code",
   "execution_count": 10,
   "id": "b460c96a",
   "metadata": {},
   "outputs": [
    {
     "name": "stdout",
     "output_type": "stream",
     "text": [
      "(1468365182, 2)\n"
     ]
    }
   ],
   "source": [
    "# Delete duplicates of the edges (It's meaningless having the duplicates edges)\n",
    "edges = np.unique(edges, axis=0)\n",
    "print(edges.shape)"
   ]
  },
  {
   "cell_type": "code",
   "execution_count": 11,
   "id": "7b982c75-fd1b-4a31-9369-a8df2092b989",
   "metadata": {},
   "outputs": [
    {
     "name": "stdout",
     "output_type": "stream",
     "text": [
      "(1468365182, 2)\n",
      "(2936730364,)\n"
     ]
    }
   ],
   "source": [
    "# Get the nodes first to get node feature matrix \n",
    "nodes = edges.ravel()\n",
    "print(edges.shape)\n",
    "print(nodes.shape)"
   ]
  },
  {
   "cell_type": "code",
   "execution_count": 12,
   "id": "d391b468-02ab-458b-9dac-115c728f67f1",
   "metadata": {},
   "outputs": [
    {
     "name": "stdout",
     "output_type": "stream",
     "text": [
      "(41652230,)\n"
     ]
    }
   ],
   "source": [
    "# Delete duplicates of the nodes\n",
    "nodes = np.unique(nodes)\n",
    "print(nodes.shape)"
   ]
  },
  {
   "cell_type": "code",
   "execution_count": 13,
   "id": "bb0b2d54-7a69-467b-bf3c-81d05b849754",
   "metadata": {},
   "outputs": [
    {
     "name": "stdout",
     "output_type": "stream",
     "text": [
      "(41652230,)\n"
     ]
    }
   ],
   "source": [
    "# Sort the nodes for the last step\n",
    "nodes.sort()\n",
    "print(nodes.shape)"
   ]
  },
  {
   "cell_type": "code",
   "execution_count": 14,
   "id": "a8278dd7",
   "metadata": {},
   "outputs": [
    {
     "name": "stdout",
     "output_type": "stream",
     "text": [
      "torch.Size([1468365182, 2])\n"
     ]
    }
   ],
   "source": [
    "# Make edge_index as tensor for using it on PyTorch Geometric\n",
    "# dtype should be torch.int64\n",
    "import torch_geometric\n",
    "\n",
    "edges = torch.tensor(edges, dtype=torch.int64)\n",
    "print(edges.shape)"
   ]
  },
  {
   "cell_type": "markdown",
   "id": "ab5d8a51-66d3-4ee3-a2dd-fa3508ee683f",
   "metadata": {},
   "source": [
    "### Node feature matrix"
   ]
  },
  {
   "cell_type": "code",
   "execution_count": 15,
   "id": "5ed800ac",
   "metadata": {},
   "outputs": [
    {
     "name": "stdout",
     "output_type": "stream",
     "text": [
      "666435680\n"
     ]
    }
   ],
   "source": [
    "# Make node feature matrix by our own\n",
    "# 41652230(#nodes) x 16(#features)\n",
    "import random\n",
    "\n",
    "x=[]\n",
    "tmp = []\n",
    "for i in range(41652230):\n",
    "    for j in range(16):\n",
    "        r = random.uniform(-2.5, 2.5)\n",
    "        while r in tmp:\n",
    "            r = random.uniform(-2.5, 2.5)\n",
    "        tmp.append(r)\n",
    "    x.extend(tmp)\n",
    "    tmp.clear()\n",
    "\n",
    "print(len(x))"
   ]
  },
  {
   "cell_type": "code",
   "execution_count": 16,
   "id": "93e19339",
   "metadata": {},
   "outputs": [
    {
     "name": "stdout",
     "output_type": "stream",
     "text": [
      "(666435680,)\n",
      "(41652230, 16)\n"
     ]
    }
   ],
   "source": [
    "# Change node feature matrix(list) to numpy array first\n",
    "x = np.array(x)\n",
    "print(x.shape)\n",
    "# Reshape node feature matrix(numpy array) to 2-dimensional\n",
    "x = x.reshape(-1, 16)\n",
    "print(x.shape)"
   ]
  },
  {
   "cell_type": "code",
   "execution_count": 17,
   "id": "fd5acb03",
   "metadata": {},
   "outputs": [
    {
     "name": "stdout",
     "output_type": "stream",
     "text": [
      "torch.Size([41652230, 16])\n"
     ]
    }
   ],
   "source": [
    "# Make node feature matrix as tensor for using it on PyTorch Geometric\n",
    "# dtype should be torch.float32\n",
    "x = torch.tensor(x, dtype=torch.float32)\n",
    "print(x.shape)"
   ]
  },
  {
   "cell_type": "markdown",
   "id": "0ed74e17-3b80-4e57-918f-9e59afd60e4e",
   "metadata": {},
   "source": [
    "### Ground-truth labels"
   ]
  },
  {
   "cell_type": "code",
   "execution_count": 18,
   "id": "3e95bafa",
   "metadata": {},
   "outputs": [
    {
     "name": "stdout",
     "output_type": "stream",
     "text": [
      "41652230\n"
     ]
    }
   ],
   "source": [
    "# Make ground-truth labels by our own\n",
    "y=[]\n",
    "for i in range(41652230):\n",
    "    r = random.randrange(0, 16)\n",
    "    y.append(r)\n",
    "\n",
    "print(len(y))"
   ]
  },
  {
   "cell_type": "code",
   "execution_count": 19,
   "id": "4eab8cb8",
   "metadata": {},
   "outputs": [
    {
     "name": "stdout",
     "output_type": "stream",
     "text": [
      "torch.Size([41652230])\n"
     ]
    }
   ],
   "source": [
    "# Make ground-truth lables as tensor for using it on PyTorch Geometric\n",
    "# dtype should be torch.int64\n",
    "y = torch.tensor(y, dtype=torch.int64)\n",
    "print(y.shape)"
   ]
  },
  {
   "cell_type": "markdown",
   "id": "bbaa2d76-7920-4806-aaed-38defb053fe4",
   "metadata": {},
   "source": [
    "### Make all components as PyTorch dataset"
   ]
  },
  {
   "cell_type": "code",
   "execution_count": 20,
   "id": "c3ae7056",
   "metadata": {},
   "outputs": [
    {
     "name": "stdout",
     "output_type": "stream",
     "text": [
      "Data(x=[41652230, 16], edge_index=[2, 1468365182], y=[41652230])\n"
     ]
    }
   ],
   "source": [
    "# Make node feature matrix, edge index, ground-truth labels as PyTorch Dataset\n",
    "from torch_geometric.data import Data\n",
    "data = Data(x=x, edge_index=edges.t().contiguous(), y=y)\n",
    "print(data)"
   ]
  },
  {
   "cell_type": "code",
   "execution_count": 21,
   "id": "1f6614ef",
   "metadata": {},
   "outputs": [
    {
     "name": "stdout",
     "output_type": "stream",
     "text": [
      "The current dataset is undirected: False\n"
     ]
    }
   ],
   "source": [
    "print('The current dataset is undirected:', data.is_undirected())"
   ]
  },
  {
   "cell_type": "code",
   "execution_count": null,
   "id": "956ac669",
   "metadata": {},
   "outputs": [],
   "source": [
    "import torch_geometric.transforms as T\n",
    "\n",
    "data = T.ToUndirected()(data)\n",
    "print('The current data is undirected:', data.is_undirected())"
   ]
  },
  {
   "cell_type": "markdown",
   "id": "763b50cb-0e53-49d4-bd22-80d359e8f54e",
   "metadata": {},
   "source": [
    "### Save the PyTorch dataset"
   ]
  },
  {
   "cell_type": "code",
   "execution_count": null,
   "id": "761a0e8c",
   "metadata": {},
   "outputs": [],
   "source": [
    "torch.save(data, \"/mnt/ephemeral/gnn/dataset/Twitter/twitter.pt\")"
   ]
  },
  {
   "cell_type": "code",
   "execution_count": 20,
   "id": "896a985e",
   "metadata": {},
   "outputs": [
    {
     "name": "stdout",
     "output_type": "stream",
     "text": [
      "(41652230, 1)\n"
     ]
    }
   ],
   "source": [
    "data = torch.load(\"/mnt/ephemeral/gnn/dataset/Twitter/twitter.pt\")"
   ]
  },
  {
   "cell_type": "code",
   "execution_count": 16,
   "id": "faf5103a",
   "metadata": {},
   "outputs": [
    {
     "name": "stdout",
     "output_type": "stream",
     "text": [
      "CPU times: user 4min 25s, sys: 43 s, total: 5min 8s\n",
      "Wall time: 5min 8s\n"
     ]
    }
   ],
   "source": [
    "%%time\n",
    "# Make node feature matrix first\n",
    "feature_matrix = set(edge_index)\n",
    "feature_matrix = list(feature_matrix)\n",
    "\n",
    "# Node feature matrix size checking (The number of nodes)\n",
    "print(len(feature_matrix))"
   ]
  }
 ],
 "metadata": {
  "kernelspec": {
   "display_name": "Python 3 (ipykernel)",
   "language": "python",
   "name": "python3"
  },
  "language_info": {
   "codemirror_mode": {
    "name": "ipython",
    "version": 3
   },
   "file_extension": ".py",
   "mimetype": "text/x-python",
   "name": "python",
   "nbconvert_exporter": "python",
   "pygments_lexer": "ipython3",
   "version": "3.11.5"
  }
 },
 "nbformat": 4,
 "nbformat_minor": 5
}
