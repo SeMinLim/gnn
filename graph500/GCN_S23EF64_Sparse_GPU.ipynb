{
 "cells": [
  {
   "cell_type": "code",
   "execution_count": 1,
   "id": "a08fd607",
   "metadata": {},
   "outputs": [
    {
     "name": "stdout",
     "output_type": "stream",
     "text": [
      "True\n",
      "1\n",
      "0\n"
     ]
    }
   ],
   "source": [
    "# Import torch & Check CUDA availability\n",
    "import torch\n",
    "\n",
    "print(torch.cuda.is_available())\n",
    "print(torch.cuda.device_count())\n",
    "print(torch.cuda.current_device())"
   ]
  },
  {
   "cell_type": "code",
   "execution_count": 2,
   "id": "a5395c05",
   "metadata": {},
   "outputs": [
    {
     "name": "stdout",
     "output_type": "stream",
     "text": [
      "<torch.cuda.device object at 0x7f55191eacd0>\n",
      "NVIDIA A100 80GB PCIe\n"
     ]
    }
   ],
   "source": [
    "# Get CUDA device name\n",
    "print(torch.cuda.device(0))\n",
    "print(torch.cuda.get_device_name(0))"
   ]
  },
  {
   "cell_type": "markdown",
   "id": "22e97bb8-7d16-4fa2-ac93-3e1c05e7d3c8",
   "metadata": {},
   "source": [
    "#### Import Graph500_Scale23_EdgeFactor64"
   ]
  },
  {
   "cell_type": "code",
   "execution_count": 3,
   "id": "b37f989a",
   "metadata": {},
   "outputs": [],
   "source": [
    "# Import dataset from saved PyTorch dataset\n",
    "data = torch.load(\"/dfs6/pub/seminl1/graph500/graph500_scale23_ef64.pt\")"
   ]
  },
  {
   "cell_type": "code",
   "execution_count": 4,
   "id": "65fa0a20",
   "metadata": {},
   "outputs": [],
   "source": [
    "# Transform dense edge index to sparse adjacency matrix\n",
    "import torch_geometric.transforms as T\n",
    "\n",
    "data = T.ToSparseTensor()(data)\n",
    "data = data.pin_memory()"
   ]
  },
  {
   "cell_type": "markdown",
   "id": "f17b3589-f2ad-4746-8b90-a8c09deaef05",
   "metadata": {},
   "source": [
    "#### Graph Information"
   ]
  },
  {
   "cell_type": "code",
   "execution_count": 6,
   "id": "d024df54",
   "metadata": {},
   "outputs": [
    {
     "name": "stdout",
     "output_type": "stream",
     "text": [
      "Graph: Data(x=[8388608, 64], y=[8388608], train_mask=[8388608], adj_t=[8388608, 8388608, nnz=517557419])\n"
     ]
    }
   ],
   "source": [
    "# Print first element\n",
    "print(f'Graph: {data}')"
   ]
  },
  {
   "cell_type": "code",
   "execution_count": 7,
   "id": "e43bea79",
   "metadata": {},
   "outputs": [
    {
     "name": "stdout",
     "output_type": "stream",
     "text": [
      "x = torch.Size([8388608, 64])\n",
      "tensor([[-1.6241, -1.1809,  1.4980,  ...,  1.0852, -1.1694,  0.5091],\n",
      "        [-1.3206, -1.1632, -2.0369,  ..., -2.1283, -1.8054, -1.2949],\n",
      "        [-1.2896,  1.1596,  1.6661,  ..., -0.4917,  1.7394,  2.0564],\n",
      "        ...,\n",
      "        [ 1.0796,  1.1860, -0.0762,  ..., -1.8736,  1.2661,  0.6824],\n",
      "        [-1.4856,  2.1285, -1.8341,  ..., -1.8353,  0.8483, -0.7442],\n",
      "        [-1.1195, -0.3819, -0.7515,  ..., -0.5175, -1.4563, -2.4408]])\n"
     ]
    }
   ],
   "source": [
    "# Node feature matrix information\n",
    "print(f'x = {data.x.shape}')\n",
    "print(data.x)"
   ]
  },
  {
   "cell_type": "code",
   "execution_count": 8,
   "id": "f30643e3",
   "metadata": {},
   "outputs": [
    {
     "name": "stdout",
     "output_type": "stream",
     "text": [
      "SparseTensor(row=tensor([      0,       0,       0,  ..., 8388607, 8388607, 8388607]),\n",
      "             col=tensor([      0,       1,       2,  ..., 1320822, 6800756, 8065975]),\n",
      "             size=(8388608, 8388608), nnz=517557419, density=0.00%)\n"
     ]
    }
   ],
   "source": [
    "# Adjacency matrix for the edges\n",
    "print(data.adj_t)"
   ]
  },
  {
   "cell_type": "code",
   "execution_count": 9,
   "id": "c5b032b4",
   "metadata": {},
   "outputs": [
    {
     "name": "stdout",
     "output_type": "stream",
     "text": [
      "y = torch.Size([8388608])\n",
      "tensor([36, 21, 11,  ...,  6, 46, 53])\n"
     ]
    }
   ],
   "source": [
    "# Ground-truth labels\n",
    "print(f'y = {data.y.shape}')\n",
    "print(data.y)"
   ]
  },
  {
   "cell_type": "code",
   "execution_count": 10,
   "id": "e559c422",
   "metadata": {},
   "outputs": [
    {
     "name": "stdout",
     "output_type": "stream",
     "text": [
      "train_mask = torch.Size([8388608])\n",
      "tensor([False,  True,  True,  ...,  True,  True, False])\n"
     ]
    }
   ],
   "source": [
    "# Train mask\n",
    "print(f'train_mask = {data.train_mask.shape}')\n",
    "print(data.train_mask)"
   ]
  },
  {
   "cell_type": "markdown",
   "id": "efe66960-2b61-4a13-b304-a4fdeb5bdaa4",
   "metadata": {},
   "source": [
    "#### Single-layer GCN"
   ]
  },
  {
   "cell_type": "code",
   "execution_count": 11,
   "id": "bd3a9f7f",
   "metadata": {},
   "outputs": [],
   "source": [
    "# Create a simple GCN with only one GCN layer\n",
    "import torch.nn.functional as F\n",
    "\n",
    "from torch.nn import Linear\n",
    "from torch_geometric.nn import GCNConv\n",
    "\n",
    "class GCN(torch.nn.Module):\n",
    "    def __init__(self):\n",
    "        super().__init__()\n",
    "        self.gcn1 = GCNConv(64, 64)\n",
    "        self.optimizer = torch.optim.Adam(self.parameters(),\n",
    "                                          lr=0.01,\n",
    "                                          weight_decay=5e-4)\n",
    "\n",
    "    def forward(self, x, adj_t):\n",
    "        x = self.gcn1(x, adj_t)\n",
    "        z = F.log_softmax(x, dim=1)\n",
    "        return x, z"
   ]
  },
  {
   "cell_type": "markdown",
   "id": "dc0580ec-11fc-435a-8022-88ddada70496",
   "metadata": {},
   "source": [
    "#### Do use mini-batch"
   ]
  },
  {
   "cell_type": "code",
   "execution_count": 12,
   "id": "d356e25a",
   "metadata": {},
   "outputs": [],
   "source": [
    "def accuracy(pred_y, y):\n",
    "    \"\"\"Calculate accuracy.\"\"\"\n",
    "    return ((pred_y == y).sum() / len(y)).item()\n",
    "\n",
    "def train(model, train_loader):\n",
    "    \"\"\"Train a GNN model and return the trained model.\"\"\"\n",
    "    criterion = torch.nn.CrossEntropyLoss()\n",
    "    optimizer = model.optimizer\n",
    "    epochs = 100\n",
    "\n",
    "    model.train()\n",
    "    for epoch in range(epochs):\n",
    "        #total_loss = 0\n",
    "        #acc = 0\n",
    "        #val_loss = 0\n",
    "        #val_acc = 0\n",
    "        \n",
    "        # Train on batches\n",
    "        for batch in train_loader:\n",
    "            batch = batch.to('cuda:0', non_blocking=True)\n",
    "            optimizer.zero_grad()\n",
    "            h, out = model(batch.x, batch.adj_t)\n",
    "            #loss = criterion(out[batch.train_mask], batch.y[batch.train_mask])\n",
    "            #total_loss += loss\n",
    "            #acc += accuracy(out[batch.train_mask].argmax(dim=1), batch.y[batch.train_mask])\n",
    "            #loss.backward()\n",
    "            optimizer.step()\n",
    "        \n",
    "        # Print metrics every 10 epochs\n",
    "        if(epoch % 10 == 0):\n",
    "            print('Epoch:', epoch)\n",
    "            #print(f'Epoch {epoch:>3} | Train Loss: {total_loss/len(train_loader):.3f} | Train Acc: '\n",
    "            #      f'{acc/len(train_loader)*100:>6.2f}%')\n",
    "\n",
    "    return model, h, out"
   ]
  },
  {
   "cell_type": "code",
   "execution_count": 14,
   "id": "84e6dcda",
   "metadata": {},
   "outputs": [
    {
     "name": "stdout",
     "output_type": "stream",
     "text": [
      "GCN(\n",
      "  (gcn1): GCNConv(64, 64)\n",
      ")\n",
      "\n",
      "Epoch: 0\n",
      "Epoch: 10\n",
      "Epoch: 20\n",
      "Epoch: 30\n",
      "Epoch: 40\n",
      "Epoch: 50\n",
      "Epoch: 60\n",
      "Epoch: 70\n",
      "Epoch: 80\n",
      "Epoch: 90\n",
      "Epoch: 100\n"
     ]
    }
   ],
   "source": [
    "from torch_geometric.loader import NeighborLoader\n",
    "    \n",
    "start = torch.cuda.Event(enable_timing=True)\n",
    "end = torch.cuda.Event(enable_timing=True)\n",
    "\n",
    "# Create GCN model\n",
    "gcn = GCN()\n",
    "print(gcn)\n",
    "print()\n",
    "\n",
    "# Create batches with neighbor sampling\n",
    "start.record()\n",
    "train_loader = NeighborLoader(\n",
    "    data,\n",
    "    num_neighbors=[-1],\n",
    "    batch_size=131072,\n",
    "    pin_memory=True,\n",
    "    #num_workers=8,\n",
    "    #prefetch_factor=1,\n",
    ")\n",
    "\n",
    "# Train\n",
    "gcn_model, gcn_output, final_output = train(gcn.to('cuda:0'), train_loader)\n",
    "end.record()\n",
    "torch.cuda.synchronize()\n",
    "elapsed_time = start.elapsed_time(end)\n",
    "print('Elapsed Time (100 Epochs):', elapsed_time*0.001, 'seconds')"
   ]
  },
  {
   "cell_type": "markdown",
   "id": "df102e3c-b6a4-4305-b0e0-ccadf71af603",
   "metadata": {},
   "source": [
    "#### Do not use mini-batch"
   ]
  },
  {
   "cell_type": "code",
   "execution_count": 13,
   "id": "dac92a56-0d53-4dc7-8a03-2363a03a81f5",
   "metadata": {},
   "outputs": [],
   "source": [
    "def accuracy(pred_y, y):\n",
    "    \"\"\"Calculate accuracy.\"\"\"\n",
    "    return ((pred_y == y).sum() / len(y)).item()\n",
    "\n",
    "def train(model, data):\n",
    "    \"\"\"Train a GNN model and return the trained model.\"\"\"\n",
    "    criterion = torch.nn.CrossEntropyLoss()\n",
    "    optimizer = model.optimizer\n",
    "    epochs = 100\n",
    "\n",
    "    model.train()\n",
    "    for epoch in range(epochs):\n",
    "        # Training\n",
    "        optimizer.zero_grad()\n",
    "        h, out = model(data.x, data.adj_t)\n",
    "        #loss = criterion(out[data.train_mask], data.y[data.train_mask])\n",
    "        #acc = accuracy(out[data.train_mask].argmax(dim=1), data.y[data.train_mask])\n",
    "        #loss.backward()\n",
    "        optimizer.step()\n",
    "\n",
    "        # Print metrics every 10 epochs\n",
    "        if(epoch % 10 == 0):\n",
    "            print('Epoch:', epoch)\n",
    "            #print(f'Epoch {epoch:>3} | Train Loss: {loss:.3f} | Train Acc: {acc*100:>6.2f}%')\n",
    "          \n",
    "    return model, h, out"
   ]
  },
  {
   "cell_type": "code",
   "execution_count": 14,
   "id": "10c024ab-778e-40c6-b41d-cf754f80d472",
   "metadata": {},
   "outputs": [
    {
     "name": "stdout",
     "output_type": "stream",
     "text": [
      "GCN(\n",
      "  (gcn1): GCNConv(64, 64)\n",
      ")\n",
      "\n",
      "Epoch   0 | Train Loss: 4.493 | Train Acc:   1.56%\n",
      "Epoch  10 | Train Loss: 4.217 | Train Acc:   1.57%\n",
      "Epoch  20 | Train Loss: 4.165 | Train Acc:   1.58%\n",
      "Epoch  30 | Train Loss: 4.165 | Train Acc:   1.59%\n",
      "Epoch  40 | Train Loss: 4.161 | Train Acc:   1.61%\n",
      "Epoch  50 | Train Loss: 4.159 | Train Acc:   1.63%\n",
      "Epoch  60 | Train Loss: 4.158 | Train Acc:   1.64%\n",
      "Epoch  70 | Train Loss: 4.158 | Train Acc:   1.65%\n",
      "Epoch  80 | Train Loss: 4.158 | Train Acc:   1.66%\n",
      "Epoch  90 | Train Loss: 4.158 | Train Acc:   1.66%\n",
      "Epoch 100 | Train Loss: 4.158 | Train Acc:   1.67%\n"
     ]
    }
   ],
   "source": [
    "start = torch.cuda.Event(enable_timing=True)\n",
    "end = torch.cuda.Event(enable_timing=True)\n",
    "\n",
    "# Create GCN model\n",
    "gcn = GCN()\n",
    "print(gcn)\n",
    "print()\n",
    "\n",
    "# Train\n",
    "start.record()\n",
    "gcn_model, gcn_output, final_output = train(gcn.to('cuda:0'), data.to('cuda:0', non_blocking=True))\n",
    "end.record()\n",
    "torch.cuda.synchronize()\n",
    "elapsed_time = start.elapsed_time(end)\n",
    "print('Elapsed Time (100 Epochs):', elapsed_time*0.001, 'seconds')"
   ]
  },
  {
   "cell_type": "code",
   "execution_count": null,
   "id": "9877c4d3",
   "metadata": {},
   "outputs": [],
   "source": []
  }
 ],
 "metadata": {
  "kernelspec": {
   "display_name": "Python 3 (ipykernel)",
   "language": "python",
   "name": "python3"
  },
  "language_info": {
   "codemirror_mode": {
    "name": "ipython",
    "version": 3
   },
   "file_extension": ".py",
   "mimetype": "text/x-python",
   "name": "python",
   "nbconvert_exporter": "python",
   "pygments_lexer": "ipython3",
   "version": "3.11.5"
  }
 },
 "nbformat": 4,
 "nbformat_minor": 5
}
