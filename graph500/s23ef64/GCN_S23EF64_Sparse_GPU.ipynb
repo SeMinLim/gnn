{
 "cells": [
  {
   "cell_type": "code",
   "execution_count": 2,
   "id": "a08fd607",
   "metadata": {},
   "outputs": [
    {
     "name": "stdout",
     "output_type": "stream",
     "text": [
      "True\n",
      "1\n",
      "0\n"
     ]
    }
   ],
   "source": [
    "# Import torch & Check CUDA availability\n",
    "import torch\n",
    "\n",
    "print(torch.cuda.is_available())\n",
    "print(torch.cuda.device_count())\n",
    "print(torch.cuda.current_device())"
   ]
  },
  {
   "cell_type": "code",
   "execution_count": 3,
   "id": "a5395c05",
   "metadata": {},
   "outputs": [
    {
     "name": "stdout",
     "output_type": "stream",
     "text": [
      "<torch.cuda.device object at 0x7f097b788790>\n",
      "NVIDIA A100-SXM4-80GB\n"
     ]
    }
   ],
   "source": [
    "# Get CUDA device name\n",
    "print(torch.cuda.device(0))\n",
    "print(torch.cuda.get_device_name(0))"
   ]
  },
  {
   "cell_type": "markdown",
   "id": "22e97bb8-7d16-4fa2-ac93-3e1c05e7d3c8",
   "metadata": {},
   "source": [
    "#### Import Graph500_Scale23_EdgeFactor64"
   ]
  },
  {
   "cell_type": "code",
   "execution_count": 4,
   "id": "b37f989a",
   "metadata": {},
   "outputs": [],
   "source": [
    "# Import dataset from saved PyTorch dataset\n",
    "data = torch.load(\"/mnt/ephemeral/gnn/dataset/Graph500/graph500_scale23_ef64.pt\")"
   ]
  },
  {
   "cell_type": "code",
   "execution_count": null,
   "id": "65fa0a20",
   "metadata": {},
   "outputs": [],
   "source": [
    "# Transform dense edge index to sparse adjacency matrix\n",
    "import torch_geometric.transforms as T\n",
    "\n",
    "data = T.ToSparseTensor()(data)\n",
    "data = data.pin_memory()"
   ]
  },
  {
   "cell_type": "markdown",
   "id": "f17b3589-f2ad-4746-8b90-a8c09deaef05",
   "metadata": {},
   "source": [
    "#### Graph Information"
   ]
  },
  {
   "cell_type": "code",
   "execution_count": 8,
   "id": "d024df54",
   "metadata": {},
   "outputs": [
    {
     "name": "stdout",
     "output_type": "stream",
     "text": [
      "Graph: Data(x=[8388608, 64], y=[8388608], train_mask=[8388608], adj_t=[8388608, 8388608, nnz=517557419])\n"
     ]
    }
   ],
   "source": [
    "# Print first element\n",
    "print(f'Graph: {data}')"
   ]
  },
  {
   "cell_type": "code",
   "execution_count": 9,
   "id": "e43bea79",
   "metadata": {},
   "outputs": [
    {
     "name": "stdout",
     "output_type": "stream",
     "text": [
      "x = torch.Size([8388608, 64])\n",
      "tensor([[-0.5417, -1.8515,  0.5649,  ...,  1.2969, -1.7191, -1.0602],\n",
      "        [ 1.2967,  0.8535, -0.9299,  ..., -1.5634, -0.5079,  2.0238],\n",
      "        [ 0.4188, -1.6258, -1.6195,  ...,  0.4586,  0.9378, -1.8361],\n",
      "        ...,\n",
      "        [-2.0960,  0.8987,  0.8080,  ...,  2.0975, -2.0398, -0.2668],\n",
      "        [-0.5311,  2.2089,  1.0266,  ..., -0.5919, -2.4156,  0.8955],\n",
      "        [ 1.1232,  0.1070, -1.9571,  ..., -1.6113, -0.8580, -1.8450]])\n"
     ]
    }
   ],
   "source": [
    "# Node feature matrix information\n",
    "print(f'x = {data.x.shape}')\n",
    "print(data.x)"
   ]
  },
  {
   "cell_type": "code",
   "execution_count": 10,
   "id": "f30643e3",
   "metadata": {},
   "outputs": [
    {
     "name": "stdout",
     "output_type": "stream",
     "text": [
      "SparseTensor(row=tensor([      0,       0,       0,  ..., 8388607, 8388607, 8388607]),\n",
      "             col=tensor([      0,       1,       2,  ..., 1320822, 6800756, 8065975]),\n",
      "             size=(8388608, 8388608), nnz=517557419, density=0.00%)\n"
     ]
    }
   ],
   "source": [
    "# Adjacency matrix for the edges\n",
    "print(data.adj_t)"
   ]
  },
  {
   "cell_type": "code",
   "execution_count": 11,
   "id": "50804bdb-e3c4-467b-bb57-2fe4c6ebb59d",
   "metadata": {},
   "outputs": [
    {
     "name": "stdout",
     "output_type": "stream",
     "text": [
      "0.0007354933288183929\n"
     ]
    }
   ],
   "source": [
    "# Density of adjacency matrix\n",
    "print(data.adj_t.density()*100)"
   ]
  },
  {
   "cell_type": "code",
   "execution_count": 12,
   "id": "c5b032b4",
   "metadata": {},
   "outputs": [
    {
     "name": "stdout",
     "output_type": "stream",
     "text": [
      "y = torch.Size([8388608])\n",
      "tensor([ 5, 11, 32,  ..., 26, 48, 10])\n"
     ]
    }
   ],
   "source": [
    "# Ground-truth labels\n",
    "print(f'y = {data.y.shape}')\n",
    "print(data.y)"
   ]
  },
  {
   "cell_type": "code",
   "execution_count": 13,
   "id": "e559c422",
   "metadata": {},
   "outputs": [
    {
     "name": "stdout",
     "output_type": "stream",
     "text": [
      "train_mask = torch.Size([8388608])\n",
      "tensor([False, False,  True,  ..., False, False, False])\n"
     ]
    }
   ],
   "source": [
    "# Train mask\n",
    "print(f'train_mask = {data.train_mask.shape}')\n",
    "print(data.train_mask)"
   ]
  },
  {
   "cell_type": "markdown",
   "id": "efe66960-2b61-4a13-b304-a4fdeb5bdaa4",
   "metadata": {},
   "source": [
    "#### Single-layer GCN"
   ]
  },
  {
   "cell_type": "code",
   "execution_count": 14,
   "id": "bd3a9f7f",
   "metadata": {},
   "outputs": [],
   "source": [
    "# Create a simple GCN with only one GCN layer\n",
    "import torch.nn.functional as F\n",
    "\n",
    "from torch.nn import Linear\n",
    "from torch_geometric.nn import GCNConv\n",
    "\n",
    "class GCN(torch.nn.Module):\n",
    "    def __init__(self):\n",
    "        super().__init__()\n",
    "        self.gcn1 = GCNConv(64, 64)\n",
    "        self.optimizer = torch.optim.Adam(self.parameters(), lr=0.01)\n",
    "\n",
    "    def forward(self, x, adj_t):\n",
    "        x = self.gcn1(x, adj_t)\n",
    "        z = F.log_softmax(x, dim=1)\n",
    "        return x, z"
   ]
  },
  {
   "cell_type": "markdown",
   "id": "4b15edbe-c97d-42c9-a1bb-709e81d6b51d",
   "metadata": {},
   "source": [
    "#### To get GFLOPS result"
   ]
  },
  {
   "cell_type": "code",
   "execution_count": 15,
   "id": "dac92a56-0d53-4dc7-8a03-2363a03a81f5",
   "metadata": {},
   "outputs": [],
   "source": [
    "def accuracy(pred_y, y):\n",
    "    \"\"\"Calculate accuracy.\"\"\"\n",
    "    return ((pred_y == y).sum() / len(y)).item()\n",
    "\n",
    "def train(model, data):\n",
    "    \"\"\"Train a GNN model and return the trained model.\"\"\"\n",
    "    criterion = torch.nn.CrossEntropyLoss().cuda()\n",
    "    optimizer = model.optimizer\n",
    "    epochs = 100\n",
    "\n",
    "    model.train()\n",
    "    for epoch in range(epochs):\n",
    "        # Training\n",
    "        optimizer.zero_grad()\n",
    "        h, out = model(data.x, data.adj_t)\n",
    "        loss = criterion(out, data.y)\n",
    "        #acc = accuracy(out[data.train_mask].argmax(dim=1), data.y[data.train_mask])\n",
    "        loss.backward()\n",
    "        optimizer.step()\n",
    "\n",
    "        # Print metrics every 10 epochs\n",
    "        #if(epoch % 10 == 0):\n",
    "            #print('Epoch:', epoch)\n",
    "            #print(f'Epoch {epoch:>3} | Train Loss: {loss:.3f} | Train Acc: {acc*100:>6.2f}%')\n",
    "          \n",
    "    return model, h, out"
   ]
  },
  {
   "cell_type": "code",
   "execution_count": 16,
   "id": "68a7b6a7-e5e2-4d6d-a7b2-60d0a9d4ccf1",
   "metadata": {},
   "outputs": [
    {
     "name": "stdout",
     "output_type": "stream",
     "text": [
      "GCN(\n",
      "  (gcn1): GCNConv(64, 64)\n",
      ")\n",
      "\n",
      "Elapsed Time (100 Epochs): 377.13146875 seconds\n"
     ]
    }
   ],
   "source": [
    "start = torch.cuda.Event(enable_timing=True)\n",
    "end = torch.cuda.Event(enable_timing=True)\n",
    "\n",
    "# Create GCN model\n",
    "gcn = GCN()\n",
    "print(gcn)\n",
    "print()\n",
    "\n",
    "# Train\n",
    "start.record()\n",
    "gcn_model, gcn_output, final_output = train(gcn.to('cuda:0'), data.to('cuda:0', non_blocking=True))\n",
    "end.record()\n",
    "torch.cuda.synchronize()\n",
    "elapsed_time = start.elapsed_time(end)\n",
    "print('Elapsed Time (100 Epochs):', elapsed_time*0.001, 'seconds')"
   ]
  },
  {
   "cell_type": "markdown",
   "id": "cbeff005-ae33-45e5-bd9e-b39f53a286bf",
   "metadata": {},
   "source": [
    "#### To get accuracy result"
   ]
  },
  {
   "cell_type": "code",
   "execution_count": 12,
   "id": "c80e5c38-2c97-44b6-a2d8-e97384f5497c",
   "metadata": {},
   "outputs": [],
   "source": [
    "def accuracy(pred_y, y):\n",
    "    \"\"\"Calculate accuracy.\"\"\"\n",
    "    return ((pred_y == y).sum() / len(y)).item()\n",
    "\n",
    "def train(model, data):\n",
    "    \"\"\"Train a GNN model and return the trained model.\"\"\"\n",
    "    criterion = torch.nn.CrossEntropyLoss().cuda()\n",
    "    optimizer = model.optimizer\n",
    "    epochs = 100\n",
    "\n",
    "    model.train()\n",
    "    for epoch in range(epochs+1):\n",
    "        # Training\n",
    "        optimizer.zero_grad()\n",
    "        h, out = model(data.x, data.adj_t)\n",
    "        loss = criterion(out, data.y)\n",
    "        acc = accuracy(out.argmax(dim=1), data.y)\n",
    "        loss.backward()\n",
    "        optimizer.step()\n",
    "\n",
    "        # Print metrics every 10 epochs\n",
    "        if(epoch % 10 == 0):\n",
    "            print(f'Epoch {epoch:>3} | Train Loss: {loss:.3f} | Train Acc: {acc*100:>6.2f}%')\n",
    "          \n",
    "    return model, h, out"
   ]
  },
  {
   "cell_type": "code",
   "execution_count": 13,
   "id": "5b3166a4-1cc7-4836-9b1d-039cb7e2971f",
   "metadata": {},
   "outputs": [
    {
     "name": "stdout",
     "output_type": "stream",
     "text": [
      "GCN(\n",
      "  (gcn1): GCNConv(64, 64)\n",
      ")\n",
      "\n",
      "Epoch   0 | Train Loss: 4.490 | Train Acc:   1.56%\n",
      "Epoch  10 | Train Loss: 4.217 | Train Acc:   1.57%\n",
      "Epoch  20 | Train Loss: 4.165 | Train Acc:   1.57%\n",
      "Epoch  30 | Train Loss: 4.165 | Train Acc:   1.57%\n",
      "Epoch  40 | Train Loss: 4.161 | Train Acc:   1.59%\n",
      "Epoch  50 | Train Loss: 4.160 | Train Acc:   1.60%\n",
      "Epoch  60 | Train Loss: 4.160 | Train Acc:   1.61%\n",
      "Epoch  70 | Train Loss: 4.160 | Train Acc:   1.62%\n",
      "Epoch  80 | Train Loss: 4.160 | Train Acc:   1.63%\n",
      "Epoch  90 | Train Loss: 4.160 | Train Acc:   1.63%\n",
      "Epoch 100 | Train Loss: 4.160 | Train Acc:   1.63%\n"
     ]
    }
   ],
   "source": [
    "# Create GCN model\n",
    "gcn = GCN()\n",
    "print(gcn)\n",
    "print()\n",
    "\n",
    "# Train\n",
    "gcn_model, gcn_output, final_output = train(gcn.to('cuda:0'), data.to('cuda:0', non_blocking=True))"
   ]
  },
  {
   "cell_type": "code",
   "execution_count": null,
   "id": "5153d480-3c6e-4d02-b1fb-795e675707b7",
   "metadata": {},
   "outputs": [],
   "source": []
  }
 ],
 "metadata": {
  "kernelspec": {
   "display_name": "Python 3 (ipykernel)",
   "language": "python",
   "name": "python3"
  },
  "language_info": {
   "codemirror_mode": {
    "name": "ipython",
    "version": 3
   },
   "file_extension": ".py",
   "mimetype": "text/x-python",
   "name": "python",
   "nbconvert_exporter": "python",
   "pygments_lexer": "ipython3",
   "version": "3.11.5"
  }
 },
 "nbformat": 4,
 "nbformat_minor": 5
}
