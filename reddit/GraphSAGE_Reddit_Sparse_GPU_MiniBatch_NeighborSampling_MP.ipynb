{
 "cells": [
  {
   "cell_type": "code",
   "execution_count": 1,
   "id": "7dd1d746",
   "metadata": {},
   "outputs": [
    {
     "name": "stdout",
     "output_type": "stream",
     "text": [
      "True\n",
      "1\n",
      "0\n"
     ]
    }
   ],
   "source": [
    "# Import torch & Check CUDA availability\n",
    "import torch\n",
    "\n",
    "print(torch.cuda.is_available())\n",
    "print(torch.cuda.device_count())\n",
    "print(torch.cuda.current_device())"
   ]
  },
  {
   "cell_type": "code",
   "execution_count": 2,
   "id": "33358ec9",
   "metadata": {},
   "outputs": [
    {
     "name": "stdout",
     "output_type": "stream",
     "text": [
      "<torch.cuda.device object at 0x7f1090161050>\n",
      "NVIDIA A30\n"
     ]
    }
   ],
   "source": [
    "# Get CUDA device name\n",
    "print(torch.cuda.device(0))\n",
    "print(torch.cuda.get_device_name(0))"
   ]
  },
  {
   "cell_type": "markdown",
   "id": "809d6f0d-9652-4d02-be7f-7cf580ffa4b7",
   "metadata": {},
   "source": [
    "#### Import Reddit"
   ]
  },
  {
   "cell_type": "code",
   "execution_count": 3,
   "id": "f96e45bc",
   "metadata": {},
   "outputs": [
    {
     "name": "stdout",
     "output_type": "stream",
     "text": [
      "Dataset: Reddit()\n",
      "-------------------\n",
      "Number of graphs: 1\n",
      "Number of nodes: 232965\n",
      "Number of features: 602\n",
      "Number of classes: 41\n",
      "\n",
      "Graph:\n",
      "------\n",
      "Edges are directed: False\n",
      "Graph has isolated nodes: False\n",
      "Graph has loops: False\n"
     ]
    }
   ],
   "source": [
    "from torch_geometric.datasets import Reddit\n",
    "import torch_geometric.transforms as T\n",
    "\n",
    "# Import dataset from PyTorch Geometric\n",
    "dataset = Reddit(root=\"/dfs6/pub/seminl1/Reddit\", transform=T.ToSparseTensor())\n",
    "data = dataset[0]\n",
    "data = data.pin_memory()\n",
    "\n",
    "# Print information about the dataset\n",
    "print(f'Dataset: {dataset}')\n",
    "print('-------------------')\n",
    "print(f'Number of graphs: {len(dataset)}')\n",
    "print(f'Number of nodes: {data.x.shape[0]}')\n",
    "print(f'Number of features: {dataset.num_features}')\n",
    "print(f'Number of classes: {dataset.num_classes}')\n",
    "\n",
    "# Print information about the graph\n",
    "print(f'\\nGraph:')\n",
    "print('------')\n",
    "print(f'Edges are directed: {data.is_directed()}')\n",
    "print(f'Graph has isolated nodes: {data.has_isolated_nodes()}')\n",
    "print(f'Graph has loops: {data.has_self_loops()}')"
   ]
  },
  {
   "cell_type": "markdown",
   "id": "fb06f906-c6bf-4eb3-9685-798357ed70cb",
   "metadata": {},
   "source": [
    "#### Graph Information"
   ]
  },
  {
   "cell_type": "code",
   "execution_count": 4,
   "id": "2655afe9",
   "metadata": {},
   "outputs": [
    {
     "name": "stdout",
     "output_type": "stream",
     "text": [
      "Graph: Data(x=[232965, 602], y=[232965], train_mask=[232965], val_mask=[232965], test_mask=[232965], adj_t=[232965, 232965, nnz=114615892])\n"
     ]
    }
   ],
   "source": [
    "# Print first element\n",
    "print(f'Graph: {data}')"
   ]
  },
  {
   "cell_type": "code",
   "execution_count": 5,
   "id": "ef5a30a8",
   "metadata": {},
   "outputs": [
    {
     "name": "stdout",
     "output_type": "stream",
     "text": [
      "x = torch.Size([232965, 602])\n",
      "tensor([[ 1.2334,  9.0430, -0.9233,  ..., -0.2579,  0.3112, -0.3772],\n",
      "        [-0.1386, -0.2022,  0.1277,  ...,  0.1563,  0.1048, -0.6534],\n",
      "        [-0.1330, -0.1962, -0.0296,  ...,  0.0358,  0.2864,  0.2744],\n",
      "        ...,\n",
      "        [-0.0614, -0.2022,  0.9698,  ...,  1.1064, -1.4323, -0.2398],\n",
      "        [-0.1606, -0.2022, -0.0892,  ...,  0.7440, -0.5046, -2.2288],\n",
      "        [ 0.0929,  0.2822,  0.1768,  ...,  0.2196,  0.5967,  0.5588]])\n"
     ]
    }
   ],
   "source": [
    "# Node feature matrix information\n",
    "print(f'x = {data.x.shape}')\n",
    "print(data.x)"
   ]
  },
  {
   "cell_type": "code",
   "execution_count": 6,
   "id": "cf2a5409",
   "metadata": {},
   "outputs": [
    {
     "name": "stdout",
     "output_type": "stream",
     "text": [
      "SparseTensor(row=tensor([     0,      0,      0,  ..., 232964, 232964, 232964]),\n",
      "             col=tensor([   242,    249,    524,  ..., 231806, 232594, 232634]),\n",
      "             size=(232965, 232965), nnz=114615892, density=0.21%)\n"
     ]
    }
   ],
   "source": [
    "# Adjacency matrix for the edges\n",
    "print(data.adj_t)"
   ]
  },
  {
   "cell_type": "code",
   "execution_count": 7,
   "id": "d6635d68",
   "metadata": {},
   "outputs": [
    {
     "name": "stdout",
     "output_type": "stream",
     "text": [
      "y = torch.Size([232965])\n",
      "tensor([30, 17, 18,  ...,  3, 13, 13])\n"
     ]
    }
   ],
   "source": [
    "# Ground-truth labels\n",
    "print(f'y = {data.y.shape}')\n",
    "print(data.y)"
   ]
  },
  {
   "cell_type": "markdown",
   "id": "c4656ae1-3cba-472a-a079-cc6e9274f46c",
   "metadata": {},
   "source": [
    "#### Sigle-layer GraphSAGE"
   ]
  },
  {
   "cell_type": "code",
   "execution_count": 8,
   "id": "b9bfe7e9",
   "metadata": {},
   "outputs": [],
   "source": [
    "# Create a simple GraphSAGE with only one GraphSAGE layer\n",
    "import torch.nn.functional as F\n",
    "\n",
    "from torch.nn import Linear\n",
    "from torch_geometric.nn import SAGEConv\n",
    "\n",
    "class GraphSAGE(torch.nn.Module):\n",
    "    def __init__(self):\n",
    "        super().__init__()\n",
    "        self.sage1 = SAGEConv(dataset.num_features, dataset.num_classes)\n",
    "        self.optimizer = torch.optim.Adam(self.parameters(), lr=0.02)\n",
    "\n",
    "    def forward(self, x, adj_t):\n",
    "        x = self.sage1(x, adj_t)\n",
    "        z = F.log_softmax(x, dim=1)\n",
    "        return x, z"
   ]
  },
  {
   "cell_type": "markdown",
   "id": "5858df9f-30b1-4ec4-a4ed-0c45b826081f",
   "metadata": {},
   "source": [
    "#### Use mini-batch"
   ]
  },
  {
   "cell_type": "code",
   "execution_count": 9,
   "id": "7907c483",
   "metadata": {},
   "outputs": [],
   "source": [
    "def accuracy(pred_y, y):\n",
    "    \"\"\"Calculate accuracy.\"\"\"\n",
    "    return ((pred_y == y).sum() / len(y)).item()\n",
    "\n",
    "def train(model, train_loader):\n",
    "    \"\"\"Train a GNN model and return the trained model.\"\"\"\n",
    "    criterion = torch.nn.CrossEntropyLoss()\n",
    "    optimizer = model.optimizer\n",
    "    epochs = 10\n",
    "\n",
    "    model.train()\n",
    "    for epoch in range(epochs):\n",
    "        # Training on batches\n",
    "        for batch in train_loader:\n",
    "            batch = batch.to('cuda:0', non_blocking=True)\n",
    "            optimizer.zero_grad()\n",
    "            h, out = model(batch.x, batch.adj_t)\n",
    "            loss = criterion(out, batch.y)\n",
    "            loss.backward()\n",
    "            optimizer.step()\n",
    "\n",
    "    return model, h, out"
   ]
  },
  {
   "cell_type": "markdown",
   "id": "201fb36d-04e7-4aad-8edb-036dd32270c1",
   "metadata": {},
   "source": [
    "##### num_workers = 16"
   ]
  },
  {
   "cell_type": "code",
   "execution_count": 10,
   "id": "aa2c9f1b-377e-4427-8ea5-894f9a403532",
   "metadata": {},
   "outputs": [],
   "source": [
    "from torch_geometric.loader import NeighborLoader\n",
    "\n",
    "# NeighborLoader\n",
    "train_loader = NeighborLoader(\n",
    "    data,\n",
    "    num_neighbors=[5],\n",
    "    batch_size=8192,\n",
    "    pin_memory=True,\n",
    "    num_workers=16,\n",
    ")"
   ]
  },
  {
   "cell_type": "code",
   "execution_count": 11,
   "id": "b02601e8",
   "metadata": {},
   "outputs": [
    {
     "name": "stdout",
     "output_type": "stream",
     "text": [
      "GraphSAGE(\n",
      "  (sage1): SAGEConv(602, 41, aggr=mean)\n",
      ")\n",
      "\n",
      "Elapsed Time (10 Epochs): 13.3694990234375 seconds\n"
     ]
    }
   ],
   "source": [
    "start = torch.cuda.Event(enable_timing=True)\n",
    "end = torch.cuda.Event(enable_timing=True)\n",
    "\n",
    "# Create GraphSAGE model\n",
    "graphsage = GraphSAGE()\n",
    "print(graphsage)\n",
    "print()\n",
    "\n",
    "# Train\n",
    "start.record()\n",
    "graphsage_model, graphsage_output, final_output = train(graphsage.to('cuda:0', non_blocking=True), train_loader)\n",
    "end.record()\n",
    "torch.cuda.synchronize()\n",
    "elapsed_time = start.elapsed_time(end)\n",
    "print('Elapsed Time (10 Epochs):', elapsed_time*0.001, 'seconds')"
   ]
  },
  {
   "cell_type": "markdown",
   "id": "4dec3fb4-598f-430e-a297-8ad6959d7216",
   "metadata": {},
   "source": [
    "##### num_workers = 8"
   ]
  },
  {
   "cell_type": "code",
   "execution_count": 12,
   "id": "20a8c905-8ab8-47f1-a661-13de574e005a",
   "metadata": {},
   "outputs": [],
   "source": [
    "from torch_geometric.loader import NeighborLoader\n",
    "\n",
    "# NeighborLoader\n",
    "train_loader = NeighborLoader(\n",
    "    data,\n",
    "    num_neighbors=[5],\n",
    "    batch_size=8192,\n",
    "    pin_memory=True,\n",
    "    num_workers=8,\n",
    ")"
   ]
  },
  {
   "cell_type": "code",
   "execution_count": 13,
   "id": "05fe5c32-428e-40ac-845e-96cd89c767a1",
   "metadata": {},
   "outputs": [
    {
     "name": "stdout",
     "output_type": "stream",
     "text": [
      "GraphSAGE(\n",
      "  (sage1): SAGEConv(602, 41, aggr=mean)\n",
      ")\n",
      "\n",
      "Elapsed Time (10 Epochs): 12.0540029296875 seconds\n"
     ]
    }
   ],
   "source": [
    "start = torch.cuda.Event(enable_timing=True)\n",
    "end = torch.cuda.Event(enable_timing=True)\n",
    "\n",
    "# Create GraphSAGE model\n",
    "graphsage = GraphSAGE()\n",
    "print(graphsage)\n",
    "print()\n",
    "\n",
    "# Train\n",
    "start.record()\n",
    "graphsage_model, graphsage_output, final_output = train(graphsage.to('cuda:0', non_blocking=True), train_loader)\n",
    "end.record()\n",
    "torch.cuda.synchronize()\n",
    "elapsed_time = start.elapsed_time(end)\n",
    "print('Elapsed Time (10 Epochs):', elapsed_time*0.001, 'seconds')"
   ]
  },
  {
   "cell_type": "markdown",
   "id": "70ebbc37-0f47-4b18-9913-987d25f423f4",
   "metadata": {},
   "source": [
    "##### num_workers = 4"
   ]
  },
  {
   "cell_type": "code",
   "execution_count": 14,
   "id": "00f2f640-67be-4165-8dd6-269fca532fca",
   "metadata": {},
   "outputs": [],
   "source": [
    "from torch_geometric.loader import NeighborLoader\n",
    "\n",
    "# NeighborLoader\n",
    "train_loader = NeighborLoader(\n",
    "    data,\n",
    "    num_neighbors=[5],\n",
    "    batch_size=8192,\n",
    "    pin_memory=True,\n",
    "    num_workers=4,\n",
    ")"
   ]
  },
  {
   "cell_type": "code",
   "execution_count": 15,
   "id": "ba0318c6-8641-480e-8fb9-37978a173c26",
   "metadata": {},
   "outputs": [
    {
     "name": "stdout",
     "output_type": "stream",
     "text": [
      "GraphSAGE(\n",
      "  (sage1): SAGEConv(602, 41, aggr=mean)\n",
      ")\n",
      "\n",
      "Elapsed Time (10 Epochs): 12.430359375 seconds\n"
     ]
    }
   ],
   "source": [
    "start = torch.cuda.Event(enable_timing=True)\n",
    "end = torch.cuda.Event(enable_timing=True)\n",
    "\n",
    "# Create GraphSAGE model\n",
    "graphsage = GraphSAGE()\n",
    "print(graphsage)\n",
    "print()\n",
    "\n",
    "# Train\n",
    "start.record()\n",
    "graphsage_model, graphsage_output, final_output = train(graphsage.to('cuda:0', non_blocking=True), train_loader)\n",
    "end.record()\n",
    "torch.cuda.synchronize()\n",
    "elapsed_time = start.elapsed_time(end)\n",
    "print('Elapsed Time (10 Epochs):', elapsed_time*0.001, 'seconds')"
   ]
  },
  {
   "cell_type": "markdown",
   "id": "c4b8a090-a3c1-40f8-9b8f-15e35c61b798",
   "metadata": {},
   "source": [
    "##### num_workers = 2"
   ]
  },
  {
   "cell_type": "code",
   "execution_count": 16,
   "id": "ca9fd462-88d5-4ca7-9658-825df028aec2",
   "metadata": {},
   "outputs": [],
   "source": [
    "from torch_geometric.loader import NeighborLoader\n",
    "\n",
    "# NeighborLoader\n",
    "train_loader = NeighborLoader(\n",
    "    data,\n",
    "    num_neighbors=[5],\n",
    "    batch_size=8192,\n",
    "    pin_memory=True,\n",
    "    num_workers=2,\n",
    ")"
   ]
  },
  {
   "cell_type": "code",
   "execution_count": 17,
   "id": "7c86e1a4-5f91-42d2-9b8c-4e5c43db2991",
   "metadata": {},
   "outputs": [
    {
     "name": "stdout",
     "output_type": "stream",
     "text": [
      "GraphSAGE(\n",
      "  (sage1): SAGEConv(602, 41, aggr=mean)\n",
      ")\n",
      "\n",
      "Elapsed Time (10 Epochs): 12.720403320312501 seconds\n"
     ]
    }
   ],
   "source": [
    "start = torch.cuda.Event(enable_timing=True)\n",
    "end = torch.cuda.Event(enable_timing=True)\n",
    "\n",
    "# Create GraphSAGE model\n",
    "graphsage = GraphSAGE()\n",
    "print(graphsage)\n",
    "print()\n",
    "\n",
    "# Train\n",
    "start.record()\n",
    "graphsage_model, graphsage_output, final_output = train(graphsage.to('cuda:0', non_blocking=True), train_loader)\n",
    "end.record()\n",
    "torch.cuda.synchronize()\n",
    "elapsed_time = start.elapsed_time(end)\n",
    "print('Elapsed Time (10 Epochs):', elapsed_time*0.001, 'seconds')"
   ]
  },
  {
   "cell_type": "markdown",
   "id": "4eb1f5a0-e810-46e5-91f8-8ce53b70f27b",
   "metadata": {},
   "source": [
    "##### num_workers = 0"
   ]
  },
  {
   "cell_type": "code",
   "execution_count": 18,
   "id": "2291d816-0acd-47db-8633-c4d1f572b376",
   "metadata": {},
   "outputs": [],
   "source": [
    "from torch_geometric.loader import NeighborLoader\n",
    "\n",
    "# NeighborLoader\n",
    "train_loader = NeighborLoader(\n",
    "    data,\n",
    "    num_neighbors=[5],\n",
    "    batch_size=8192,\n",
    "    pin_memory=True,\n",
    ")"
   ]
  },
  {
   "cell_type": "code",
   "execution_count": 19,
   "id": "944c62f1-03f5-4041-9929-a0bb8b101253",
   "metadata": {},
   "outputs": [
    {
     "name": "stdout",
     "output_type": "stream",
     "text": [
      "GraphSAGE(\n",
      "  (sage1): SAGEConv(602, 41, aggr=mean)\n",
      ")\n",
      "\n",
      "Elapsed Time (10 Epochs): 4.46794970703125 seconds\n"
     ]
    }
   ],
   "source": [
    "start = torch.cuda.Event(enable_timing=True)\n",
    "end = torch.cuda.Event(enable_timing=True)\n",
    "\n",
    "# Create GraphSAGE model\n",
    "graphsage = GraphSAGE()\n",
    "print(graphsage)\n",
    "print()\n",
    "\n",
    "# Train\n",
    "start.record()\n",
    "graphsage_model, graphsage_output, final_output = train(graphsage.to('cuda:0', non_blocking=True), train_loader)\n",
    "end.record()\n",
    "torch.cuda.synchronize()\n",
    "elapsed_time = start.elapsed_time(end)\n",
    "print('Elapsed Time (10 Epochs):', elapsed_time*0.001, 'seconds')"
   ]
  },
  {
   "cell_type": "code",
   "execution_count": null,
   "id": "8644db04-0586-4469-995f-b17118e82a19",
   "metadata": {},
   "outputs": [],
   "source": []
  }
 ],
 "metadata": {
  "kernelspec": {
   "display_name": "Python 3 (ipykernel)",
   "language": "python",
   "name": "python3"
  },
  "language_info": {
   "codemirror_mode": {
    "name": "ipython",
    "version": 3
   },
   "file_extension": ".py",
   "mimetype": "text/x-python",
   "name": "python",
   "nbconvert_exporter": "python",
   "pygments_lexer": "ipython3",
   "version": "3.11.5"
  }
 },
 "nbformat": 4,
 "nbformat_minor": 5
}
