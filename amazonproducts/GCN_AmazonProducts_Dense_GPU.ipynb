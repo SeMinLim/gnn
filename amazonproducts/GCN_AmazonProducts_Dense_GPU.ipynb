{
 "cells": [
  {
   "cell_type": "code",
   "execution_count": 1,
   "id": "16c68d88",
   "metadata": {},
   "outputs": [
    {
     "name": "stdout",
     "output_type": "stream",
     "text": [
      "True\n",
      "1\n",
      "0\n"
     ]
    }
   ],
   "source": [
    "# Import torch & Check CUDA availability\n",
    "import torch\n",
    "\n",
    "print(torch.cuda.is_available())\n",
    "print(torch.cuda.device_count())\n",
    "print(torch.cuda.current_device())"
   ]
  },
  {
   "cell_type": "code",
   "execution_count": 2,
   "id": "693161d9",
   "metadata": {},
   "outputs": [
    {
     "name": "stdout",
     "output_type": "stream",
     "text": [
      "<torch.cuda.device object at 0x7fa64620bcd0>\n",
      "NVIDIA A30\n"
     ]
    }
   ],
   "source": [
    "# Get CUDA device name\n",
    "print(torch.cuda.device(0))\n",
    "print(torch.cuda.get_device_name(0))"
   ]
  },
  {
   "cell_type": "code",
   "execution_count": 3,
   "id": "8a68bb58",
   "metadata": {},
   "outputs": [
    {
     "name": "stdout",
     "output_type": "stream",
     "text": [
      "Dataset: AmazonProducts()\n",
      "-------------------\n",
      "Number of graphs: 1\n",
      "Number of nodes: 1569960\n",
      "Number of features: 200\n",
      "Number of classes: 107\n"
     ]
    }
   ],
   "source": [
    "from torch_geometric.datasets import AmazonProducts\n",
    "\n",
    "# Import dataset from PyTorch Geometric\n",
    "dataset = AmazonProducts(root=\"/dfs6/pub/seminl1/AmazonProducts\")\n",
    "data = dataset[0]\n",
    "\n",
    "# Store the dataset to GPU\n",
    "#data = data.pin_memory()\n",
    "#data = data.to('cuda:0', non_blocking=True)\n",
    "\n",
    "# Print information about the dataset\n",
    "print(f'Dataset: {dataset}')\n",
    "print('-------------------')\n",
    "print(f'Number of graphs: {len(dataset)}')\n",
    "print(f'Number of nodes: {data.x.shape[0]}')\n",
    "print(f'Number of features: {dataset.num_features}')\n",
    "print(f'Number of classes: {dataset.num_classes}')\n",
    "\n",
    "# Print information about the graph\n",
    "#print(f'\\nGraph:')\n",
    "#print('------')\n",
    "#print(f'Edges are directed: {data.is_directed()}')\n",
    "#print(f'Graph has isolated nodes: {data.has_isolated_nodes()}')\n",
    "#print(f'Graph has loops: {data.has_self_loops()}')"
   ]
  },
  {
   "cell_type": "code",
   "execution_count": 4,
   "id": "fc761096",
   "metadata": {},
   "outputs": [
    {
     "name": "stdout",
     "output_type": "stream",
     "text": [
      "Graph is stored on the GPU: False\n"
     ]
    }
   ],
   "source": [
    "# Check whether the dataset is stored on the GPU or not\n",
    "print(f'Graph is stored on the GPU: {data.is_cuda}')"
   ]
  },
  {
   "cell_type": "code",
   "execution_count": 5,
   "id": "806448f4",
   "metadata": {},
   "outputs": [
    {
     "name": "stdout",
     "output_type": "stream",
     "text": [
      "Graph: Data(x=[1569960, 200], edge_index=[2, 264339468], y=[1569960, 107], train_mask=[1569960], val_mask=[1569960], test_mask=[1569960])\n"
     ]
    }
   ],
   "source": [
    "# Print first element\n",
    "print(f'Graph: {data}')"
   ]
  },
  {
   "cell_type": "code",
   "execution_count": 6,
   "id": "9e6cd458",
   "metadata": {},
   "outputs": [
    {
     "name": "stdout",
     "output_type": "stream",
     "text": [
      "x = torch.Size([1569960, 200])\n",
      "tensor([[-0.1466,  0.2226, -0.3597,  ...,  0.1699,  0.8974,  1.6527],\n",
      "        [-0.2805,  0.0190,  0.4301,  ..., -1.1758, -1.8365, -1.1693],\n",
      "        [ 0.2554,  0.2519, -0.0291,  ...,  1.3751, -0.0735,  0.6262],\n",
      "        ...,\n",
      "        [-0.8121,  0.3626, -0.7781,  ...,  0.0639,  0.8645,  0.0389],\n",
      "        [ 1.5977, -2.3989, -0.0569,  ..., -1.4413,  0.2966,  0.0985],\n",
      "        [-0.1663,  0.0629, -0.0474,  ...,  0.1853, -0.1216, -0.9181]])\n"
     ]
    }
   ],
   "source": [
    "# Node feature matrix information\n",
    "print(f'x = {data.x.shape}')\n",
    "print(data.x)"
   ]
  },
  {
   "cell_type": "code",
   "execution_count": 7,
   "id": "b9cf3806",
   "metadata": {},
   "outputs": [
    {
     "name": "stdout",
     "output_type": "stream",
     "text": [
      "edge_index = torch.Size([2, 264339468])\n",
      "tensor([[      0,       0,       0,  ..., 1569958, 1569959, 1569959],\n",
      "        [      0,   83053,  210735,  ..., 1569958, 1178338, 1569959]])\n"
     ]
    }
   ],
   "source": [
    "# Edge index information\n",
    "print(f'edge_index = {data.edge_index.shape}')\n",
    "print(data.edge_index)"
   ]
  },
  {
   "cell_type": "code",
   "execution_count": 8,
   "id": "9a75f88f",
   "metadata": {},
   "outputs": [
    {
     "name": "stdout",
     "output_type": "stream",
     "text": [
      "tensor(0)\n",
      "tensor(10000)\n",
      "tensor(20000)\n",
      "tensor(30000)\n",
      "tensor(40000)\n",
      "tensor(50000)\n",
      "tensor(60000)\n",
      "tensor(70000)\n",
      "tensor(80000)\n",
      "tensor(90000)\n",
      "tensor(100000)\n",
      "tensor(110000)\n",
      "tensor(120000)\n",
      "tensor(130000)\n",
      "tensor(140000)\n",
      "tensor(150000)\n",
      "tensor(160000)\n",
      "tensor(170000)\n",
      "tensor(180000)\n",
      "tensor(190000)\n",
      "tensor(200000)\n",
      "tensor(210000)\n",
      "tensor(220000)\n",
      "tensor(230000)\n",
      "tensor(240000)\n",
      "tensor(250000)\n",
      "tensor(260000)\n",
      "tensor(270000)\n",
      "tensor(280000)\n",
      "tensor(290000)\n",
      "tensor(300000)\n",
      "tensor(310000)\n",
      "tensor(320000)\n",
      "tensor(330000)\n",
      "tensor(340000)\n",
      "tensor(350000)\n",
      "tensor(360000)\n",
      "tensor(370000)\n",
      "tensor(380000)\n",
      "tensor(390000)\n",
      "tensor(400000)\n",
      "tensor(410000)\n",
      "tensor(420000)\n",
      "tensor(430000)\n",
      "tensor(440000)\n",
      "tensor(450000)\n",
      "tensor(460000)\n",
      "tensor(470000)\n",
      "tensor(480000)\n",
      "tensor(490000)\n",
      "tensor(500000)\n",
      "tensor(510000)\n",
      "tensor(520000)\n",
      "tensor(530000)\n",
      "tensor(540000)\n",
      "tensor(550000)\n",
      "tensor(560000)\n",
      "tensor(570000)\n",
      "tensor(580000)\n",
      "tensor(590000)\n",
      "tensor(600000)\n",
      "tensor(610000)\n",
      "tensor(620000)\n",
      "tensor(630000)\n",
      "tensor(640000)\n",
      "tensor(650000)\n",
      "tensor(660000)\n",
      "tensor(670000)\n",
      "tensor(680000)\n",
      "tensor(690000)\n",
      "tensor(700000)\n",
      "tensor(710000)\n",
      "tensor(720000)\n",
      "tensor(730000)\n",
      "tensor(740000)\n",
      "tensor(750000)\n",
      "tensor(760000)\n",
      "tensor(770000)\n",
      "tensor(780000)\n",
      "tensor(790000)\n",
      "tensor(800000)\n",
      "tensor(810000)\n",
      "tensor(820000)\n",
      "tensor(830000)\n",
      "tensor(840000)\n",
      "tensor(850000)\n",
      "tensor(860000)\n",
      "tensor(870000)\n",
      "tensor(880000)\n",
      "tensor(890000)\n",
      "tensor(900000)\n",
      "tensor(910000)\n",
      "tensor(920000)\n",
      "tensor(930000)\n",
      "tensor(940000)\n",
      "tensor(950000)\n",
      "tensor(960000)\n",
      "tensor(970000)\n",
      "tensor(980000)\n",
      "tensor(990000)\n",
      "tensor(1000000)\n",
      "tensor(1010000)\n",
      "tensor(1020000)\n",
      "tensor(1030000)\n",
      "tensor(1040000)\n",
      "tensor(1050000)\n",
      "tensor(1060000)\n",
      "tensor(1070000)\n",
      "tensor(1080000)\n",
      "tensor(1090000)\n",
      "tensor(1100000)\n",
      "tensor(1110000)\n",
      "tensor(1120000)\n",
      "tensor(1130000)\n",
      "tensor(1140000)\n",
      "tensor(1150000)\n",
      "tensor(1160000)\n",
      "tensor(1170000)\n",
      "tensor(1180000)\n",
      "tensor(1190000)\n",
      "tensor(1200000)\n",
      "tensor(1210000)\n",
      "tensor(1220000)\n",
      "tensor(1230000)\n",
      "tensor(1240000)\n",
      "tensor(1250000)\n",
      "tensor(1260000)\n",
      "tensor(1270000)\n",
      "tensor(1280000)\n",
      "tensor(1290000)\n",
      "tensor(1300000)\n",
      "tensor(1310000)\n",
      "tensor(1320000)\n",
      "tensor(1330000)\n",
      "tensor(1340000)\n",
      "tensor(1350000)\n",
      "tensor(1360000)\n",
      "tensor(1370000)\n",
      "tensor(1380000)\n",
      "tensor(1390000)\n",
      "tensor(1400000)\n",
      "tensor(1410000)\n",
      "tensor(1420000)\n",
      "tensor(1430000)\n",
      "tensor(1440000)\n",
      "tensor(1450000)\n",
      "tensor(1460000)\n",
      "tensor(1470000)\n",
      "tensor(1480000)\n",
      "tensor(1490000)\n",
      "tensor(1500000)\n",
      "tensor(1510000)\n",
      "tensor(1520000)\n",
      "tensor(1530000)\n",
      "tensor(1540000)\n",
      "tensor(1550000)\n",
      "tensor(1560000)\n",
      "262769508\n"
     ]
    }
   ],
   "source": [
    "# Try to get the number of addition operation\n",
    "start_point = 0\n",
    "numAddition = 0\n",
    "numEdges = 264339468\n",
    "for i in range(numEdges-1):\n",
    "    if data.edge_index[0][i+1] == start_point:\n",
    "        numAddition += 1\n",
    "    else:\n",
    "        start_point = data.edge_index[0][i+1]\n",
    "        if data.edge_index[0][i] % 10000 == 0:\n",
    "            print(data.edge_index[0][i])\n",
    "print(numAddition)"
   ]
  },
  {
   "cell_type": "code",
   "execution_count": 9,
   "id": "960a0064",
   "metadata": {},
   "outputs": [
    {
     "name": "stdout",
     "output_type": "stream",
     "text": [
      "y(one-hot) = torch.Size([1569960, 107])\n",
      "tensor([[0, 0, 0,  ..., 0, 0, 0],\n",
      "        [0, 0, 0,  ..., 0, 0, 0],\n",
      "        [0, 0, 0,  ..., 0, 0, 0],\n",
      "        ...,\n",
      "        [0, 0, 0,  ..., 0, 0, 0],\n",
      "        [0, 0, 0,  ..., 0, 0, 0],\n",
      "        [0, 0, 0,  ..., 0, 0, 0]])\n",
      "y(label) = torch.Size([1569960])\n",
      "tensor([43, 37, 76,  ..., 99, 14, 80])\n"
     ]
    }
   ],
   "source": [
    "# Ground-truth labels\n",
    "print(f'y(one-hot) = {data.y.shape}')\n",
    "print(data.y)\n",
    "data.y = torch.argmax(data.y, dim=1)\n",
    "print(f'y(label) = {data.y.shape}')\n",
    "print(data.y)"
   ]
  },
  {
   "cell_type": "code",
   "execution_count": 10,
   "id": "e1b5d9d4",
   "metadata": {},
   "outputs": [
    {
     "name": "stdout",
     "output_type": "stream",
     "text": [
      "train_mask = torch.Size([1569960])\n",
      "tensor([ True,  True, False,  ..., False,  True,  True])\n"
     ]
    }
   ],
   "source": [
    "# Train mask\n",
    "print(f'train_mask = {data.train_mask.shape}')\n",
    "print(data.train_mask)"
   ]
  },
  {
   "cell_type": "code",
   "execution_count": 11,
   "id": "61f8128d",
   "metadata": {},
   "outputs": [],
   "source": [
    "from torch_geometric.loader import NeighborLoader\n",
    "\n",
    "# Create batches with neighbor sampling\n",
    "train_loader = NeighborLoader(\n",
    "    data,\n",
    "    num_neighbors=[-1],\n",
    "    batch_size=1024,\n",
    "    input_nodes=data.train_mask,\n",
    ")"
   ]
  },
  {
   "cell_type": "code",
   "execution_count": 12,
   "id": "89aa0375",
   "metadata": {},
   "outputs": [],
   "source": [
    "# Create a simple GCN with only one GCN layer\n",
    "import torch.nn.functional as F\n",
    "\n",
    "from torch.nn import Linear\n",
    "from torch_geometric.nn import GCNConv\n",
    "\n",
    "class GCN(torch.nn.Module):\n",
    "    def __init__(self):\n",
    "        super().__init__()\n",
    "        self.gcn1 = GCNConv(dataset.num_features, dataset.num_classes)\n",
    "        self.optimizer = torch.optim.Adam(self.parameters(),\n",
    "                                          lr=0.01,\n",
    "                                          weight_decay=5e-4)\n",
    "\n",
    "    def forward(self, x, edge_index):\n",
    "        x = self.gcn1(x, edge_index)\n",
    "        z = F.log_softmax(x, dim=1)\n",
    "        return x, z"
   ]
  },
  {
   "cell_type": "code",
   "execution_count": 13,
   "id": "d97d9af5",
   "metadata": {},
   "outputs": [],
   "source": [
    "def accuracy(pred_y, y):\n",
    "    \"\"\"Calculate accuracy.\"\"\"\n",
    "    return ((pred_y == y).sum() / len(y)).item()\n",
    "\n",
    "def train(model, data, train_loader, device):\n",
    "    \"\"\"Train a GNN model and return the trained model.\"\"\"\n",
    "    criterion = torch.nn.CrossEntropyLoss()\n",
    "    optimizer = model.optimizer\n",
    "    epochs = 200\n",
    "\n",
    "    model.train()\n",
    "    for epoch in range(epochs+1):\n",
    "        # Training\n",
    "        total_loss = 0\n",
    "        acc = 0\n",
    "        val_loss = 0\n",
    "        val_acc = 0\n",
    "        \n",
    "        # Train on batches\n",
    "        for batch in train_loader:\n",
    "            batch = batch.to(device)\n",
    "            optimizer.zero_grad()\n",
    "            h, out = model(batch.x, batch.edge_index)\n",
    "            loss = criterion(out[batch.train_mask], batch.y[batch.train_mask])\n",
    "            total_loss += loss\n",
    "            acc += accuracy(out[batch.train_mask].argmax(dim=1), batch.y[batch.train_mask])\n",
    "            loss.backward()\n",
    "            optimizer.step()\n",
    "\n",
    "        # Print metrics every 10 epochs\n",
    "        if(epoch % 10 == 0):\n",
    "            print(f'Epoch {epoch:>3} | Train Loss: {total_loss/len(train_loader):.3f} | Train Acc: '\n",
    "                  f'{acc/len(train_loader)*100:>6.2f}%')\n",
    "          \n",
    "    return model, h, out"
   ]
  },
  {
   "cell_type": "code",
   "execution_count": 14,
   "id": "e5e123e1",
   "metadata": {},
   "outputs": [
    {
     "name": "stdout",
     "output_type": "stream",
     "text": [
      "GCN(\n",
      "  (gcn1): GCNConv(200, 107)\n",
      ")\n",
      "\n",
      "Epoch   0 | Train Loss: 2.052 | Train Acc:  53.38%\n",
      "Epoch  10 | Train Loss: 1.876 | Train Acc:  54.70%\n",
      "Epoch  20 | Train Loss: 1.876 | Train Acc:  54.70%\n",
      "Epoch  30 | Train Loss: 1.876 | Train Acc:  54.70%\n",
      "Epoch  40 | Train Loss: 1.876 | Train Acc:  54.70%\n",
      "Epoch  50 | Train Loss: 1.876 | Train Acc:  54.70%\n",
      "Epoch  60 | Train Loss: 1.876 | Train Acc:  54.70%\n",
      "Epoch  70 | Train Loss: 1.876 | Train Acc:  54.70%\n",
      "Epoch  80 | Train Loss: 1.876 | Train Acc:  54.70%\n",
      "Epoch  90 | Train Loss: 1.876 | Train Acc:  54.70%\n",
      "Epoch 100 | Train Loss: 1.876 | Train Acc:  54.70%\n",
      "Epoch 110 | Train Loss: 1.876 | Train Acc:  54.70%\n",
      "Epoch 120 | Train Loss: 1.876 | Train Acc:  54.70%\n",
      "Epoch 130 | Train Loss: 1.876 | Train Acc:  54.70%\n",
      "Epoch 140 | Train Loss: 1.876 | Train Acc:  54.70%\n",
      "Epoch 150 | Train Loss: 1.876 | Train Acc:  54.70%\n",
      "Epoch 160 | Train Loss: 1.876 | Train Acc:  54.70%\n",
      "Epoch 170 | Train Loss: 1.876 | Train Acc:  54.70%\n",
      "Epoch 180 | Train Loss: 1.876 | Train Acc:  54.70%\n",
      "Epoch 190 | Train Loss: 1.876 | Train Acc:  54.70%\n",
      "Epoch 200 | Train Loss: 1.876 | Train Acc:  54.70%\n",
      "\n",
      "Elapsed Time(CPU):  35672.037487787995 seconds\n"
     ]
    }
   ],
   "source": [
    "import time\n",
    "\n",
    "# Create GCN model\n",
    "gcn = GCN()\n",
    "print(gcn)\n",
    "print()\n",
    "\n",
    "# Train and test\n",
    "# Train\n",
    "device = torch.device('cuda' if torch.cuda.is_available() else 'cpu')\n",
    "\n",
    "start_time = time.process_time()\n",
    "gcn_model, gcn_output, final_output = train(gcn.to(device), data.to(device), train_loader, device)\n",
    "end_time = time.process_time()\n",
    "elapsed_time = end_time - start_time\n",
    "print()\n",
    "print('Elapsed Time(CPU): ', elapsed_time, 'seconds')"
   ]
  },
  {
   "cell_type": "code",
   "execution_count": 15,
   "id": "8c7d0802",
   "metadata": {},
   "outputs": [
    {
     "name": "stdout",
     "output_type": "stream",
     "text": [
      "cuda\n"
     ]
    }
   ],
   "source": [
    "print(device)"
   ]
  },
  {
   "cell_type": "code",
   "execution_count": null,
   "id": "e1b8807c",
   "metadata": {},
   "outputs": [],
   "source": []
  }
 ],
 "metadata": {
  "kernelspec": {
   "display_name": "Python 3 (ipykernel)",
   "language": "python",
   "name": "python3"
  },
  "language_info": {
   "codemirror_mode": {
    "name": "ipython",
    "version": 3
   },
   "file_extension": ".py",
   "mimetype": "text/x-python",
   "name": "python",
   "nbconvert_exporter": "python",
   "pygments_lexer": "ipython3",
   "version": "3.11.5"
  }
 },
 "nbformat": 4,
 "nbformat_minor": 5
}
