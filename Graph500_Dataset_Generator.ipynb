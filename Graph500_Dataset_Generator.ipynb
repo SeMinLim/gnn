{
 "cells": [
  {
   "cell_type": "code",
   "execution_count": 3,
   "id": "5bca3522",
   "metadata": {},
   "outputs": [
    {
     "name": "stdout",
     "output_type": "stream",
     "text": [
      "True\n",
      "1\n",
      "0\n"
     ]
    }
   ],
   "source": [
    "# Import torch & Check CUDA availability\n",
    "import torch\n",
    "\n",
    "print(torch.cuda.is_available())\n",
    "print(torch.cuda.device_count())\n",
    "print(torch.cuda.current_device())"
   ]
  },
  {
   "cell_type": "code",
   "execution_count": 4,
   "id": "6955ed10",
   "metadata": {},
   "outputs": [
    {
     "name": "stdout",
     "output_type": "stream",
     "text": [
      "<torch.cuda.device object at 0x7f38a3b88650>\n",
      "NVIDIA A30\n"
     ]
    }
   ],
   "source": [
    "# Get CUDA device name\n",
    "print(torch.cuda.device(0))\n",
    "print(torch.cuda.get_device_name(0))"
   ]
  },
  {
   "cell_type": "markdown",
   "id": "83ea55c2",
   "metadata": {},
   "source": [
    "### Graph500_Scale23_EdgeFactor32"
   ]
  },
  {
   "cell_type": "markdown",
   "id": "0d9aa9f1",
   "metadata": {},
   "source": [
    "#### Read binary file first"
   ]
  },
  {
   "cell_type": "code",
   "execution_count": 3,
   "id": "79a3a035",
   "metadata": {},
   "outputs": [],
   "source": [
    "import struct\n",
    "\n",
    "file = open(\"/dfs6/pub/seminl1/graph500/graph500_scale23_ef32.edges\", \"rb\")\n",
    "\n",
    "edges=[]\n",
    "while True:\n",
    "    value = file.read(8)\n",
    "    if len(value) != 8:\n",
    "        break\n",
    "    else:\n",
    "        (v1, v2) = struct.unpack(\"II\", value)\n",
    "        edges.append(v1)\n",
    "        edges.append(v2)\n",
    "\n",
    "file.close()"
   ]
  },
  {
   "cell_type": "code",
   "execution_count": 4,
   "id": "8c1f9766",
   "metadata": {},
   "outputs": [
    {
     "name": "stdout",
     "output_type": "stream",
     "text": [
      "805306368\n",
      "8388607\n",
      "0\n"
     ]
    }
   ],
   "source": [
    "print(len(edges))\n",
    "print(max(edges))\n",
    "print(min(edges))"
   ]
  },
  {
   "cell_type": "markdown",
   "id": "67bfeef1",
   "metadata": {},
   "source": [
    "#### Edge index"
   ]
  },
  {
   "cell_type": "code",
   "execution_count": 5,
   "id": "ee04a3dc",
   "metadata": {},
   "outputs": [
    {
     "name": "stdout",
     "output_type": "stream",
     "text": [
      "(805306368,)\n",
      "(402653184, 2)\n"
     ]
    }
   ],
   "source": [
    "import numpy as np\n",
    "\n",
    "# Change edge_index list to numpy array first\n",
    "edges = np.array(edges)\n",
    "print(edges.shape)\n",
    "# Reshape edge_index numpy array to 2-dimensional\n",
    "edges = edges.reshape(-1, 2)\n",
    "print(edges.shape)"
   ]
  },
  {
   "cell_type": "code",
   "execution_count": 6,
   "id": "3133273c",
   "metadata": {},
   "outputs": [
    {
     "name": "stdout",
     "output_type": "stream",
     "text": [
      "(136320066, 2)\n"
     ]
    }
   ],
   "source": [
    "# Delete duplicates of the edges (It's meaningless having the duplicates edges)\n",
    "edges = np.unique(edges, axis=0)\n",
    "print(edges.shape)"
   ]
  },
  {
   "cell_type": "markdown",
   "id": "6c572adf",
   "metadata": {},
   "source": [
    "The number of edges written in 'Barad-dur' is impossible"
   ]
  },
  {
   "cell_type": "markdown",
   "id": "66e47e51",
   "metadata": {},
   "source": [
    "### Graph500_Scale23_EdgeFactor64"
   ]
  },
  {
   "cell_type": "markdown",
   "id": "e3764ccb",
   "metadata": {},
   "source": [
    "#### Read binary file first"
   ]
  },
  {
   "cell_type": "code",
   "execution_count": 3,
   "id": "ddf58f0b",
   "metadata": {},
   "outputs": [],
   "source": [
    "import struct\n",
    "\n",
    "file = open(\"/dfs6/pub/seminl1/graph500/graph500_scale23_ef64.edges\", \"rb\")\n",
    "\n",
    "edges=[]\n",
    "while True:\n",
    "    value = file.read(8)\n",
    "    if len(value) != 8:\n",
    "        break\n",
    "    else:\n",
    "        (v1, v2) = struct.unpack(\"II\", value)\n",
    "        edges.append(v1)\n",
    "        edges.append(v2)\n",
    "\n",
    "file.close()"
   ]
  },
  {
   "cell_type": "code",
   "execution_count": 4,
   "id": "91c3afba",
   "metadata": {},
   "outputs": [
    {
     "name": "stdout",
     "output_type": "stream",
     "text": [
      "1610612736\n",
      "8388607\n",
      "0\n"
     ]
    }
   ],
   "source": [
    "print(len(edges))\n",
    "print(max(edges))\n",
    "print(min(edges))"
   ]
  },
  {
   "cell_type": "markdown",
   "id": "58a975d7",
   "metadata": {},
   "source": [
    "#### Edge index"
   ]
  },
  {
   "cell_type": "code",
   "execution_count": 5,
   "id": "cd129f17",
   "metadata": {},
   "outputs": [
    {
     "name": "stdout",
     "output_type": "stream",
     "text": [
      "(1610612736,)\n",
      "(805306368, 2)\n"
     ]
    }
   ],
   "source": [
    "import numpy as np\n",
    "\n",
    "# Change edge_index list to numpy array first\n",
    "edges = np.array(edges)\n",
    "print(edges.shape)\n",
    "# Reshape edge_index numpy array to 2-dimensional\n",
    "edges = edges.reshape(-1, 2)\n",
    "print(edges.shape)"
   ]
  },
  {
   "cell_type": "code",
   "execution_count": 6,
   "id": "2e7e41e1",
   "metadata": {},
   "outputs": [
    {
     "name": "stdout",
     "output_type": "stream",
     "text": [
      "(261760844, 2)\n"
     ]
    }
   ],
   "source": [
    "# Delete duplicates of the edges (It's meaningless having the duplicates edges)\n",
    "edges = np.unique(edges, axis=0)\n",
    "print(edges.shape)"
   ]
  },
  {
   "cell_type": "code",
   "execution_count": 7,
   "id": "49ff504e",
   "metadata": {},
   "outputs": [
    {
     "name": "stdout",
     "output_type": "stream",
     "text": [
      "torch.Size([261760844, 2])\n"
     ]
    }
   ],
   "source": [
    "# Make edge_index as tensor for using it on PyTorch Geometric\n",
    "# dtype should be torch.int64\n",
    "import torch_geometric\n",
    "\n",
    "edges = torch.tensor(edges, dtype=torch.int64)\n",
    "print(edges.shape)"
   ]
  },
  {
   "cell_type": "markdown",
   "id": "8459ea98",
   "metadata": {},
   "source": [
    "#### Node feature matrix"
   ]
  },
  {
   "cell_type": "code",
   "execution_count": 8,
   "id": "eb29d1e0",
   "metadata": {},
   "outputs": [
    {
     "name": "stdout",
     "output_type": "stream",
     "text": [
      "536870912\n"
     ]
    }
   ],
   "source": [
    "# Make node feature matrix by our own\n",
    "# 8388608(#nodes) x 64(#features)\n",
    "import random\n",
    "\n",
    "x=[]\n",
    "tmp = []\n",
    "for i in range(8388608):\n",
    "    for j in range(64):\n",
    "        r = random.uniform(-2.5, 2.5)\n",
    "        while r in tmp:\n",
    "            r = random.uniform(-2.5, 2.5)\n",
    "        tmp.append(r)\n",
    "    x.extend(tmp)\n",
    "    tmp.clear()\n",
    "\n",
    "print(len(x))"
   ]
  },
  {
   "cell_type": "code",
   "execution_count": 9,
   "id": "bf812f4f",
   "metadata": {},
   "outputs": [
    {
     "name": "stdout",
     "output_type": "stream",
     "text": [
      "(536870912,)\n",
      "(8388608, 64)\n"
     ]
    }
   ],
   "source": [
    "# Change node feature matrix(list) to numpy array first\n",
    "x = np.array(x)\n",
    "print(x.shape)\n",
    "# Reshape node feature matrix(numpy array) to 2-dimensional\n",
    "x = x.reshape(-1, 64)\n",
    "print(x.shape)"
   ]
  },
  {
   "cell_type": "code",
   "execution_count": 10,
   "id": "ca6cee94",
   "metadata": {},
   "outputs": [
    {
     "name": "stdout",
     "output_type": "stream",
     "text": [
      "torch.Size([8388608, 64])\n"
     ]
    }
   ],
   "source": [
    "# Make node feature matrix as tensor for using it on PyTorch Geometric\n",
    "# dtype should be torch.float32\n",
    "x = torch.tensor(x, dtype=torch.float32)\n",
    "print(x.shape)"
   ]
  },
  {
   "cell_type": "markdown",
   "id": "c2cbf000",
   "metadata": {},
   "source": [
    "#### Ground-truth labels"
   ]
  },
  {
   "cell_type": "code",
   "execution_count": 11,
   "id": "37cbe51f",
   "metadata": {},
   "outputs": [
    {
     "name": "stdout",
     "output_type": "stream",
     "text": [
      "8388608\n"
     ]
    }
   ],
   "source": [
    "# Make ground-truth labels by our own\n",
    "y=[]\n",
    "for i in range(8388608):\n",
    "    r = random.randrange(0, 64)\n",
    "    y.append(r)\n",
    "\n",
    "print(len(y))"
   ]
  },
  {
   "cell_type": "code",
   "execution_count": 12,
   "id": "12443f51",
   "metadata": {},
   "outputs": [
    {
     "name": "stdout",
     "output_type": "stream",
     "text": [
      "torch.Size([8388608])\n"
     ]
    }
   ],
   "source": [
    "# Make ground-truth lables as tensor for using it on PyTorch Geometric\n",
    "# dtype should be torch.int64\n",
    "y = torch.tensor(y, dtype=torch.int64)\n",
    "print(y.shape)"
   ]
  },
  {
   "cell_type": "markdown",
   "id": "7615118d",
   "metadata": {},
   "source": [
    "#### Make all components as PyTorch dataset"
   ]
  },
  {
   "cell_type": "code",
   "execution_count": 13,
   "id": "64a12e9d",
   "metadata": {},
   "outputs": [
    {
     "name": "stdout",
     "output_type": "stream",
     "text": [
      "Data(x=[8388608, 64], edge_index=[2, 261760844], y=[8388608])\n"
     ]
    }
   ],
   "source": [
    "# Make node feature matrix, edge index, ground-truth labels as PyTorch Dataset\n",
    "from torch_geometric.data import Data\n",
    "data = Data(x=x, edge_index=edges.t().contiguous(), y=y)\n",
    "print(data)"
   ]
  },
  {
   "cell_type": "code",
   "execution_count": 14,
   "id": "f3b40e47",
   "metadata": {},
   "outputs": [
    {
     "name": "stdout",
     "output_type": "stream",
     "text": [
      "The current dataset is undirected: False\n"
     ]
    }
   ],
   "source": [
    "print('The current dataset is undirected:', data.is_undirected())"
   ]
  },
  {
   "cell_type": "code",
   "execution_count": 15,
   "id": "2b17b429",
   "metadata": {},
   "outputs": [
    {
     "name": "stdout",
     "output_type": "stream",
     "text": [
      "The current data is undirected: True\n"
     ]
    }
   ],
   "source": [
    "import torch_geometric.transforms as T\n",
    "\n",
    "data = T.ToUndirected()(data)\n",
    "print('The current data is undirected:', data.is_undirected())"
   ]
  },
  {
   "cell_type": "markdown",
   "id": "55d86cdf",
   "metadata": {},
   "source": [
    "#### Save the PyTorch dataset"
   ]
  },
  {
   "cell_type": "code",
   "execution_count": 16,
   "id": "641435a8",
   "metadata": {},
   "outputs": [],
   "source": [
    "torch.save(data, \"/dfs6/pub/seminl1/graph500/graph500_scale23_ef64.pt\")"
   ]
  },
  {
   "cell_type": "code",
   "execution_count": 18,
   "id": "8a4cc316",
   "metadata": {},
   "outputs": [],
   "source": [
    "data = torch.load(\"/dfs6/pub/seminl1/graph500/graph500_scale23_ef64.pt\", mmap=True)"
   ]
  },
  {
   "cell_type": "code",
   "execution_count": 19,
   "id": "7202f352",
   "metadata": {},
   "outputs": [
    {
     "name": "stdout",
     "output_type": "stream",
     "text": [
      "Data(x=[8388608, 64], edge_index=[2, 517557419], y=[8388608])\n"
     ]
    }
   ],
   "source": [
    "print(data)"
   ]
  },
  {
   "cell_type": "markdown",
   "id": "9c4a8435",
   "metadata": {},
   "source": [
    "### Graph500_Scale24_EdgeFactor32"
   ]
  },
  {
   "cell_type": "markdown",
   "id": "ed108536",
   "metadata": {},
   "source": [
    "#### Read binary file first"
   ]
  },
  {
   "cell_type": "code",
   "execution_count": 20,
   "id": "d262d20e",
   "metadata": {},
   "outputs": [],
   "source": [
    "import struct\n",
    "\n",
    "file = open(\"/dfs6/pub/seminl1/graph500/graph500_scale24_ef32.edges\", \"rb\")\n",
    "\n",
    "edges=[]\n",
    "while True:\n",
    "    value = file.read(8)\n",
    "    if len(value) != 8:\n",
    "        break\n",
    "    else:\n",
    "        (v1, v2) = struct.unpack(\"II\", value)\n",
    "        edges.append(v1)\n",
    "        edges.append(v2)\n",
    "\n",
    "file.close()"
   ]
  },
  {
   "cell_type": "code",
   "execution_count": 21,
   "id": "52b59de9",
   "metadata": {},
   "outputs": [
    {
     "name": "stdout",
     "output_type": "stream",
     "text": [
      "1610612736\n",
      "16777215\n",
      "0\n"
     ]
    }
   ],
   "source": [
    "print(len(edges))\n",
    "print(max(edges))\n",
    "print(min(edges))"
   ]
  },
  {
   "cell_type": "markdown",
   "id": "8a2c47dd",
   "metadata": {},
   "source": [
    "#### Edge index"
   ]
  },
  {
   "cell_type": "code",
   "execution_count": 22,
   "id": "2242d54a",
   "metadata": {},
   "outputs": [
    {
     "name": "stdout",
     "output_type": "stream",
     "text": [
      "(1610612736,)\n",
      "(805306368, 2)\n"
     ]
    }
   ],
   "source": [
    "import numpy as np\n",
    "\n",
    "# Change edge_index list to numpy array first\n",
    "edges = np.array(edges)\n",
    "print(edges.shape)\n",
    "# Reshape edge_index numpy array to 2-dimensional\n",
    "edges = edges.reshape(-1, 2)\n",
    "print(edges.shape)"
   ]
  },
  {
   "cell_type": "code",
   "execution_count": 23,
   "id": "12c18400",
   "metadata": {},
   "outputs": [
    {
     "name": "stdout",
     "output_type": "stream",
     "text": [
      "(273771147, 2)\n"
     ]
    }
   ],
   "source": [
    "# Delete duplicates of the edges (It's meaningless having the duplicates edges)\n",
    "edges = np.unique(edges, axis=0)\n",
    "print(edges.shape)"
   ]
  },
  {
   "cell_type": "markdown",
   "id": "1fe37da7",
   "metadata": {},
   "source": [
    "The number of edges of scale24EdgeFactor32 is not enough to fit our targetting dataset cluster constitution"
   ]
  },
  {
   "cell_type": "markdown",
   "id": "0c8235ed",
   "metadata": {},
   "source": [
    "### Graph500_Scale24_EdgeFactor64"
   ]
  },
  {
   "cell_type": "markdown",
   "id": "c07537e8",
   "metadata": {},
   "source": [
    "#### Read binary file first"
   ]
  },
  {
   "cell_type": "code",
   "execution_count": 1,
   "id": "33c7cb4f",
   "metadata": {},
   "outputs": [],
   "source": [
    "import struct\n",
    "\n",
    "file = open(\"/dfs6/pub/seminl1/graph500/graph500_scale24_ef64.edges\", \"rb\")\n",
    "\n",
    "edges=[]\n",
    "while True:\n",
    "    value = file.read(8)\n",
    "    if len(value) != 8:\n",
    "        break\n",
    "    else:\n",
    "        (v1, v2) = struct.unpack(\"II\", value)\n",
    "        edges.append(v1)\n",
    "        edges.append(v2)\n",
    "\n",
    "file.close()"
   ]
  },
  {
   "cell_type": "code",
   "execution_count": 2,
   "id": "98a8edba",
   "metadata": {},
   "outputs": [
    {
     "name": "stdout",
     "output_type": "stream",
     "text": [
      "3221225472\n",
      "16777215\n",
      "0\n"
     ]
    }
   ],
   "source": [
    "print(len(edges))\n",
    "print(max(edges))\n",
    "print(min(edges))"
   ]
  },
  {
   "cell_type": "markdown",
   "id": "e54f8e99",
   "metadata": {},
   "source": [
    "#### Edge index"
   ]
  },
  {
   "cell_type": "code",
   "execution_count": 5,
   "id": "d87b2cf0",
   "metadata": {},
   "outputs": [
    {
     "name": "stdout",
     "output_type": "stream",
     "text": [
      "(3221225472,)\n",
      "(1610612736, 2)\n"
     ]
    }
   ],
   "source": [
    "import numpy as np\n",
    "\n",
    "# Change edge_index list to numpy array first\n",
    "edges = np.array(edges)\n",
    "print(edges.shape)\n",
    "# Reshape edge_index numpy array to 2-dimensional\n",
    "edges = edges.reshape(-1, 2)\n",
    "print(edges.shape)"
   ]
  },
  {
   "cell_type": "code",
   "execution_count": 6,
   "id": "698f6fd8",
   "metadata": {},
   "outputs": [
    {
     "name": "stdout",
     "output_type": "stream",
     "text": [
      "(527928564, 2)\n"
     ]
    }
   ],
   "source": [
    "# Delete duplicates of the edges (It's meaningless having the duplicates edges)\n",
    "edges = np.unique(edges, axis=0)\n",
    "print(edges.shape)"
   ]
  },
  {
   "cell_type": "code",
   "execution_count": 7,
   "id": "8e3bf3c1",
   "metadata": {},
   "outputs": [
    {
     "name": "stdout",
     "output_type": "stream",
     "text": [
      "torch.Size([527928564, 2])\n"
     ]
    }
   ],
   "source": [
    "# Make edge_index as tensor for using it on PyTorch Geometric\n",
    "# dtype should be torch.int64\n",
    "import torch_geometric\n",
    "\n",
    "edges = torch.tensor(edges, dtype=torch.int64)\n",
    "print(edges.shape)"
   ]
  },
  {
   "cell_type": "markdown",
   "id": "b21cc640",
   "metadata": {},
   "source": [
    "#### Node feature matrix"
   ]
  },
  {
   "cell_type": "code",
   "execution_count": 8,
   "id": "fc8e9dfe",
   "metadata": {},
   "outputs": [
    {
     "name": "stdout",
     "output_type": "stream",
     "text": [
      "1073741824\n"
     ]
    }
   ],
   "source": [
    "# Make node feature matrix by our own\n",
    "# 16777216(#nodes) x 64(#features)\n",
    "import random\n",
    "\n",
    "x=[]\n",
    "tmp = []\n",
    "for i in range(16777216):\n",
    "    for j in range(64):\n",
    "        r = random.uniform(-2.5, 2.5)\n",
    "        while r in tmp:\n",
    "            r = random.uniform(-2.5, 2.5)\n",
    "        tmp.append(r)\n",
    "    x.extend(tmp)\n",
    "    tmp.clear()\n",
    "\n",
    "print(len(x))"
   ]
  },
  {
   "cell_type": "code",
   "execution_count": 9,
   "id": "fd53ceb2",
   "metadata": {},
   "outputs": [
    {
     "name": "stdout",
     "output_type": "stream",
     "text": [
      "(1073741824,)\n",
      "(16777216, 64)\n"
     ]
    }
   ],
   "source": [
    "# Change node feature matrix(list) to numpy array first\n",
    "x = np.array(x)\n",
    "print(x.shape)\n",
    "# Reshape node feature matrix(numpy array) to 2-dimensional\n",
    "x = x.reshape(-1, 64)\n",
    "print(x.shape)"
   ]
  },
  {
   "cell_type": "code",
   "execution_count": 10,
   "id": "0e658c26",
   "metadata": {},
   "outputs": [
    {
     "name": "stdout",
     "output_type": "stream",
     "text": [
      "torch.Size([16777216, 64])\n"
     ]
    }
   ],
   "source": [
    "# Make node feature matrix as tensor for using it on PyTorch Geometric\n",
    "# dtype should be torch.float32\n",
    "x = torch.tensor(x, dtype=torch.float32)\n",
    "print(x.shape)"
   ]
  },
  {
   "cell_type": "markdown",
   "id": "f27cb522",
   "metadata": {},
   "source": [
    "#### Ground-truth labels"
   ]
  },
  {
   "cell_type": "code",
   "execution_count": 11,
   "id": "8da90df1",
   "metadata": {},
   "outputs": [
    {
     "name": "stdout",
     "output_type": "stream",
     "text": [
      "16777216\n"
     ]
    }
   ],
   "source": [
    "# Make ground-truth labels by our own\n",
    "y=[]\n",
    "for i in range(16777216):\n",
    "    r = random.randrange(0, 64)\n",
    "    y.append(r)\n",
    "\n",
    "print(len(y))"
   ]
  },
  {
   "cell_type": "code",
   "execution_count": 12,
   "id": "cf860c6d",
   "metadata": {},
   "outputs": [
    {
     "name": "stdout",
     "output_type": "stream",
     "text": [
      "torch.Size([16777216])\n"
     ]
    }
   ],
   "source": [
    "# Make ground-truth lables as tensor for using it on PyTorch Geometric\n",
    "# dtype should be torch.int64\n",
    "y = torch.tensor(y, dtype=torch.int64)\n",
    "print(y.shape)"
   ]
  },
  {
   "cell_type": "markdown",
   "id": "de4fafd0",
   "metadata": {},
   "source": [
    "#### Make all components as PyTorch dataset"
   ]
  },
  {
   "cell_type": "code",
   "execution_count": 13,
   "id": "164b3552",
   "metadata": {},
   "outputs": [
    {
     "name": "stdout",
     "output_type": "stream",
     "text": [
      "Data(x=[16777216, 64], edge_index=[2, 527928564], y=[16777216])\n"
     ]
    }
   ],
   "source": [
    "# Make node feature matrix, edge index, ground-truth labels as PyTorch Dataset\n",
    "from torch_geometric.data import Data\n",
    "data = Data(x=x, edge_index=edges.t().contiguous(), y=y)\n",
    "print(data)"
   ]
  },
  {
   "cell_type": "code",
   "execution_count": 14,
   "id": "448aaf80",
   "metadata": {},
   "outputs": [
    {
     "name": "stdout",
     "output_type": "stream",
     "text": [
      "The current dataset is undirected: False\n"
     ]
    }
   ],
   "source": [
    "print('The current dataset is undirected:', data.is_undirected())"
   ]
  },
  {
   "cell_type": "code",
   "execution_count": 15,
   "id": "b590f507",
   "metadata": {},
   "outputs": [
    {
     "name": "stdout",
     "output_type": "stream",
     "text": [
      "The current data is undirected: True\n"
     ]
    }
   ],
   "source": [
    "import torch_geometric.transforms as T\n",
    "\n",
    "data = T.ToUndirected()(data)\n",
    "print('The current data is undirected:', data.is_undirected())"
   ]
  },
  {
   "cell_type": "markdown",
   "id": "2c970d8a",
   "metadata": {},
   "source": [
    "#### Save the PyTorch dataset"
   ]
  },
  {
   "cell_type": "code",
   "execution_count": 16,
   "id": "ad29ec71",
   "metadata": {},
   "outputs": [],
   "source": [
    "torch.save(data, \"/dfs6/pub/seminl1/graph500/graph500_scale24_ef64.pt\")"
   ]
  },
  {
   "cell_type": "code",
   "execution_count": 17,
   "id": "fc42714b",
   "metadata": {},
   "outputs": [],
   "source": [
    "data = torch.load(\"/dfs6/pub/seminl1/graph500/graph500_scale24_ef64.pt\", mmap=True)"
   ]
  },
  {
   "cell_type": "code",
   "execution_count": 18,
   "id": "a039e1bf",
   "metadata": {},
   "outputs": [
    {
     "name": "stdout",
     "output_type": "stream",
     "text": [
      "Data(x=[16777216, 64], edge_index=[2, 1044447191], y=[16777216])\n"
     ]
    }
   ],
   "source": [
    "print(data)"
   ]
  },
  {
   "cell_type": "code",
   "execution_count": null,
   "id": "ccf5f5b0",
   "metadata": {},
   "outputs": [],
   "source": []
  }
 ],
 "metadata": {
  "kernelspec": {
   "display_name": "Python 3 (ipykernel)",
   "language": "python",
   "name": "python3"
  },
  "language_info": {
   "codemirror_mode": {
    "name": "ipython",
    "version": 3
   },
   "file_extension": ".py",
   "mimetype": "text/x-python",
   "name": "python",
   "nbconvert_exporter": "python",
   "pygments_lexer": "ipython3",
   "version": "3.11.5"
  }
 },
 "nbformat": 4,
 "nbformat_minor": 5
}
