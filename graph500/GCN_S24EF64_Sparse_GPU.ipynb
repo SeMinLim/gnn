{
 "cells": [
  {
   "cell_type": "code",
   "execution_count": 1,
   "id": "7dd1d746",
   "metadata": {},
   "outputs": [
    {
     "name": "stdout",
     "output_type": "stream",
     "text": [
      "True\n",
      "1\n",
      "0\n"
     ]
    }
   ],
   "source": [
    "# Import torch & Check CUDA availability\n",
    "import torch\n",
    "\n",
    "print(torch.cuda.is_available())\n",
    "print(torch.cuda.device_count())\n",
    "print(torch.cuda.current_device())"
   ]
  },
  {
   "cell_type": "code",
   "execution_count": 2,
   "id": "33358ec9",
   "metadata": {},
   "outputs": [
    {
     "name": "stdout",
     "output_type": "stream",
     "text": [
      "<torch.cuda.device object at 0x7f7054802cd0>\n",
      "NVIDIA A100 80GB PCIe\n"
     ]
    }
   ],
   "source": [
    "# Get CUDA device name\n",
    "print(torch.cuda.device(0))\n",
    "print(torch.cuda.get_device_name(0))"
   ]
  },
  {
   "cell_type": "markdown",
   "id": "809d6f0d-9652-4d02-be7f-7cf580ffa4b7",
   "metadata": {},
   "source": [
    "#### Import Graph500_Scale24_EdgeFactor64"
   ]
  },
  {
   "cell_type": "code",
   "execution_count": 3,
   "id": "f96e45bc",
   "metadata": {},
   "outputs": [],
   "source": [
    "# Import dataset from saved PyTorch dataset\n",
    "data = torch.load(\"/dfs6/pub/seminl1/graph500/graph500_scale24_ef64.pt\")"
   ]
  },
  {
   "cell_type": "code",
   "execution_count": 4,
   "id": "a9b719ee",
   "metadata": {},
   "outputs": [],
   "source": [
    "# Transform dense edge index to sparse adjacency matrix\n",
    "import torch_geometric.transforms as T\n",
    "\n",
    "data = T.ToSparseTensor()(data)\n",
    "data = data.pin_memory()"
   ]
  },
  {
   "cell_type": "markdown",
   "id": "fb06f906-c6bf-4eb3-9685-798357ed70cb",
   "metadata": {},
   "source": [
    "#### Graph Information"
   ]
  },
  {
   "cell_type": "code",
   "execution_count": 6,
   "id": "2655afe9",
   "metadata": {},
   "outputs": [
    {
     "name": "stdout",
     "output_type": "stream",
     "text": [
      "Graph: Data(x=[16777216, 64], y=[16777216], train_mask=[16777216], adj_t=[16777216, 16777216, nnz=1044447191])\n"
     ]
    }
   ],
   "source": [
    "# Print first element\n",
    "print(f'Graph: {data}')"
   ]
  },
  {
   "cell_type": "code",
   "execution_count": 7,
   "id": "ef5a30a8",
   "metadata": {},
   "outputs": [
    {
     "name": "stdout",
     "output_type": "stream",
     "text": [
      "x = torch.Size([16777216, 64])\n",
      "tensor([[ 1.7491,  1.0508, -1.1073,  ..., -1.6631,  0.4232, -1.6230],\n",
      "        [ 1.4225, -1.3486,  0.0630,  ..., -0.3219, -1.0920, -0.3329],\n",
      "        [ 0.6128, -1.0707, -1.4233,  ...,  0.4200,  0.1730,  1.0194],\n",
      "        ...,\n",
      "        [ 0.5497, -0.4471,  1.0664,  ...,  0.7018,  0.1765, -1.6260],\n",
      "        [ 2.3088,  1.4693, -1.4589,  ..., -2.0359,  2.3048,  1.3808],\n",
      "        [-0.1230,  1.0694,  2.1998,  ..., -1.5174,  0.5692, -1.5635]])\n"
     ]
    }
   ],
   "source": [
    "# Node feature matrix information\n",
    "print(f'x = {data.x.shape}')\n",
    "print(data.x)"
   ]
  },
  {
   "cell_type": "code",
   "execution_count": 8,
   "id": "cf2a5409",
   "metadata": {},
   "outputs": [
    {
     "name": "stdout",
     "output_type": "stream",
     "text": [
      "SparseTensor(row=tensor([       0,        0,        0,  ..., 16777215, 16777215, 16777215]),\n",
      "             col=tensor([       0,        1,        2,  ..., 16147194, 16285027, 16745422]),\n",
      "             size=(16777216, 16777216), nnz=1044447191, density=0.00%)\n"
     ]
    }
   ],
   "source": [
    "# Adjacency matrix for the edges\n",
    "print(data.adj_t)"
   ]
  },
  {
   "cell_type": "code",
   "execution_count": 9,
   "id": "d6635d68",
   "metadata": {},
   "outputs": [
    {
     "name": "stdout",
     "output_type": "stream",
     "text": [
      "y = torch.Size([16777216])\n",
      "tensor([59, 15,  4,  ..., 61, 27, 59])\n"
     ]
    }
   ],
   "source": [
    "# Ground-truth labels\n",
    "print(f'y = {data.y.shape}')\n",
    "print(data.y)"
   ]
  },
  {
   "cell_type": "code",
   "execution_count": 10,
   "id": "cc4af834",
   "metadata": {},
   "outputs": [
    {
     "name": "stdout",
     "output_type": "stream",
     "text": [
      "train_mask = torch.Size([16777216])\n",
      "tensor([False,  True, False,  ..., False,  True, False])\n"
     ]
    }
   ],
   "source": [
    "# Train mask\n",
    "print(f'train_mask = {data.train_mask.shape}')\n",
    "print(data.train_mask)"
   ]
  },
  {
   "cell_type": "markdown",
   "id": "c4656ae1-3cba-472a-a079-cc6e9274f46c",
   "metadata": {},
   "source": [
    "#### Sigle-layer GCN"
   ]
  },
  {
   "cell_type": "code",
   "execution_count": 11,
   "id": "b9bfe7e9",
   "metadata": {},
   "outputs": [],
   "source": [
    "# Create a simple GCN with only one GCN layer\n",
    "import torch.nn.functional as F\n",
    "\n",
    "from torch.nn import Linear\n",
    "from torch_geometric.nn import GCNConv\n",
    "\n",
    "class GCN(torch.nn.Module):\n",
    "    def __init__(self):\n",
    "        super().__init__()\n",
    "        self.gcn1 = GCNConv(64, 64)\n",
    "        self.optimizer = torch.optim.Adam(self.parameters(),\n",
    "                                          lr=0.01,\n",
    "                                          weight_decay=5e-4)\n",
    "\n",
    "    def forward(self, x, adj_t):\n",
    "        x = self.gcn1(x, adj_t)\n",
    "        z = F.log_softmax(x, dim=1)\n",
    "        return x, z"
   ]
  },
  {
   "cell_type": "markdown",
   "id": "5858df9f-30b1-4ec4-a4ed-0c45b826081f",
   "metadata": {},
   "source": [
    "#### Do use mini-batch"
   ]
  },
  {
   "cell_type": "code",
   "execution_count": 12,
   "id": "7907c483",
   "metadata": {},
   "outputs": [],
   "source": [
    "def accuracy(pred_y, y):\n",
    "    \"\"\"Calculate accuracy.\"\"\"\n",
    "    return ((pred_y == y).sum() / len(y)).item()\n",
    "\n",
    "def train(model, train_loader):\n",
    "    \"\"\"Train a GNN model and return the trained model.\"\"\"\n",
    "    criterion = torch.nn.CrossEntropyLoss()\n",
    "    optimizer = model.optimizer\n",
    "    epochs = 100\n",
    "\n",
    "    model.train()\n",
    "    for epoch in range(epochs):\n",
    "        #total_loss = 0\n",
    "        #acc = 0\n",
    "        #val_loss = 0\n",
    "        #val_acc = 0\n",
    "        \n",
    "        # Train on batches\n",
    "        for batch in train_loader:\n",
    "            batch = batch.to('cuda:0', non_blocking=True)\n",
    "            optimizer.zero_grad()\n",
    "            h, out = model(batch.x, batch.adj_t)\n",
    "            #loss = criterion(out[batch.train_mask], batch.y[batch.train_mask])\n",
    "            #total_loss += loss\n",
    "            #acc += accuracy(out[batch.train_mask].argmax(dim=1), batch.y[batch.train_mask])\n",
    "            #loss.backward()\n",
    "            optimizer.step()\n",
    "        \n",
    "        # Print metrics every 10 epochs\n",
    "        if(epoch % 10 == 0):\n",
    "            print('Epoch:', epoch)\n",
    "            #print(f'Epoch {epoch:>3} | Train Loss: {total_loss/len(train_loader):.3f} | Train Acc: '\n",
    "            #      f'{acc/len(train_loader)*100:>6.2f}%')\n",
    "\n",
    "    return model, h, out"
   ]
  },
  {
   "cell_type": "code",
   "execution_count": 14,
   "id": "b02601e8",
   "metadata": {},
   "outputs": [
    {
     "name": "stdout",
     "output_type": "stream",
     "text": [
      "GCN(\n",
      "  (gcn1): GCNConv(64, 64)\n",
      ")\n",
      "\n",
      "Epoch: 0\n",
      "Epoch: 10\n",
      "Epoch: 20\n",
      "Epoch: 30\n",
      "Epoch: 40\n",
      "Epoch: 50\n",
      "Epoch: 60\n",
      "Epoch: 70\n",
      "Epoch: 80\n",
      "Epoch: 90\n",
      "Epoch: 100\n"
     ]
    }
   ],
   "source": [
    "from torch_geometric.loader import NeighborLoader\n",
    "    \n",
    "start = torch.cuda.Event(enable_timing=True)\n",
    "end = torch.cuda.Event(enable_timing=True)\n",
    "\n",
    "# Create GCN model\n",
    "gcn = GCN()\n",
    "print(gcn)\n",
    "print()\n",
    "\n",
    "# Create batches with neighbor sampling\n",
    "start.record()\n",
    "train_loader = NeighborLoader(\n",
    "    data,\n",
    "    num_neighbors=[-1],\n",
    "    batch_size=131072,\n",
    "    pin_memory=True,\n",
    "    #num_workers=8,\n",
    "    #prefetch_factor=1,\n",
    ")\n",
    "\n",
    "# Train\n",
    "gcn_model, gcn_output, final_output = train(gcn.to('cuda:0'), train_loader)\n",
    "end.record()\n",
    "torch.cuda.synchronize()\n",
    "elapsed_time = start.elapsed_time(end)\n",
    "print('Elapsed Time (100 Epochs):', elapsed_time*0.001, 'seconds')"
   ]
  },
  {
   "cell_type": "code",
   "execution_count": null,
   "id": "f5a27cc8-d6c5-4aad-ba86-3c6c09d5c009",
   "metadata": {},
   "outputs": [],
   "source": []
  }
 ],
 "metadata": {
  "kernelspec": {
   "display_name": "Python 3 (ipykernel)",
   "language": "python",
   "name": "python3"
  },
  "language_info": {
   "codemirror_mode": {
    "name": "ipython",
    "version": 3
   },
   "file_extension": ".py",
   "mimetype": "text/x-python",
   "name": "python",
   "nbconvert_exporter": "python",
   "pygments_lexer": "ipython3",
   "version": "3.11.5"
  }
 },
 "nbformat": 4,
 "nbformat_minor": 5
}
