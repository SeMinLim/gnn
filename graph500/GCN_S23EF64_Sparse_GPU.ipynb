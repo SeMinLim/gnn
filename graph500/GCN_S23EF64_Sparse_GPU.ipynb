{
 "cells": [
  {
   "cell_type": "code",
   "execution_count": 1,
   "id": "a08fd607",
   "metadata": {},
   "outputs": [
    {
     "name": "stdout",
     "output_type": "stream",
     "text": [
      "True\n",
      "1\n",
      "0\n"
     ]
    }
   ],
   "source": [
    "# Import torch & Check CUDA availability\n",
    "import torch\n",
    "\n",
    "print(torch.cuda.is_available())\n",
    "print(torch.cuda.device_count())\n",
    "print(torch.cuda.current_device())"
   ]
  },
  {
   "cell_type": "code",
   "execution_count": 2,
   "id": "a5395c05",
   "metadata": {},
   "outputs": [
    {
     "name": "stdout",
     "output_type": "stream",
     "text": [
      "<torch.cuda.device object at 0x7fad83390790>\n",
      "NVIDIA A30\n"
     ]
    }
   ],
   "source": [
    "# Get CUDA device name\n",
    "print(torch.cuda.device(0))\n",
    "print(torch.cuda.get_device_name(0))"
   ]
  },
  {
   "cell_type": "code",
   "execution_count": 3,
   "id": "b37f989a",
   "metadata": {},
   "outputs": [],
   "source": [
    "# Import dataset from saved PyTorch dataset\n",
    "data = torch.load(\"/dfs6/pub/seminl1/graph500/graph500_scale23_ef64.pt\")\n",
    "\n",
    "# Store the dataset to GPU\n",
    "#data = data.pin_memory()\n",
    "#data = data.to('cuda:0', non_blocking=True)"
   ]
  },
  {
   "cell_type": "code",
   "execution_count": 4,
   "id": "65fa0a20",
   "metadata": {},
   "outputs": [],
   "source": [
    "# Transform dense edge index to sparse adjacency matrix\n",
    "import torch_geometric.transforms as T\n",
    "\n",
    "data = T.ToSparseTensor()(data)"
   ]
  },
  {
   "cell_type": "code",
   "execution_count": 5,
   "id": "98cb05c3",
   "metadata": {},
   "outputs": [
    {
     "name": "stdout",
     "output_type": "stream",
     "text": [
      "Graph is stored on the GPU: False\n"
     ]
    }
   ],
   "source": [
    "# Check whether the dataset is stored on the GPU or not\n",
    "print(f'Graph is stored on the GPU: {data.is_cuda}')"
   ]
  },
  {
   "cell_type": "code",
   "execution_count": 6,
   "id": "d024df54",
   "metadata": {},
   "outputs": [
    {
     "name": "stdout",
     "output_type": "stream",
     "text": [
      "Graph: Data(x=[8388608, 64], y=[8388608], train_mask=[8388608], adj_t=[8388608, 8388608, nnz=517557419])\n"
     ]
    }
   ],
   "source": [
    "# Print first element\n",
    "print(f'Graph: {data}')"
   ]
  },
  {
   "cell_type": "code",
   "execution_count": 7,
   "id": "e43bea79",
   "metadata": {},
   "outputs": [
    {
     "name": "stdout",
     "output_type": "stream",
     "text": [
      "x = torch.Size([8388608, 64])\n",
      "tensor([[-1.6241, -1.1809,  1.4980,  ...,  1.0852, -1.1694,  0.5091],\n",
      "        [-1.3206, -1.1632, -2.0369,  ..., -2.1283, -1.8054, -1.2949],\n",
      "        [-1.2896,  1.1596,  1.6661,  ..., -0.4917,  1.7394,  2.0564],\n",
      "        ...,\n",
      "        [ 1.0796,  1.1860, -0.0762,  ..., -1.8736,  1.2661,  0.6824],\n",
      "        [-1.4856,  2.1285, -1.8341,  ..., -1.8353,  0.8483, -0.7442],\n",
      "        [-1.1195, -0.3819, -0.7515,  ..., -0.5175, -1.4563, -2.4408]])\n"
     ]
    }
   ],
   "source": [
    "# Node feature matrix information\n",
    "print(f'x = {data.x.shape}')\n",
    "print(data.x)"
   ]
  },
  {
   "cell_type": "code",
   "execution_count": 8,
   "id": "f30643e3",
   "metadata": {},
   "outputs": [
    {
     "name": "stdout",
     "output_type": "stream",
     "text": [
      "SparseTensor(row=tensor([      0,       0,       0,  ..., 8388607, 8388607, 8388607]),\n",
      "             col=tensor([      0,       1,       2,  ..., 1320822, 6800756, 8065975]),\n",
      "             size=(8388608, 8388608), nnz=517557419, density=0.00%)\n"
     ]
    }
   ],
   "source": [
    "# Adjacency matrix for the edges\n",
    "print(data.adj_t)"
   ]
  },
  {
   "cell_type": "code",
   "execution_count": 9,
   "id": "c5b032b4",
   "metadata": {},
   "outputs": [
    {
     "name": "stdout",
     "output_type": "stream",
     "text": [
      "y = torch.Size([8388608])\n",
      "tensor([36, 21, 11,  ...,  6, 46, 53])\n"
     ]
    }
   ],
   "source": [
    "# Ground-truth labels\n",
    "print(f'y = {data.y.shape}')\n",
    "print(data.y)"
   ]
  },
  {
   "cell_type": "code",
   "execution_count": 10,
   "id": "e559c422",
   "metadata": {},
   "outputs": [
    {
     "name": "stdout",
     "output_type": "stream",
     "text": [
      "train_mask = torch.Size([8388608])\n",
      "tensor([False,  True,  True,  ...,  True,  True, False])\n"
     ]
    }
   ],
   "source": [
    "# Train mask\n",
    "print(f'train_mask = {data.train_mask.shape}')\n",
    "print(data.train_mask)"
   ]
  },
  {
   "cell_type": "code",
   "execution_count": 11,
   "id": "f707161a",
   "metadata": {},
   "outputs": [],
   "source": [
    "from torch_geometric.loader import NeighborLoader\n",
    "\n",
    "# Create batches with neighbor sampling\n",
    "train_loader = NeighborLoader(\n",
    "    data,\n",
    "    num_neighbors=[30],\n",
    "    batch_size=2048,\n",
    "    input_nodes=data.train_mask,\n",
    ")"
   ]
  },
  {
   "cell_type": "code",
   "execution_count": 12,
   "id": "bd3a9f7f",
   "metadata": {},
   "outputs": [],
   "source": [
    "# Create a simple GCN with only one GCN layer\n",
    "import torch.nn.functional as F\n",
    "\n",
    "from torch.nn import Linear\n",
    "from torch_geometric.nn import GCNConv\n",
    "\n",
    "class GCN(torch.nn.Module):\n",
    "    def __init__(self):\n",
    "        super().__init__()\n",
    "        self.gcn1 = GCNConv(64, 64)\n",
    "        self.optimizer = torch.optim.Adam(self.parameters(),\n",
    "                                          lr=0.01,\n",
    "                                          weight_decay=5e-4)\n",
    "\n",
    "    def forward(self, x, adj_t):\n",
    "        x = self.gcn1(x, adj_t)\n",
    "        z = F.log_softmax(x, dim=1)\n",
    "        return x, z"
   ]
  },
  {
   "cell_type": "code",
   "execution_count": 13,
   "id": "d356e25a",
   "metadata": {},
   "outputs": [],
   "source": [
    "def accuracy(pred_y, y):\n",
    "    \"\"\"Calculate accuracy.\"\"\"\n",
    "    return ((pred_y == y).sum() / len(y)).item()\n",
    "\n",
    "def train(model, data, train_loader, device):\n",
    "    \"\"\"Train a GNN model and return the trained model.\"\"\"\n",
    "    criterion = torch.nn.CrossEntropyLoss()\n",
    "    optimizer = model.optimizer\n",
    "    epochs = 200\n",
    "    total_elapsed_time = 0\n",
    "    \n",
    "    model.train()\n",
    "    for epoch in range(epochs+1):\n",
    "        # Training\n",
    "        total_loss = 0\n",
    "        acc = 0\n",
    "        val_loss = 0\n",
    "        val_acc = 0\n",
    "        \n",
    "        # Train on batches\n",
    "        for batch in train_loader:\n",
    "            batch = batch.to(device)\n",
    "            optimizer.zero_grad()\n",
    "            h, out = model(batch.x, batch.adj_t)\n",
    "            loss = criterion(out[batch.train_mask], batch.y[batch.train_mask])\n",
    "            total_loss += loss\n",
    "            acc += accuracy(out[batch.train_mask].argmax(dim=1), batch.y[batch.train_mask])\n",
    "            loss.backward()\n",
    "            optimizer.step()\n",
    "                \n",
    "        # Print metrics every 10 epochs\n",
    "        if(epoch % 10 == 0):\n",
    "            print(f'Epoch {epoch:>3} | Train Loss: {total_loss/len(train_loader):.3f} | Train Acc: '\n",
    "                  f'{acc/len(train_loader)*100:>6.2f}%')\n",
    "          \n",
    "    return model, h, out"
   ]
  },
  {
   "cell_type": "code",
   "execution_count": 14,
   "id": "84e6dcda",
   "metadata": {},
   "outputs": [
    {
     "name": "stdout",
     "output_type": "stream",
     "text": [
      "GCN(\n",
      "  (gcn1): GCNConv(64, 64)\n",
      ")\n",
      "\n",
      "Epoch   0 | Train Loss: 4.155 | Train Acc:   2.91%\n",
      "Epoch  10 | Train Loss: 4.152 | Train Acc:   2.92%\n",
      "Epoch  20 | Train Loss: 4.152 | Train Acc:   2.92%\n",
      "Epoch  30 | Train Loss: 4.152 | Train Acc:   2.92%\n",
      "Epoch  40 | Train Loss: 4.152 | Train Acc:   2.91%\n",
      "Epoch  50 | Train Loss: 4.152 | Train Acc:   2.92%\n",
      "Epoch  60 | Train Loss: 4.152 | Train Acc:   2.92%\n",
      "Epoch  70 | Train Loss: 4.152 | Train Acc:   2.91%\n",
      "Epoch  80 | Train Loss: 4.152 | Train Acc:   2.91%\n",
      "Epoch  90 | Train Loss: 4.152 | Train Acc:   2.92%\n",
      "Epoch 100 | Train Loss: 4.152 | Train Acc:   2.91%\n",
      "Epoch 110 | Train Loss: 4.152 | Train Acc:   2.91%\n",
      "Epoch 120 | Train Loss: 4.152 | Train Acc:   2.92%\n",
      "Epoch 130 | Train Loss: 4.152 | Train Acc:   2.91%\n",
      "Epoch 140 | Train Loss: 4.152 | Train Acc:   2.92%\n",
      "Epoch 150 | Train Loss: 4.152 | Train Acc:   2.93%\n",
      "Epoch 160 | Train Loss: 4.152 | Train Acc:   2.93%\n",
      "Epoch 170 | Train Loss: 4.152 | Train Acc:   2.90%\n",
      "Epoch 180 | Train Loss: 4.152 | Train Acc:   2.92%\n",
      "Epoch 190 | Train Loss: 4.152 | Train Acc:   2.92%\n",
      "Epoch 200 | Train Loss: 4.152 | Train Acc:   2.92%\n",
      "\n",
      "Elapsed Time (CPU):  1844.056487203 seconds\n"
     ]
    }
   ],
   "source": [
    "import time\n",
    "\n",
    "# Create GCN model\n",
    "gcn = GCN()\n",
    "print(gcn)\n",
    "print()\n",
    "\n",
    "# Train and test\n",
    "# Train\n",
    "device = torch.device('cuda' if torch.cuda.is_available() else 'cpu')\n",
    "\n",
    "start_time = time.process_time()\n",
    "gcn_model, gcn_output, final_output = train(gcn.to(device), data.to(device), train_loader, device)\n",
    "end_time = time.process_time()\n",
    "\n",
    "elapsed_time = end_time - start_time\n",
    "\n",
    "print()\n",
    "print('Elapsed Time (CPU): ', elapsed_time, 'seconds')"
   ]
  },
  {
   "cell_type": "code",
   "execution_count": null,
   "id": "5a4271c8",
   "metadata": {},
   "outputs": [],
   "source": [
    "print(device)"
   ]
  }
 ],
 "metadata": {
  "kernelspec": {
   "display_name": "Python 3 (ipykernel)",
   "language": "python",
   "name": "python3"
  },
  "language_info": {
   "codemirror_mode": {
    "name": "ipython",
    "version": 3
   },
   "file_extension": ".py",
   "mimetype": "text/x-python",
   "name": "python",
   "nbconvert_exporter": "python",
   "pygments_lexer": "ipython3",
   "version": "3.11.5"
  }
 },
 "nbformat": 4,
 "nbformat_minor": 5
}
