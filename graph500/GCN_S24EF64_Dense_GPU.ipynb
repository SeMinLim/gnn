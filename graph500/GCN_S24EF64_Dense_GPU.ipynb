{
 "cells": [
  {
   "cell_type": "code",
   "execution_count": 1,
   "id": "65e3e4dd",
   "metadata": {},
   "outputs": [
    {
     "name": "stdout",
     "output_type": "stream",
     "text": [
      "True\n",
      "1\n",
      "0\n"
     ]
    }
   ],
   "source": [
    "# Import torch & Check CUDA availability\n",
    "import torch\n",
    "\n",
    "print(torch.cuda.is_available())\n",
    "print(torch.cuda.device_count())\n",
    "print(torch.cuda.current_device())"
   ]
  },
  {
   "cell_type": "code",
   "execution_count": 2,
   "id": "ccfcc8ab",
   "metadata": {},
   "outputs": [
    {
     "name": "stdout",
     "output_type": "stream",
     "text": [
      "<torch.cuda.device object at 0x7f085236a890>\n",
      "NVIDIA A30\n"
     ]
    }
   ],
   "source": [
    "# Get CUDA device name\n",
    "print(torch.cuda.device(0))\n",
    "print(torch.cuda.get_device_name(0))"
   ]
  },
  {
   "cell_type": "code",
   "execution_count": 3,
   "id": "1206d266",
   "metadata": {},
   "outputs": [],
   "source": [
    "# Import dataset from saved PyTorch dataset\n",
    "data = torch.load(\"/dfs6/pub/seminl1/graph500/graph500_scale24_ef64.pt\")\n",
    "\n",
    "# Store the dataset to GPU\n",
    "#data = data.pin_memory()\n",
    "#data = data.to('cuda:0', non_blocking=True)"
   ]
  },
  {
   "cell_type": "code",
   "execution_count": 4,
   "id": "216d5fe5",
   "metadata": {},
   "outputs": [
    {
     "name": "stdout",
     "output_type": "stream",
     "text": [
      "Graph is stored on the GPU: False\n"
     ]
    }
   ],
   "source": [
    "# Check whether the dataset is stored on the GPU or not\n",
    "print(f'Graph is stored on the GPU: {data.is_cuda}')"
   ]
  },
  {
   "cell_type": "code",
   "execution_count": 5,
   "id": "30c7a59c",
   "metadata": {},
   "outputs": [
    {
     "name": "stdout",
     "output_type": "stream",
     "text": [
      "Graph: Data(x=[16777216, 64], edge_index=[2, 1044447191], y=[16777216], train_mask=[16777216])\n"
     ]
    }
   ],
   "source": [
    "# Print first element\n",
    "print(f'Graph: {data}')"
   ]
  },
  {
   "cell_type": "code",
   "execution_count": 6,
   "id": "d7b467ce",
   "metadata": {},
   "outputs": [
    {
     "name": "stdout",
     "output_type": "stream",
     "text": [
      "x = torch.Size([16777216, 64])\n",
      "tensor([[ 1.7491,  1.0508, -1.1073,  ..., -1.6631,  0.4232, -1.6230],\n",
      "        [ 1.4225, -1.3486,  0.0630,  ..., -0.3219, -1.0920, -0.3329],\n",
      "        [ 0.6128, -1.0707, -1.4233,  ...,  0.4200,  0.1730,  1.0194],\n",
      "        ...,\n",
      "        [ 0.5497, -0.4471,  1.0664,  ...,  0.7018,  0.1765, -1.6260],\n",
      "        [ 2.3088,  1.4693, -1.4589,  ..., -2.0359,  2.3048,  1.3808],\n",
      "        [-0.1230,  1.0694,  2.1998,  ..., -1.5174,  0.5692, -1.5635]])\n"
     ]
    }
   ],
   "source": [
    "# Node feature matrix information\n",
    "print(f'x = {data.x.shape}')\n",
    "print(data.x)"
   ]
  },
  {
   "cell_type": "code",
   "execution_count": 7,
   "id": "9b4fdf2f",
   "metadata": {},
   "outputs": [
    {
     "name": "stdout",
     "output_type": "stream",
     "text": [
      "edge_index = torch.Size([2, 1044447191])\n",
      "tensor([[       0,        0,        0,  ..., 16777215, 16777215, 16777215],\n",
      "        [       0,        1,        2,  ..., 16147194, 16285027, 16745422]])\n"
     ]
    }
   ],
   "source": [
    "# Edge index information\n",
    "print(f'edge_index = {data.edge_index.shape}')\n",
    "print(data.edge_index)"
   ]
  },
  {
   "cell_type": "code",
   "execution_count": 8,
   "id": "d68b8849",
   "metadata": {},
   "outputs": [
    {
     "name": "stdout",
     "output_type": "stream",
     "text": [
      "train_mask = torch.Size([16777216])\n",
      "tensor([False,  True, False,  ..., False,  True, False])\n"
     ]
    }
   ],
   "source": [
    "# Train mask\n",
    "print(f'train_mask = {data.train_mask.shape}')\n",
    "print(data.train_mask)"
   ]
  },
  {
   "cell_type": "code",
   "execution_count": 9,
   "id": "a08a1296",
   "metadata": {},
   "outputs": [
    {
     "name": "stdout",
     "output_type": "stream",
     "text": [
      "tensor(0)\n",
      "tensor(200000)\n",
      "tensor(400000)\n",
      "tensor(600000)\n",
      "tensor(700000)\n",
      "tensor(800000)\n",
      "tensor(900000)\n",
      "tensor(1000000)\n",
      "tensor(1100000)\n",
      "tensor(1200000)\n",
      "tensor(1300000)\n",
      "tensor(1400000)\n",
      "tensor(1500000)\n",
      "tensor(1600000)\n",
      "tensor(1700000)\n",
      "tensor(1800000)\n",
      "tensor(1900000)\n",
      "tensor(2000000)\n",
      "tensor(2200000)\n",
      "tensor(2300000)\n",
      "tensor(2400000)\n",
      "tensor(2500000)\n",
      "tensor(2600000)\n",
      "tensor(2700000)\n",
      "tensor(2800000)\n",
      "tensor(3000000)\n",
      "tensor(3100000)\n",
      "tensor(3400000)\n",
      "tensor(3500000)\n",
      "tensor(3600000)\n",
      "tensor(3700000)\n",
      "tensor(3800000)\n",
      "tensor(3900000)\n",
      "tensor(4000000)\n",
      "tensor(4100000)\n",
      "tensor(4200000)\n",
      "tensor(4300000)\n",
      "tensor(4400000)\n",
      "tensor(4500000)\n",
      "tensor(4600000)\n",
      "tensor(4800000)\n",
      "tensor(5000000)\n",
      "tensor(5100000)\n",
      "tensor(5200000)\n",
      "tensor(5400000)\n",
      "tensor(5500000)\n",
      "tensor(5600000)\n",
      "tensor(5700000)\n",
      "tensor(5800000)\n",
      "tensor(5900000)\n",
      "tensor(6200000)\n",
      "tensor(6300000)\n",
      "tensor(6400000)\n",
      "tensor(6800000)\n",
      "tensor(6900000)\n",
      "tensor(7000000)\n",
      "tensor(7100000)\n",
      "tensor(7200000)\n",
      "tensor(7300000)\n",
      "tensor(7500000)\n",
      "tensor(7800000)\n",
      "tensor(8000000)\n",
      "tensor(8100000)\n",
      "tensor(8200000)\n",
      "tensor(8400000)\n",
      "tensor(8600000)\n",
      "tensor(8700000)\n",
      "tensor(8800000)\n",
      "tensor(8900000)\n",
      "tensor(9200000)\n",
      "tensor(9300000)\n",
      "tensor(9400000)\n",
      "tensor(9500000)\n",
      "tensor(9600000)\n",
      "tensor(9700000)\n",
      "tensor(9800000)\n",
      "tensor(10000000)\n",
      "tensor(10300000)\n",
      "tensor(10400000)\n",
      "tensor(10600000)\n",
      "tensor(10700000)\n",
      "tensor(10800000)\n",
      "tensor(10900000)\n",
      "tensor(11000000)\n",
      "tensor(11200000)\n",
      "tensor(11400000)\n",
      "tensor(11500000)\n",
      "tensor(11600000)\n",
      "tensor(11800000)\n",
      "tensor(11900000)\n",
      "tensor(12000000)\n",
      "tensor(12300000)\n",
      "tensor(12400000)\n",
      "tensor(12500000)\n",
      "tensor(12700000)\n",
      "tensor(12800000)\n",
      "tensor(12900000)\n",
      "tensor(13100000)\n",
      "tensor(13200000)\n",
      "tensor(13400000)\n",
      "tensor(13500000)\n",
      "tensor(13600000)\n",
      "tensor(14000000)\n",
      "tensor(14100000)\n",
      "tensor(14300000)\n",
      "tensor(14500000)\n",
      "tensor(14600000)\n",
      "tensor(14700000)\n",
      "tensor(14800000)\n",
      "tensor(14900000)\n",
      "tensor(15100000)\n",
      "tensor(15200000)\n",
      "tensor(15300000)\n",
      "tensor(15400000)\n",
      "tensor(15500000)\n",
      "tensor(15600000)\n",
      "tensor(15700000)\n",
      "tensor(15900000)\n",
      "tensor(16000000)\n",
      "tensor(16100000)\n",
      "tensor(16200000)\n",
      "tensor(16300000)\n",
      "1032717856\n"
     ]
    }
   ],
   "source": [
    "# Try to get the number of addition operation\n",
    "start_point = 0\n",
    "numAddition = 0\n",
    "numEdges = 1044447191\n",
    "for i in range(numEdges-1):\n",
    "    if data.edge_index[0][i+1] == start_point:\n",
    "        numAddition += 1\n",
    "    else:\n",
    "        start_point = data.edge_index[0][i+1]\n",
    "        if data.edge_index[0][i] % 100000 == 0:\n",
    "            print(data.edge_index[0][i])\n",
    "print(numAddition)"
   ]
  },
  {
   "cell_type": "code",
   "execution_count": null,
   "id": "b240043a",
   "metadata": {},
   "outputs": [],
   "source": [
    "# Ground-truth labels\n",
    "print(f'y = {data.y.shape}')\n",
    "print(data.y)"
   ]
  },
  {
   "cell_type": "code",
   "execution_count": null,
   "id": "939772b0",
   "metadata": {},
   "outputs": [],
   "source": [
    "from torch_geometric.loader import NeighborLoader\n",
    "\n",
    "# Create batches with neighbor sampling\n",
    "train_loader = NeighborLoader(\n",
    "    data,\n",
    "    num_neighbors=[30],\n",
    "    batch_size=2048,\n",
    "    input_nodes=data.train_mask,\n",
    ")"
   ]
  },
  {
   "cell_type": "code",
   "execution_count": null,
   "id": "a21c6997",
   "metadata": {},
   "outputs": [],
   "source": [
    "# Create a simple GCN with only one GCN layer\n",
    "import torch.nn.functional as F\n",
    "\n",
    "from torch.nn import Linear\n",
    "from torch_geometric.nn import GCNConv\n",
    "\n",
    "class GCN(torch.nn.Module):\n",
    "    def __init__(self):\n",
    "        super().__init__()\n",
    "        self.gcn1 = GCNConv(64, 64)\n",
    "        self.optimizer = torch.optim.Adam(self.parameters(),\n",
    "                                          lr=0.01,\n",
    "                                          weight_decay=5e-4)\n",
    "\n",
    "    def forward(self, x, edge_index):\n",
    "        x = self.gcn1(x, edge_index)\n",
    "        z = F.log_softmax(x, dim=1)\n",
    "        return x, z"
   ]
  },
  {
   "cell_type": "code",
   "execution_count": null,
   "id": "a8a5b44e",
   "metadata": {},
   "outputs": [],
   "source": [
    "def accuracy(pred_y, y):\n",
    "    \"\"\"Calculate accuracy.\"\"\"\n",
    "    return ((pred_y == y).sum() / len(y)).item()\n",
    "\n",
    "def train(model, data, train_loader, device):\n",
    "    \"\"\"Train a GNN model and return the trained model.\"\"\"\n",
    "    criterion = torch.nn.CrossEntropyLoss()\n",
    "    optimizer = model.optimizer\n",
    "    epochs = 200\n",
    "    total_elapsed_time = 0\n",
    "    \n",
    "    model.train()\n",
    "    for epoch in range(epochs+1):\n",
    "        # Training\n",
    "        total_loss = 0\n",
    "        acc = 0\n",
    "        val_loss = 0\n",
    "        val_acc = 0\n",
    "        \n",
    "        # Train on batches\n",
    "        for batch in train_loader:\n",
    "            batch = batch.to(device)\n",
    "            optimizer.zero_grad()\n",
    "            h, out = model(batch.x, batch.edge_index)\n",
    "            loss = criterion(out[batch.train_mask], batch.y[batch.train_mask])\n",
    "            total_loss += loss\n",
    "            acc += accuracy(out[batch.train_mask].argmax(dim=1), batch.y[batch.train_mask])\n",
    "            loss.backward()\n",
    "            optimizer.step()\n",
    "                \n",
    "        # Print metrics every 10 epochs\n",
    "        if(epoch % 10 == 0):\n",
    "            print(f'Epoch {epoch:>3} | Train Loss: {total_loss/len(train_loader):.3f} | Train Acc: '\n",
    "                  f'{acc/len(train_loader)*100:>6.2f}%')\n",
    "          \n",
    "    return model, h, out"
   ]
  },
  {
   "cell_type": "code",
   "execution_count": null,
   "id": "0f37049a",
   "metadata": {},
   "outputs": [],
   "source": [
    "import time\n",
    "\n",
    "# Create GCN model\n",
    "gcn = GCN()\n",
    "print(gcn)\n",
    "print()\n",
    "\n",
    "# Train and test\n",
    "# Train\n",
    "device = torch.device('cuda' if torch.cuda.is_available() else 'cpu')\n",
    "\n",
    "start_time = time.process_time()\n",
    "gcn_model, gcn_output, final_output = train(gcn.to(device), data.to(device), train_loader, device)\n",
    "end_time = time.process_time()\n",
    "\n",
    "elapsed_time = end_time - start_time\n",
    "\n",
    "print()\n",
    "print('Elapsed Time (CPU): ', elapsed_time, 'seconds')"
   ]
  },
  {
   "cell_type": "code",
   "execution_count": null,
   "id": "9bbcc696",
   "metadata": {},
   "outputs": [],
   "source": [
    "print(device)"
   ]
  }
 ],
 "metadata": {
  "kernelspec": {
   "display_name": "Python 3 (ipykernel)",
   "language": "python",
   "name": "python3"
  },
  "language_info": {
   "codemirror_mode": {
    "name": "ipython",
    "version": 3
   },
   "file_extension": ".py",
   "mimetype": "text/x-python",
   "name": "python",
   "nbconvert_exporter": "python",
   "pygments_lexer": "ipython3",
   "version": "3.11.5"
  }
 },
 "nbformat": 4,
 "nbformat_minor": 5
}
