{
 "cells": [
  {
   "cell_type": "code",
   "execution_count": 1,
   "id": "aeb0bc96",
   "metadata": {},
   "outputs": [
    {
     "name": "stdout",
     "output_type": "stream",
     "text": [
      "True\n",
      "1\n",
      "0\n"
     ]
    }
   ],
   "source": [
    "# Import torch & Check CUDA availability\n",
    "import torch\n",
    "\n",
    "print(torch.cuda.is_available())\n",
    "print(torch.cuda.device_count())\n",
    "print(torch.cuda.current_device())"
   ]
  },
  {
   "cell_type": "code",
   "execution_count": 2,
   "id": "c2f37cf0",
   "metadata": {},
   "outputs": [
    {
     "name": "stdout",
     "output_type": "stream",
     "text": [
      "<torch.cuda.device object at 0x7f5c3ff16950>\n",
      "NVIDIA A100 80GB PCIe\n"
     ]
    }
   ],
   "source": [
    "# Get CUDA device name\n",
    "print(torch.cuda.device(0))\n",
    "print(torch.cuda.get_device_name(0))"
   ]
  },
  {
   "cell_type": "markdown",
   "id": "a7ca3a51-e0d9-471f-b71f-3ee2b0185293",
   "metadata": {},
   "source": [
    "#### Import Reddit"
   ]
  },
  {
   "cell_type": "code",
   "execution_count": 3,
   "id": "c2ec2887",
   "metadata": {},
   "outputs": [
    {
     "name": "stdout",
     "output_type": "stream",
     "text": [
      "Dataset: Reddit()\n",
      "-------------------\n",
      "Number of graphs: 1\n",
      "Number of nodes: 232965\n",
      "Number of features: 602\n",
      "Number of classes: 41\n",
      "\n",
      "Graph:\n",
      "------\n",
      "Edges are directed: False\n",
      "Graph has isolated nodes: False\n",
      "Graph has loops: False\n"
     ]
    }
   ],
   "source": [
    "from torch_geometric.datasets import Reddit\n",
    "import torch_geometric.transforms as T\n",
    "\n",
    "# Import dataset from PyTorch Geometric\n",
    "dataset = Reddit(root=\"/dfs6/pub/seminl1/Reddit\", transform=T.ToSparseTensor())\n",
    "data = dataset[0]\n",
    "data = data.pin_memory()\n",
    "\n",
    "# Print information about the dataset\n",
    "print(f'Dataset: {dataset}')\n",
    "print('-------------------')\n",
    "print(f'Number of graphs: {len(dataset)}')\n",
    "print(f'Number of nodes: {data.x.shape[0]}')\n",
    "print(f'Number of features: {dataset.num_features}')\n",
    "print(f'Number of classes: {dataset.num_classes}')\n",
    "\n",
    "# Print information about the graph\n",
    "print(f'\\nGraph:')\n",
    "print('------')\n",
    "print(f'Edges are directed: {data.is_directed()}')\n",
    "print(f'Graph has isolated nodes: {data.has_isolated_nodes()}')\n",
    "print(f'Graph has loops: {data.has_self_loops()}')"
   ]
  },
  {
   "cell_type": "markdown",
   "id": "335b3fe6-ca19-435c-af8d-20a4e1f473f9",
   "metadata": {},
   "source": [
    "#### Graph Information"
   ]
  },
  {
   "cell_type": "code",
   "execution_count": 4,
   "id": "e854ac0e",
   "metadata": {},
   "outputs": [
    {
     "name": "stdout",
     "output_type": "stream",
     "text": [
      "Graph: Data(x=[232965, 602], y=[232965], train_mask=[232965], val_mask=[232965], test_mask=[232965], adj_t=[232965, 232965, nnz=114615892])\n"
     ]
    }
   ],
   "source": [
    "# Print first element\n",
    "print(f'Graph: {data}')"
   ]
  },
  {
   "cell_type": "code",
   "execution_count": 5,
   "id": "9c9ae149",
   "metadata": {},
   "outputs": [
    {
     "name": "stdout",
     "output_type": "stream",
     "text": [
      "x = torch.Size([232965, 602])\n",
      "tensor([[ 1.2334,  9.0430, -0.9233,  ..., -0.2579,  0.3112, -0.3772],\n",
      "        [-0.1386, -0.2022,  0.1277,  ...,  0.1563,  0.1048, -0.6534],\n",
      "        [-0.1330, -0.1962, -0.0296,  ...,  0.0358,  0.2864,  0.2744],\n",
      "        ...,\n",
      "        [-0.0614, -0.2022,  0.9698,  ...,  1.1064, -1.4323, -0.2398],\n",
      "        [-0.1606, -0.2022, -0.0892,  ...,  0.7440, -0.5046, -2.2288],\n",
      "        [ 0.0929,  0.2822,  0.1768,  ...,  0.2196,  0.5967,  0.5588]])\n"
     ]
    }
   ],
   "source": [
    "# Node feature matrix information\n",
    "print(f'x = {data.x.shape}')\n",
    "print(data.x)"
   ]
  },
  {
   "cell_type": "code",
   "execution_count": 6,
   "id": "aab1e5b7",
   "metadata": {},
   "outputs": [
    {
     "name": "stdout",
     "output_type": "stream",
     "text": [
      "SparseTensor(row=tensor([     0,      0,      0,  ..., 232964, 232964, 232964]),\n",
      "             col=tensor([   242,    249,    524,  ..., 231806, 232594, 232634]),\n",
      "             size=(232965, 232965), nnz=114615892, density=0.21%)\n"
     ]
    }
   ],
   "source": [
    "# Adjacency matrix for the edges\n",
    "print(data.adj_t)"
   ]
  },
  {
   "cell_type": "code",
   "execution_count": 7,
   "id": "d8d8150c-c19d-48fb-8eaf-3bfd1b28f5ec",
   "metadata": {},
   "outputs": [
    {
     "name": "stdout",
     "output_type": "stream",
     "text": [
      "0.21118520090487738\n"
     ]
    }
   ],
   "source": [
    "# Density of adjacency matrix\n",
    "print(data.adj_t.density()*100)"
   ]
  },
  {
   "cell_type": "code",
   "execution_count": 8,
   "id": "068cb60a",
   "metadata": {},
   "outputs": [
    {
     "name": "stdout",
     "output_type": "stream",
     "text": [
      "y = torch.Size([232965])\n",
      "tensor([30, 17, 18,  ...,  3, 13, 13])\n"
     ]
    }
   ],
   "source": [
    "# Ground-truth labels\n",
    "print(f'y = {data.y.shape}')\n",
    "print(data.y)"
   ]
  },
  {
   "cell_type": "code",
   "execution_count": 9,
   "id": "561f0fdc",
   "metadata": {},
   "outputs": [
    {
     "name": "stdout",
     "output_type": "stream",
     "text": [
      "train_mask = torch.Size([232965])\n",
      "tensor([False,  True, False,  ...,  True,  True, False])\n"
     ]
    }
   ],
   "source": [
    "# Train mask\n",
    "print(f'train_mask = {data.train_mask.shape}')\n",
    "print(data.train_mask)"
   ]
  },
  {
   "cell_type": "markdown",
   "id": "91984e67-57c3-48ee-a71f-67256f82f35d",
   "metadata": {},
   "source": [
    "#### Single-layer GCN"
   ]
  },
  {
   "cell_type": "code",
   "execution_count": 10,
   "id": "f2d02e6c",
   "metadata": {},
   "outputs": [],
   "source": [
    "# Create a simple GCN with only one GCN layer\n",
    "import torch.nn.functional as F\n",
    "\n",
    "from torch.nn import Linear\n",
    "from torch_geometric.nn import GCNConv\n",
    "\n",
    "class GCN(torch.nn.Module):\n",
    "    def __init__(self):\n",
    "        super().__init__()\n",
    "        self.gcn1 = GCNConv(dataset.num_features, dataset.num_classes)\n",
    "        self.optimizer = torch.optim.Adam(self.parameters(), lr=0.02)\n",
    "\n",
    "    def forward(self, x, adj_t):\n",
    "        x = self.gcn1(x, adj_t)\n",
    "        z = F.log_softmax(x, dim=1)\n",
    "        return x, z"
   ]
  },
  {
   "cell_type": "markdown",
   "id": "9397e9ec-e821-4353-92cf-f1faeb61b779",
   "metadata": {},
   "source": [
    "#### To get GFLOPS result"
   ]
  },
  {
   "cell_type": "code",
   "execution_count": 11,
   "id": "d5eee59a",
   "metadata": {},
   "outputs": [],
   "source": [
    "def accuracy(pred_y, y):\n",
    "    \"\"\"Calculate accuracy.\"\"\"\n",
    "    return ((pred_y == y).sum() / len(y)).item()\n",
    "\n",
    "def train(model, data):\n",
    "    \"\"\"Train a GNN model and return the trained model.\"\"\"\n",
    "    criterion = torch.nn.CrossEntropyLoss().cuda()\n",
    "    optimizer = model.optimizer\n",
    "    epochs = 100\n",
    "\n",
    "    model.train()\n",
    "    for epoch in range(epochs):\n",
    "        # Training\n",
    "        optimizer.zero_grad()\n",
    "        h, out = model(data.x, data.adj_t)\n",
    "        loss = criterion(out, data.y)\n",
    "        #acc = accuracy(out[data.train_mask].argmax(dim=1), data.y[data.train_mask])\n",
    "        loss.backward()\n",
    "        optimizer.step()\n",
    "\n",
    "        # Print metrics every 10 epochs\n",
    "        #if(epoch % 10 == 0):\n",
    "            #print('Epoch:', epoch)\n",
    "            #print(f'Epoch {epoch:>3} | Train Loss: {loss:.3f} | Train Acc: {acc*100:>6.2f}%')\n",
    "          \n",
    "    return model, h, out"
   ]
  },
  {
   "cell_type": "markdown",
   "id": "7bca7665-5520-4d5e-920d-35dfc7c00eb7",
   "metadata": {},
   "source": [
    "##### #CPU_Cores = 32"
   ]
  },
  {
   "cell_type": "code",
   "execution_count": 11,
   "id": "84a8d3c6-71b6-433f-b7b6-c626bc91e812",
   "metadata": {},
   "outputs": [
    {
     "name": "stdout",
     "output_type": "stream",
     "text": [
      "GCN(\n",
      "  (gcn1): GCNConv(602, 41)\n",
      ")\n",
      "\n",
      "Elapsed Time (100 Epochs): 22.55403125 seconds\n"
     ]
    }
   ],
   "source": [
    "start = torch.cuda.Event(enable_timing=True)\n",
    "end = torch.cuda.Event(enable_timing=True)\n",
    "\n",
    "# Create GCN model\n",
    "gcn = GCN()\n",
    "print(gcn)\n",
    "print()\n",
    "\n",
    "# Train\n",
    "start.record()\n",
    "gcn_model, gcn_output, final_output = train(gcn.to('cuda:0'), data.to('cuda:0', non_blocking=True))\n",
    "end.record()\n",
    "torch.cuda.synchronize()\n",
    "elapsed_time = start.elapsed_time(end)\n",
    "print('Elapsed Time (100 Epochs):', elapsed_time*0.001, 'seconds')"
   ]
  },
  {
   "cell_type": "markdown",
   "id": "353bcce3-6e9e-4aa2-9b8d-fd926a1168f6",
   "metadata": {},
   "source": [
    "##### #CPU_Core = 16"
   ]
  },
  {
   "cell_type": "code",
   "execution_count": 11,
   "id": "40262962",
   "metadata": {},
   "outputs": [
    {
     "name": "stdout",
     "output_type": "stream",
     "text": [
      "GCN(\n",
      "  (gcn1): GCNConv(602, 41)\n",
      ")\n",
      "\n",
      "Elapsed Time (100 Epochs): 22.53441796875 seconds\n"
     ]
    }
   ],
   "source": [
    "start = torch.cuda.Event(enable_timing=True)\n",
    "end = torch.cuda.Event(enable_timing=True)\n",
    "\n",
    "# Create GCN model\n",
    "gcn = GCN()\n",
    "print(gcn)\n",
    "print()\n",
    "\n",
    "# Train\n",
    "start.record()\n",
    "gcn_model, gcn_output, final_output = train(gcn.to('cuda:0'), data.to('cuda:0', non_blocking=True))\n",
    "end.record()\n",
    "torch.cuda.synchronize()\n",
    "elapsed_time = start.elapsed_time(end)\n",
    "print('Elapsed Time (100 Epochs):', elapsed_time*0.001, 'seconds')"
   ]
  },
  {
   "cell_type": "markdown",
   "id": "45a16a7a-db13-4c20-af32-5909635a69ef",
   "metadata": {},
   "source": [
    "##### #CPU_Core = 8"
   ]
  },
  {
   "cell_type": "code",
   "execution_count": 11,
   "id": "2b4bf4f4",
   "metadata": {},
   "outputs": [
    {
     "name": "stdout",
     "output_type": "stream",
     "text": [
      "GCN(\n",
      "  (gcn1): GCNConv(602, 41)\n",
      ")\n",
      "\n",
      "Elapsed Time (100 Epochs): 22.51006640625 seconds\n"
     ]
    }
   ],
   "source": [
    "start = torch.cuda.Event(enable_timing=True)\n",
    "end = torch.cuda.Event(enable_timing=True)\n",
    "\n",
    "# Create GCN model\n",
    "gcn = GCN()\n",
    "print(gcn)\n",
    "print()\n",
    "\n",
    "# Train\n",
    "start.record()\n",
    "gcn_model, gcn_output, final_output = train(gcn.to('cuda:0'), data.to('cuda:0', non_blocking=True))\n",
    "end.record()\n",
    "torch.cuda.synchronize()\n",
    "elapsed_time = start.elapsed_time(end)\n",
    "print('Elapsed Time (100 Epochs):', elapsed_time*0.001, 'seconds')"
   ]
  },
  {
   "cell_type": "markdown",
   "id": "f52b1a7c-2501-4e64-831c-0ea79f8beb7b",
   "metadata": {},
   "source": [
    "#### To get accuracy result"
   ]
  },
  {
   "cell_type": "code",
   "execution_count": 11,
   "id": "65743bd4-6c7c-431a-8420-0c1f2557a7ef",
   "metadata": {},
   "outputs": [],
   "source": [
    "def accuracy(pred_y, y):\n",
    "    \"\"\"Calculate accuracy.\"\"\"\n",
    "    return ((pred_y == y).sum() / len(y)).item()\n",
    "\n",
    "def train(model, data):\n",
    "    \"\"\"Train a GNN model and return the trained model.\"\"\"\n",
    "    criterion = torch.nn.CrossEntropyLoss().cuda()\n",
    "    optimizer = model.optimizer\n",
    "    epochs = 100\n",
    "\n",
    "    model.train()\n",
    "    for epoch in range(epochs+1):\n",
    "        # Training\n",
    "        optimizer.zero_grad()\n",
    "        h, out = model(data.x, data.adj_t)\n",
    "        loss = criterion(out, data.y)\n",
    "        acc = accuracy(out.argmax(dim=1), data.y)\n",
    "        loss.backward()\n",
    "        optimizer.step()\n",
    "\n",
    "        # Print metrics every 10 epochs\n",
    "        if(epoch % 10 == 0):\n",
    "            print(f'Epoch {epoch:>3} | Train Loss: {loss:.3f} | Train Acc: {acc*100:>6.2f}%')\n",
    "          \n",
    "    return model, h, out"
   ]
  },
  {
   "cell_type": "code",
   "execution_count": 12,
   "id": "ce411dc8-dfd9-4e4b-a7a2-d56a0dd04c71",
   "metadata": {},
   "outputs": [
    {
     "name": "stdout",
     "output_type": "stream",
     "text": [
      "GCN(\n",
      "  (gcn1): GCNConv(602, 41)\n",
      ")\n",
      "\n",
      "Epoch   0 | Train Loss: 4.114 | Train Acc:   0.76%\n",
      "Epoch  10 | Train Loss: 0.561 | Train Acc:  90.50%\n",
      "Epoch  20 | Train Loss: 0.408 | Train Acc:  92.26%\n",
      "Epoch  30 | Train Loss: 0.355 | Train Acc:  93.07%\n",
      "Epoch  40 | Train Loss: 0.327 | Train Acc:  93.50%\n",
      "Epoch  50 | Train Loss: 0.307 | Train Acc:  93.76%\n",
      "Epoch  60 | Train Loss: 0.293 | Train Acc:  93.97%\n",
      "Epoch  70 | Train Loss: 0.282 | Train Acc:  94.12%\n",
      "Epoch  80 | Train Loss: 0.273 | Train Acc:  94.25%\n",
      "Epoch  90 | Train Loss: 0.265 | Train Acc:  94.35%\n",
      "Epoch 100 | Train Loss: 0.259 | Train Acc:  94.44%\n"
     ]
    }
   ],
   "source": [
    "# Create GCN model\n",
    "gcn = GCN()\n",
    "print(gcn)\n",
    "print()\n",
    "\n",
    "# Train\n",
    "gcn_model, gcn_output, final_output = train(gcn.to('cuda:0'), data.to('cuda:0', non_blocking=True))"
   ]
  },
  {
   "cell_type": "code",
   "execution_count": null,
   "id": "ef67a397-1013-4296-9e5e-e44f77366af8",
   "metadata": {},
   "outputs": [],
   "source": []
  }
 ],
 "metadata": {
  "kernelspec": {
   "display_name": "Python 3 (ipykernel)",
   "language": "python",
   "name": "python3"
  },
  "language_info": {
   "codemirror_mode": {
    "name": "ipython",
    "version": 3
   },
   "file_extension": ".py",
   "mimetype": "text/x-python",
   "name": "python",
   "nbconvert_exporter": "python",
   "pygments_lexer": "ipython3",
   "version": "3.11.5"
  }
 },
 "nbformat": 4,
 "nbformat_minor": 5
}
