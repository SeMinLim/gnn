{
 "cells": [
  {
   "cell_type": "code",
   "execution_count": 1,
   "id": "ff6cb2b4-6100-478d-8c82-d59ae9cf14cd",
   "metadata": {},
   "outputs": [
    {
     "name": "stdout",
     "output_type": "stream",
     "text": [
      "True\n",
      "1\n",
      "0\n"
     ]
    }
   ],
   "source": [
    "# Import torch & Check CUDA availability\n",
    "import torch\n",
    "\n",
    "print(torch.cuda.is_available())\n",
    "print(torch.cuda.device_count())\n",
    "print(torch.cuda.current_device())"
   ]
  },
  {
   "cell_type": "code",
   "execution_count": 2,
   "id": "5e1540f4-5c4e-4b71-97b3-b4d65fd1cfc0",
   "metadata": {},
   "outputs": [
    {
     "name": "stdout",
     "output_type": "stream",
     "text": [
      "<torch.cuda.device object at 0x7f18f9353dd0>\n",
      "NVIDIA A100-SXM4-80GB\n"
     ]
    }
   ],
   "source": [
    "# Get CUDA device name\n",
    "print(torch.cuda.device(0))\n",
    "print(torch.cuda.get_device_name(0))"
   ]
  },
  {
   "cell_type": "markdown",
   "id": "d49a9a8f-01f8-4979-ac54-7d298e109848",
   "metadata": {},
   "source": [
    "## Twitter Dataset"
   ]
  },
  {
   "cell_type": "markdown",
   "id": "8fe7ab72-4f1b-4ac5-9598-5bbb2c760740",
   "metadata": {},
   "source": [
    "### Read text file first"
   ]
  },
  {
   "cell_type": "code",
   "execution_count": 3,
   "id": "81dfd4e8",
   "metadata": {},
   "outputs": [],
   "source": [
    "# Function for reading dataset file\n",
    "def read_file_until_tab_newline(file):\n",
    "    buffer = ''\n",
    "    \n",
    "    returnMode = 0\n",
    "    while True:\n",
    "        byte = file.read(1)\n",
    "        if not byte:\n",
    "            returnMode = 0\n",
    "            break\n",
    "        else:\n",
    "            if byte == \"\\t\" or byte == \"\\n\":\n",
    "                returnMode = 1\n",
    "                break\n",
    "            buffer += byte\n",
    "    \n",
    "    if (returnMode == 0):\n",
    "        return False\n",
    "    else:\n",
    "        return buffer"
   ]
  },
  {
   "cell_type": "code",
   "execution_count": 4,
   "id": "edb7e4b7",
   "metadata": {},
   "outputs": [
    {
     "name": "stdout",
     "output_type": "stream",
     "text": [
      "Storing edge_index finished!\n"
     ]
    }
   ],
   "source": [
    "# Read the file and store the dataset\n",
    "file = open(\"/mnt/ephemeral/gnn/dataset/Twitter/twitter_rv.net\", \"r\")\n",
    "\n",
    "edges = []\n",
    "while True:\n",
    "    value = read_file_until_tab_newline(file)\n",
    "    if not value:\n",
    "        print(f'Storing edge_index finished!')\n",
    "        break\n",
    "    else:\n",
    "        value = int(value)\n",
    "        edges.append(value)\n",
    "        \n",
    "file.close()"
   ]
  },
  {
   "cell_type": "code",
   "execution_count": 5,
   "id": "09b0faca-e69d-4deb-8215-a79e4766ad49",
   "metadata": {},
   "outputs": [
    {
     "name": "stdout",
     "output_type": "stream",
     "text": [
      "2936730364\n",
      "61578414\n",
      "12\n"
     ]
    }
   ],
   "source": [
    "print(len(edges))\n",
    "print(max(edges))\n",
    "print(min(edges))"
   ]
  },
  {
   "cell_type": "markdown",
   "id": "48c2e77e-8e8b-4a41-9390-13aadd59b5b0",
   "metadata": {},
   "source": [
    "### Edge index"
   ]
  },
  {
   "cell_type": "code",
   "execution_count": 6,
   "id": "007f19cb-23fb-4597-88bd-000f485dbc96",
   "metadata": {},
   "outputs": [
    {
     "name": "stdout",
     "output_type": "stream",
     "text": [
      "(2936730364,)\n"
     ]
    }
   ],
   "source": [
    "import numpy as np\n",
    "\n",
    "# Change edge_index list to numpy array first\n",
    "edges = np.array(edges)\n",
    "print(edges.shape)"
   ]
  },
  {
   "cell_type": "code",
   "execution_count": 7,
   "id": "d391b468-02ab-458b-9dac-115c728f67f1",
   "metadata": {},
   "outputs": [
    {
     "name": "stdout",
     "output_type": "stream",
     "text": [
      "(41652230,)\n",
      "12\n",
      "61578414\n"
     ]
    }
   ],
   "source": [
    "# Get the nodes\n",
    "nodes = np.unique(edges)\n",
    "nodes.sort()\n",
    "print(nodes.shape)\n",
    "print(nodes[0])\n",
    "print(nodes[41652229])"
   ]
  },
  {
   "cell_type": "code",
   "execution_count": 8,
   "id": "3d377335-70fd-45c7-b280-afe18b9531ac",
   "metadata": {},
   "outputs": [],
   "source": [
    "# Generate the modified node \n",
    "m_nodes=[]\n",
    "for i in range(41652230):\n",
    "    m_nodes.append(i)\n",
    "\n",
    "m_nodes = np.array(m_nodes)\n",
    "nodes = np.stack((nodes, m_nodes), axis=1)"
   ]
  },
  {
   "cell_type": "code",
   "execution_count": 9,
   "id": "36d627a7-ce63-42fe-ad81-974fe50d13d2",
   "metadata": {},
   "outputs": [
    {
     "name": "stdout",
     "output_type": "stream",
     "text": [
      "(41652230, 2)\n",
      "[12  0]\n",
      "12\n",
      "0\n"
     ]
    }
   ],
   "source": [
    "print(nodes.shape)\n",
    "print(nodes[0])\n",
    "print(nodes[0][0])\n",
    "print(nodes[0][1])"
   ]
  },
  {
   "cell_type": "code",
   "execution_count": 10,
   "id": "e68c2326-ec13-447d-b44f-6994fbcb85a6",
   "metadata": {},
   "outputs": [],
   "source": [
    "import pandas as pd\n",
    "\n",
    "# Change the edge index numpy array to DataFrame\n",
    "edges = pd.DataFrame(edges)"
   ]
  },
  {
   "cell_type": "code",
   "execution_count": null,
   "id": "94d91591-6f6b-4af0-a770-c304f3ecf0d2",
   "metadata": {},
   "outputs": [
    {
     "name": "stdout",
     "output_type": "stream",
     "text": [
      "0\n"
     ]
    }
   ],
   "source": [
    "# Change the original nodes to modified nodes\n",
    "for i in range(41652230):\n",
    "    original = nodes[i][0]\n",
    "    modified = nodes[i][1]\n",
    "    edges.replace(original, modified)\n",
    "    if i % 1000 == 0:\n",
    "        print(i)"
   ]
  },
  {
   "cell_type": "code",
   "execution_count": null,
   "id": "993e1b0d-dad6-4996-b2db-a5a07d80d6d5",
   "metadata": {},
   "outputs": [],
   "source": [
    "# Change edge_index DataFrame to numpy array again\n",
    "edges = edges.to_numpy()"
   ]
  },
  {
   "cell_type": "code",
   "execution_count": 6,
   "id": "4dc2a086",
   "metadata": {},
   "outputs": [
    {
     "name": "stdout",
     "output_type": "stream",
     "text": [
      "(2936730364,)\n",
      "(1468365182, 2)\n"
     ]
    }
   ],
   "source": [
    "# Reshape edge_index numpy array to 2-dimensional\n",
    "edges = edges.reshape(-1, 2)\n",
    "print(edges.shape)"
   ]
  },
  {
   "cell_type": "code",
   "execution_count": 10,
   "id": "a8278dd7",
   "metadata": {},
   "outputs": [
    {
     "name": "stdout",
     "output_type": "stream",
     "text": [
      "torch.Size([2405026390, 2])\n"
     ]
    }
   ],
   "source": [
    "# Make edge_index as tensor for using it on PyTorch Geometric\n",
    "# dtype should be torch.int64\n",
    "import torch_geometric\n",
    "\n",
    "edges = torch.tensor(edges, dtype=torch.int64)\n",
    "print(edges.shape)"
   ]
  },
  {
   "cell_type": "markdown",
   "id": "ab5d8a51-66d3-4ee3-a2dd-fa3508ee683f",
   "metadata": {},
   "source": [
    "### Node feature matrix"
   ]
  },
  {
   "cell_type": "code",
   "execution_count": 11,
   "id": "5ed800ac",
   "metadata": {},
   "outputs": [
    {
     "name": "stdout",
     "output_type": "stream",
     "text": [
      "666435680\n"
     ]
    }
   ],
   "source": [
    "# Make node feature matrix by our own\n",
    "# 41652230(#nodes) x 16(#features)\n",
    "import random\n",
    "\n",
    "x=[]\n",
    "tmp = []\n",
    "for i in range(41652230):\n",
    "    for j in range(16):\n",
    "        r = random.uniform(-2.5, 2.5)\n",
    "        while r in tmp:\n",
    "            r = random.uniform(-2.5, 2.5)\n",
    "        tmp.append(r)\n",
    "    x.extend(tmp)\n",
    "    tmp.clear()\n",
    "\n",
    "print(len(x))"
   ]
  },
  {
   "cell_type": "code",
   "execution_count": 12,
   "id": "93e19339",
   "metadata": {},
   "outputs": [
    {
     "name": "stdout",
     "output_type": "stream",
     "text": [
      "(666435680,)\n",
      "(41652230, 16)\n"
     ]
    }
   ],
   "source": [
    "# Change node feature matrix(list) to numpy array first\n",
    "x = np.array(x)\n",
    "print(x.shape)\n",
    "# Reshape node feature matrix(numpy array) to 2-dimensional\n",
    "x = x.reshape(-1, 16)\n",
    "print(x.shape)"
   ]
  },
  {
   "cell_type": "code",
   "execution_count": 13,
   "id": "fd5acb03",
   "metadata": {},
   "outputs": [
    {
     "name": "stdout",
     "output_type": "stream",
     "text": [
      "torch.Size([41652230, 16])\n"
     ]
    }
   ],
   "source": [
    "# Make node feature matrix as tensor for using it on PyTorch Geometric\n",
    "# dtype should be torch.float32\n",
    "x = torch.tensor(x, dtype=torch.float32)\n",
    "print(x.shape)"
   ]
  },
  {
   "cell_type": "markdown",
   "id": "0ed74e17-3b80-4e57-918f-9e59afd60e4e",
   "metadata": {},
   "source": [
    "### Ground-truth labels"
   ]
  },
  {
   "cell_type": "code",
   "execution_count": 14,
   "id": "3e95bafa",
   "metadata": {},
   "outputs": [
    {
     "name": "stdout",
     "output_type": "stream",
     "text": [
      "41652230\n"
     ]
    }
   ],
   "source": [
    "# Make ground-truth labels by our own\n",
    "y=[]\n",
    "for i in range(41652230):\n",
    "    r = random.randrange(0, 16)\n",
    "    y.append(r)\n",
    "\n",
    "print(len(y))"
   ]
  },
  {
   "cell_type": "code",
   "execution_count": 15,
   "id": "4eab8cb8",
   "metadata": {},
   "outputs": [
    {
     "name": "stdout",
     "output_type": "stream",
     "text": [
      "torch.Size([41652230])\n"
     ]
    }
   ],
   "source": [
    "# Make ground-truth lables as tensor for using it on PyTorch Geometric\n",
    "# dtype should be torch.int64\n",
    "y = torch.tensor(y, dtype=torch.int64)\n",
    "print(y.shape)"
   ]
  },
  {
   "cell_type": "markdown",
   "id": "bbaa2d76-7920-4806-aaed-38defb053fe4",
   "metadata": {},
   "source": [
    "### Make all components as PyTorch dataset"
   ]
  },
  {
   "cell_type": "code",
   "execution_count": 16,
   "id": "c3ae7056",
   "metadata": {},
   "outputs": [
    {
     "name": "stdout",
     "output_type": "stream",
     "text": [
      "Data(x=[41652230, 16], edge_index=[2, 2405026390], y=[41652230])\n"
     ]
    }
   ],
   "source": [
    "# Make node feature matrix, edge index, ground-truth labels as PyTorch Dataset\n",
    "from torch_geometric.data import Data\n",
    "data = Data(x=x, edge_index=edges.t().contiguous(), y=y)\n",
    "print(data)"
   ]
  },
  {
   "cell_type": "code",
   "execution_count": null,
   "id": "1f6614ef",
   "metadata": {},
   "outputs": [],
   "source": [
    "print('The current dataset is undirected:', data.is_undirected())"
   ]
  },
  {
   "cell_type": "markdown",
   "id": "763b50cb-0e53-49d4-bd22-80d359e8f54e",
   "metadata": {},
   "source": [
    "### Save the PyTorch dataset"
   ]
  },
  {
   "cell_type": "code",
   "execution_count": 15,
   "id": "761a0e8c",
   "metadata": {},
   "outputs": [],
   "source": [
    "torch.save(data, \"/mnt/ephemeral/gnn/dataset/Twitter/twitter.pt\")"
   ]
  },
  {
   "cell_type": "code",
   "execution_count": 4,
   "id": "896a985e",
   "metadata": {},
   "outputs": [
    {
     "name": "stdout",
     "output_type": "stream",
     "text": [
      "Data(x=[41652230, 16], edge_index=[2, 2405026390], y=[41652230])\n"
     ]
    }
   ],
   "source": [
    "data = torch.load(\"/mnt/ephemeral/gnn/dataset/Twitter/twitter.pt\")\n",
    "print(data)"
   ]
  },
  {
   "cell_type": "code",
   "execution_count": null,
   "id": "38781083-7744-4aea-ab10-8566c948e8ef",
   "metadata": {},
   "outputs": [],
   "source": []
  }
 ],
 "metadata": {
  "kernelspec": {
   "display_name": "Python 3 (ipykernel)",
   "language": "python",
   "name": "python3"
  },
  "language_info": {
   "codemirror_mode": {
    "name": "ipython",
    "version": 3
   },
   "file_extension": ".py",
   "mimetype": "text/x-python",
   "name": "python",
   "nbconvert_exporter": "python",
   "pygments_lexer": "ipython3",
   "version": "3.11.7"
  }
 },
 "nbformat": 4,
 "nbformat_minor": 5
}
